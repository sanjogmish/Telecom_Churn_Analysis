{
  "nbformat": 4,
  "nbformat_minor": 0,
  "metadata": {
    "kernelspec": {
      "display_name": "Python 3",
      "language": "python",
      "name": "python3"
    },
    "language_info": {
      "codemirror_mode": {
        "name": "ipython",
        "version": 3
      },
      "file_extension": ".py",
      "mimetype": "text/x-python",
      "name": "python",
      "nbconvert_exporter": "python",
      "pygments_lexer": "ipython3",
      "version": "3.6.6"
    },
    "colab": {
      "name": "Copy of Telecom Churn Analysis - Capstone Project.ipynb",
      "provenance": [],
      "include_colab_link": true
    }
  },
  "cells": [
    {
      "cell_type": "markdown",
      "metadata": {
        "id": "view-in-github",
        "colab_type": "text"
      },
      "source": [
        "<a href=\"https://colab.research.google.com/github/sanjogmish/Telecom_Churn_Analysis/blob/main/Copy_of_Telecom_Churn_Analysis_Capstone_Project.ipynb\" target=\"_parent\"><img src=\"https://colab.research.google.com/assets/colab-badge.svg\" alt=\"Open In Colab\"/></a>"
      ]
    },
    {
      "cell_type": "markdown",
      "metadata": {
        "id": "Y06xIdG26kRF"
      },
      "source": [
        "## <b> Orange S.A., formerly France Télécom S.A., is a French multinational telecommunications corporation. The Orange Telecom's Churn Dataset, consists of cleaned customer activity data (features), along with a churn label specifying whether a customer canceled the subscription.\n",
        "\n",
        "## <b> Explore and analyze the data to discover key factors responsible for customer churn and come up with ways/recommendations to ensure customer retention. </b>"
      ]
    },
    {
      "cell_type": "code",
      "metadata": {
        "id": "SeTBOATIkS9P"
      },
      "source": [
        ""
      ],
      "execution_count": null,
      "outputs": []
    },
    {
      "cell_type": "code",
      "metadata": {
        "colab": {
          "base_uri": "https://localhost:8080/"
        },
        "id": "LumtqzQGkvIC",
        "outputId": "6ef66ff9-f14d-42bf-c64a-3f74146b25d9"
      },
      "source": [
        "from google.colab import drive\n",
        "drive.mount('/content/drive')"
      ],
      "execution_count": 8,
      "outputs": [
        {
          "output_type": "stream",
          "text": [
            "Mounted at /content/drive\n"
          ],
          "name": "stdout"
        }
      ]
    },
    {
      "cell_type": "code",
      "metadata": {
        "id": "A6pWb5CDljxo"
      },
      "source": [
        "import pandas as pd\n",
        "import numpy as np"
      ],
      "execution_count": 9,
      "outputs": []
    },
    {
      "cell_type": "code",
      "metadata": {
        "id": "g5MCH-Q-kwCH"
      },
      "source": [
        "filepath='/content/drive/MyDrive/Almabetter/project/Telecom Churn.csv'\n",
        "df=pd.read_csv(filepath)"
      ],
      "execution_count": 10,
      "outputs": []
    },
    {
      "cell_type": "code",
      "metadata": {
        "colab": {
          "base_uri": "https://localhost:8080/",
          "height": 545
        },
        "id": "ANr4lXydlh7G",
        "outputId": "35659e38-8ede-4c21-b052-b9951301da9b"
      },
      "source": [
        "df.head(15)"
      ],
      "execution_count": 56,
      "outputs": [
        {
          "output_type": "execute_result",
          "data": {
            "text/html": [
              "<div>\n",
              "<style scoped>\n",
              "    .dataframe tbody tr th:only-of-type {\n",
              "        vertical-align: middle;\n",
              "    }\n",
              "\n",
              "    .dataframe tbody tr th {\n",
              "        vertical-align: top;\n",
              "    }\n",
              "\n",
              "    .dataframe thead th {\n",
              "        text-align: right;\n",
              "    }\n",
              "</style>\n",
              "<table border=\"1\" class=\"dataframe\">\n",
              "  <thead>\n",
              "    <tr style=\"text-align: right;\">\n",
              "      <th></th>\n",
              "      <th>State</th>\n",
              "      <th>Account length</th>\n",
              "      <th>Area code</th>\n",
              "      <th>International plan</th>\n",
              "      <th>Voice mail plan</th>\n",
              "      <th>Number vmail messages</th>\n",
              "      <th>Total day minutes</th>\n",
              "      <th>Total day calls</th>\n",
              "      <th>Total day charge</th>\n",
              "      <th>Total eve minutes</th>\n",
              "      <th>Total eve calls</th>\n",
              "      <th>Total eve charge</th>\n",
              "      <th>Total night minutes</th>\n",
              "      <th>Total night calls</th>\n",
              "      <th>Total night charge</th>\n",
              "      <th>Total intl minutes</th>\n",
              "      <th>Total intl calls</th>\n",
              "      <th>Total intl charge</th>\n",
              "      <th>Customer service calls</th>\n",
              "      <th>Churn</th>\n",
              "    </tr>\n",
              "  </thead>\n",
              "  <tbody>\n",
              "    <tr>\n",
              "      <th>0</th>\n",
              "      <td>KS</td>\n",
              "      <td>128</td>\n",
              "      <td>415</td>\n",
              "      <td>No</td>\n",
              "      <td>Yes</td>\n",
              "      <td>25</td>\n",
              "      <td>265.1</td>\n",
              "      <td>110</td>\n",
              "      <td>45.07</td>\n",
              "      <td>197.4</td>\n",
              "      <td>99</td>\n",
              "      <td>16.78</td>\n",
              "      <td>244.7</td>\n",
              "      <td>91</td>\n",
              "      <td>11.01</td>\n",
              "      <td>10.0</td>\n",
              "      <td>3</td>\n",
              "      <td>2.70</td>\n",
              "      <td>1</td>\n",
              "      <td>False</td>\n",
              "    </tr>\n",
              "    <tr>\n",
              "      <th>1</th>\n",
              "      <td>OH</td>\n",
              "      <td>107</td>\n",
              "      <td>415</td>\n",
              "      <td>No</td>\n",
              "      <td>Yes</td>\n",
              "      <td>26</td>\n",
              "      <td>161.6</td>\n",
              "      <td>123</td>\n",
              "      <td>27.47</td>\n",
              "      <td>195.5</td>\n",
              "      <td>103</td>\n",
              "      <td>16.62</td>\n",
              "      <td>254.4</td>\n",
              "      <td>103</td>\n",
              "      <td>11.45</td>\n",
              "      <td>13.7</td>\n",
              "      <td>3</td>\n",
              "      <td>3.70</td>\n",
              "      <td>1</td>\n",
              "      <td>False</td>\n",
              "    </tr>\n",
              "    <tr>\n",
              "      <th>2</th>\n",
              "      <td>NJ</td>\n",
              "      <td>137</td>\n",
              "      <td>415</td>\n",
              "      <td>No</td>\n",
              "      <td>No</td>\n",
              "      <td>0</td>\n",
              "      <td>243.4</td>\n",
              "      <td>114</td>\n",
              "      <td>41.38</td>\n",
              "      <td>121.2</td>\n",
              "      <td>110</td>\n",
              "      <td>10.30</td>\n",
              "      <td>162.6</td>\n",
              "      <td>104</td>\n",
              "      <td>7.32</td>\n",
              "      <td>12.2</td>\n",
              "      <td>5</td>\n",
              "      <td>3.29</td>\n",
              "      <td>0</td>\n",
              "      <td>False</td>\n",
              "    </tr>\n",
              "    <tr>\n",
              "      <th>3</th>\n",
              "      <td>OH</td>\n",
              "      <td>84</td>\n",
              "      <td>408</td>\n",
              "      <td>Yes</td>\n",
              "      <td>No</td>\n",
              "      <td>0</td>\n",
              "      <td>299.4</td>\n",
              "      <td>71</td>\n",
              "      <td>50.90</td>\n",
              "      <td>61.9</td>\n",
              "      <td>88</td>\n",
              "      <td>5.26</td>\n",
              "      <td>196.9</td>\n",
              "      <td>89</td>\n",
              "      <td>8.86</td>\n",
              "      <td>6.6</td>\n",
              "      <td>7</td>\n",
              "      <td>1.78</td>\n",
              "      <td>2</td>\n",
              "      <td>False</td>\n",
              "    </tr>\n",
              "    <tr>\n",
              "      <th>4</th>\n",
              "      <td>OK</td>\n",
              "      <td>75</td>\n",
              "      <td>415</td>\n",
              "      <td>Yes</td>\n",
              "      <td>No</td>\n",
              "      <td>0</td>\n",
              "      <td>166.7</td>\n",
              "      <td>113</td>\n",
              "      <td>28.34</td>\n",
              "      <td>148.3</td>\n",
              "      <td>122</td>\n",
              "      <td>12.61</td>\n",
              "      <td>186.9</td>\n",
              "      <td>121</td>\n",
              "      <td>8.41</td>\n",
              "      <td>10.1</td>\n",
              "      <td>3</td>\n",
              "      <td>2.73</td>\n",
              "      <td>3</td>\n",
              "      <td>False</td>\n",
              "    </tr>\n",
              "    <tr>\n",
              "      <th>5</th>\n",
              "      <td>AL</td>\n",
              "      <td>118</td>\n",
              "      <td>510</td>\n",
              "      <td>Yes</td>\n",
              "      <td>No</td>\n",
              "      <td>0</td>\n",
              "      <td>223.4</td>\n",
              "      <td>98</td>\n",
              "      <td>37.98</td>\n",
              "      <td>220.6</td>\n",
              "      <td>101</td>\n",
              "      <td>18.75</td>\n",
              "      <td>203.9</td>\n",
              "      <td>118</td>\n",
              "      <td>9.18</td>\n",
              "      <td>6.3</td>\n",
              "      <td>6</td>\n",
              "      <td>1.70</td>\n",
              "      <td>0</td>\n",
              "      <td>False</td>\n",
              "    </tr>\n",
              "    <tr>\n",
              "      <th>6</th>\n",
              "      <td>MA</td>\n",
              "      <td>121</td>\n",
              "      <td>510</td>\n",
              "      <td>No</td>\n",
              "      <td>Yes</td>\n",
              "      <td>24</td>\n",
              "      <td>218.2</td>\n",
              "      <td>88</td>\n",
              "      <td>37.09</td>\n",
              "      <td>348.5</td>\n",
              "      <td>108</td>\n",
              "      <td>29.62</td>\n",
              "      <td>212.6</td>\n",
              "      <td>118</td>\n",
              "      <td>9.57</td>\n",
              "      <td>7.5</td>\n",
              "      <td>7</td>\n",
              "      <td>2.03</td>\n",
              "      <td>3</td>\n",
              "      <td>False</td>\n",
              "    </tr>\n",
              "    <tr>\n",
              "      <th>7</th>\n",
              "      <td>MO</td>\n",
              "      <td>147</td>\n",
              "      <td>415</td>\n",
              "      <td>Yes</td>\n",
              "      <td>No</td>\n",
              "      <td>0</td>\n",
              "      <td>157.0</td>\n",
              "      <td>79</td>\n",
              "      <td>26.69</td>\n",
              "      <td>103.1</td>\n",
              "      <td>94</td>\n",
              "      <td>8.76</td>\n",
              "      <td>211.8</td>\n",
              "      <td>96</td>\n",
              "      <td>9.53</td>\n",
              "      <td>7.1</td>\n",
              "      <td>6</td>\n",
              "      <td>1.92</td>\n",
              "      <td>0</td>\n",
              "      <td>False</td>\n",
              "    </tr>\n",
              "    <tr>\n",
              "      <th>8</th>\n",
              "      <td>LA</td>\n",
              "      <td>117</td>\n",
              "      <td>408</td>\n",
              "      <td>No</td>\n",
              "      <td>No</td>\n",
              "      <td>0</td>\n",
              "      <td>184.5</td>\n",
              "      <td>97</td>\n",
              "      <td>31.37</td>\n",
              "      <td>351.6</td>\n",
              "      <td>80</td>\n",
              "      <td>29.89</td>\n",
              "      <td>215.8</td>\n",
              "      <td>90</td>\n",
              "      <td>9.71</td>\n",
              "      <td>8.7</td>\n",
              "      <td>4</td>\n",
              "      <td>2.35</td>\n",
              "      <td>1</td>\n",
              "      <td>False</td>\n",
              "    </tr>\n",
              "    <tr>\n",
              "      <th>9</th>\n",
              "      <td>WV</td>\n",
              "      <td>141</td>\n",
              "      <td>415</td>\n",
              "      <td>Yes</td>\n",
              "      <td>Yes</td>\n",
              "      <td>37</td>\n",
              "      <td>258.6</td>\n",
              "      <td>84</td>\n",
              "      <td>43.96</td>\n",
              "      <td>222.0</td>\n",
              "      <td>111</td>\n",
              "      <td>18.87</td>\n",
              "      <td>326.4</td>\n",
              "      <td>97</td>\n",
              "      <td>14.69</td>\n",
              "      <td>11.2</td>\n",
              "      <td>5</td>\n",
              "      <td>3.02</td>\n",
              "      <td>0</td>\n",
              "      <td>False</td>\n",
              "    </tr>\n",
              "    <tr>\n",
              "      <th>10</th>\n",
              "      <td>IN</td>\n",
              "      <td>65</td>\n",
              "      <td>415</td>\n",
              "      <td>No</td>\n",
              "      <td>No</td>\n",
              "      <td>0</td>\n",
              "      <td>129.1</td>\n",
              "      <td>137</td>\n",
              "      <td>21.95</td>\n",
              "      <td>228.5</td>\n",
              "      <td>83</td>\n",
              "      <td>19.42</td>\n",
              "      <td>208.8</td>\n",
              "      <td>111</td>\n",
              "      <td>9.40</td>\n",
              "      <td>12.7</td>\n",
              "      <td>6</td>\n",
              "      <td>3.43</td>\n",
              "      <td>4</td>\n",
              "      <td>True</td>\n",
              "    </tr>\n",
              "    <tr>\n",
              "      <th>11</th>\n",
              "      <td>RI</td>\n",
              "      <td>74</td>\n",
              "      <td>415</td>\n",
              "      <td>No</td>\n",
              "      <td>No</td>\n",
              "      <td>0</td>\n",
              "      <td>187.7</td>\n",
              "      <td>127</td>\n",
              "      <td>31.91</td>\n",
              "      <td>163.4</td>\n",
              "      <td>148</td>\n",
              "      <td>13.89</td>\n",
              "      <td>196.0</td>\n",
              "      <td>94</td>\n",
              "      <td>8.82</td>\n",
              "      <td>9.1</td>\n",
              "      <td>5</td>\n",
              "      <td>2.46</td>\n",
              "      <td>0</td>\n",
              "      <td>False</td>\n",
              "    </tr>\n",
              "    <tr>\n",
              "      <th>12</th>\n",
              "      <td>IA</td>\n",
              "      <td>168</td>\n",
              "      <td>408</td>\n",
              "      <td>No</td>\n",
              "      <td>No</td>\n",
              "      <td>0</td>\n",
              "      <td>128.8</td>\n",
              "      <td>96</td>\n",
              "      <td>21.90</td>\n",
              "      <td>104.9</td>\n",
              "      <td>71</td>\n",
              "      <td>8.92</td>\n",
              "      <td>141.1</td>\n",
              "      <td>128</td>\n",
              "      <td>6.35</td>\n",
              "      <td>11.2</td>\n",
              "      <td>2</td>\n",
              "      <td>3.02</td>\n",
              "      <td>1</td>\n",
              "      <td>False</td>\n",
              "    </tr>\n",
              "    <tr>\n",
              "      <th>13</th>\n",
              "      <td>MT</td>\n",
              "      <td>95</td>\n",
              "      <td>510</td>\n",
              "      <td>No</td>\n",
              "      <td>No</td>\n",
              "      <td>0</td>\n",
              "      <td>156.6</td>\n",
              "      <td>88</td>\n",
              "      <td>26.62</td>\n",
              "      <td>247.6</td>\n",
              "      <td>75</td>\n",
              "      <td>21.05</td>\n",
              "      <td>192.3</td>\n",
              "      <td>115</td>\n",
              "      <td>8.65</td>\n",
              "      <td>12.3</td>\n",
              "      <td>5</td>\n",
              "      <td>3.32</td>\n",
              "      <td>3</td>\n",
              "      <td>False</td>\n",
              "    </tr>\n",
              "    <tr>\n",
              "      <th>14</th>\n",
              "      <td>IA</td>\n",
              "      <td>62</td>\n",
              "      <td>415</td>\n",
              "      <td>No</td>\n",
              "      <td>No</td>\n",
              "      <td>0</td>\n",
              "      <td>120.7</td>\n",
              "      <td>70</td>\n",
              "      <td>20.52</td>\n",
              "      <td>307.2</td>\n",
              "      <td>76</td>\n",
              "      <td>26.11</td>\n",
              "      <td>203.0</td>\n",
              "      <td>99</td>\n",
              "      <td>9.14</td>\n",
              "      <td>13.1</td>\n",
              "      <td>6</td>\n",
              "      <td>3.54</td>\n",
              "      <td>4</td>\n",
              "      <td>False</td>\n",
              "    </tr>\n",
              "  </tbody>\n",
              "</table>\n",
              "</div>"
            ],
            "text/plain": [
              "   State  Account length  ...  Customer service calls  Churn\n",
              "0     KS             128  ...                       1  False\n",
              "1     OH             107  ...                       1  False\n",
              "2     NJ             137  ...                       0  False\n",
              "3     OH              84  ...                       2  False\n",
              "4     OK              75  ...                       3  False\n",
              "5     AL             118  ...                       0  False\n",
              "6     MA             121  ...                       3  False\n",
              "7     MO             147  ...                       0  False\n",
              "8     LA             117  ...                       1  False\n",
              "9     WV             141  ...                       0  False\n",
              "10    IN              65  ...                       4   True\n",
              "11    RI              74  ...                       0  False\n",
              "12    IA             168  ...                       1  False\n",
              "13    MT              95  ...                       3  False\n",
              "14    IA              62  ...                       4  False\n",
              "\n",
              "[15 rows x 20 columns]"
            ]
          },
          "metadata": {
            "tags": []
          },
          "execution_count": 56
        }
      ]
    },
    {
      "cell_type": "code",
      "metadata": {
        "colab": {
          "base_uri": "https://localhost:8080/"
        },
        "id": "0W3GaMDElq1o",
        "outputId": "36da7c48-44ef-4c84-cec8-cc31fe7306aa"
      },
      "source": [
        "df.info()"
      ],
      "execution_count": 12,
      "outputs": [
        {
          "output_type": "stream",
          "text": [
            "<class 'pandas.core.frame.DataFrame'>\n",
            "RangeIndex: 3333 entries, 0 to 3332\n",
            "Data columns (total 20 columns):\n",
            " #   Column                  Non-Null Count  Dtype  \n",
            "---  ------                  --------------  -----  \n",
            " 0   State                   3333 non-null   object \n",
            " 1   Account length          3333 non-null   int64  \n",
            " 2   Area code               3333 non-null   int64  \n",
            " 3   International plan      3333 non-null   object \n",
            " 4   Voice mail plan         3333 non-null   object \n",
            " 5   Number vmail messages   3333 non-null   int64  \n",
            " 6   Total day minutes       3333 non-null   float64\n",
            " 7   Total day calls         3333 non-null   int64  \n",
            " 8   Total day charge        3333 non-null   float64\n",
            " 9   Total eve minutes       3333 non-null   float64\n",
            " 10  Total eve calls         3333 non-null   int64  \n",
            " 11  Total eve charge        3333 non-null   float64\n",
            " 12  Total night minutes     3333 non-null   float64\n",
            " 13  Total night calls       3333 non-null   int64  \n",
            " 14  Total night charge      3333 non-null   float64\n",
            " 15  Total intl minutes      3333 non-null   float64\n",
            " 16  Total intl calls        3333 non-null   int64  \n",
            " 17  Total intl charge       3333 non-null   float64\n",
            " 18  Customer service calls  3333 non-null   int64  \n",
            " 19  Churn                   3333 non-null   bool   \n",
            "dtypes: bool(1), float64(8), int64(8), object(3)\n",
            "memory usage: 498.1+ KB\n"
          ],
          "name": "stdout"
        }
      ]
    },
    {
      "cell_type": "code",
      "metadata": {
        "colab": {
          "base_uri": "https://localhost:8080/"
        },
        "id": "Am10NOxNorEn",
        "outputId": "a8f05891-9d69-4c28-f391-5adada86bd4f"
      },
      "source": [
        "type(df['State'][0])"
      ],
      "execution_count": 13,
      "outputs": [
        {
          "output_type": "execute_result",
          "data": {
            "text/plain": [
              "str"
            ]
          },
          "metadata": {
            "tags": []
          },
          "execution_count": 13
        }
      ]
    },
    {
      "cell_type": "code",
      "metadata": {
        "id": "MNJHnCtHo3vs"
      },
      "source": [
        "import matplotlib.pyplot as plt\n",
        "%matplotlib inline"
      ],
      "execution_count": 14,
      "outputs": []
    },
    {
      "cell_type": "code",
      "metadata": {
        "id": "kCe5mrLCquer"
      },
      "source": [
        "import seaborn as sns"
      ],
      "execution_count": 15,
      "outputs": []
    },
    {
      "cell_type": "code",
      "metadata": {
        "colab": {
          "base_uri": "https://localhost:8080/",
          "height": 491
        },
        "id": "zWnifmaWsx5A",
        "outputId": "508dda6e-8c95-4e6f-f99c-fcbaf2dc7a9d"
      },
      "source": [
        "sns.jointplot(x='Churn', y='International plan', data=df)"
      ],
      "execution_count": 16,
      "outputs": [
        {
          "output_type": "stream",
          "text": [
            "<string>:6: RuntimeWarning: Converting input from bool to <class 'numpy.uint8'> for compatibility.\n",
            "<string>:6: RuntimeWarning: Converting input from bool to <class 'numpy.uint8'> for compatibility.\n"
          ],
          "name": "stderr"
        },
        {
          "output_type": "execute_result",
          "data": {
            "text/plain": [
              "<seaborn.axisgrid.JointGrid at 0x7f01294ba110>"
            ]
          },
          "metadata": {
            "tags": []
          },
          "execution_count": 16
        },
        {
          "output_type": "display_data",
          "data": {
            "image/png": "[encoded data removed]",
            "text/plain": [
              "<Figure size 432x432 with 3 Axes>"
            ]
          },
          "metadata": {
            "tags": [],
            "needs_background": "light"
          }
        }
      ]
    },
    {
      "cell_type": "code",
      "metadata": {
        "colab": {
          "base_uri": "https://localhost:8080/"
        },
        "id": "ux4nQm9ftXm3",
        "outputId": "b73a88b1-6576-4cf2-847a-83ab87b720e9"
      },
      "source": [
        "df.groupby('International plan')['Churn'].value_counts()"
      ],
      "execution_count": 17,
      "outputs": [
        {
          "output_type": "execute_result",
          "data": {
            "text/plain": [
              "International plan  Churn\n",
              "No                  False    2664\n",
              "                    True      346\n",
              "Yes                 False     186\n",
              "                    True      137\n",
              "Name: Churn, dtype: int64"
            ]
          },
          "metadata": {
            "tags": []
          },
          "execution_count": 17
        }
      ]
    },
    {
      "cell_type": "code",
      "metadata": {
        "id": "ytfcV9NKuBd0"
      },
      "source": [
        "df1=df.groupby('Number vmail messages')['Churn'].value_counts()"
      ],
      "execution_count": 18,
      "outputs": []
    },
    {
      "cell_type": "code",
      "metadata": {
        "colab": {
          "base_uri": "https://localhost:8080/",
          "height": 762
        },
        "id": "A6vk1Fmpu3rd",
        "outputId": "edb2aa02-6556-45b2-ef3f-17063067ebc4"
      },
      "source": [
        "plt.rcParams['figure.figsize'] = (40, 20)\n",
        "df1.plot(kind='bar')"
      ],
      "execution_count": 19,
      "outputs": [
        {
          "output_type": "execute_result",
          "data": {
            "text/plain": [
              "<matplotlib.axes._subplots.AxesSubplot at 0x7f011f37fd50>"
            ]
          },
          "metadata": {
            "tags": []
          },
          "execution_count": 19
        },
        {
          "output_type": "display_data",
          "data": {
            "image/png": "[encoded data removed]",
            "text/plain": [
              "<Figure size 2880x1440 with 1 Axes>"
            ]
          },
          "metadata": {
            "tags": [],
            "needs_background": "light"
          }
        }
      ]
    },
    {
      "cell_type": "code",
      "metadata": {
        "colab": {
          "base_uri": "https://localhost:8080/"
        },
        "id": "BjHfxKAEw0qo",
        "outputId": "92402b65-00fa-4dee-f50c-03a3aefedbd2"
      },
      "source": [
        "df.groupby('Area code')['Churn'].value_counts()"
      ],
      "execution_count": 20,
      "outputs": [
        {
          "output_type": "execute_result",
          "data": {
            "text/plain": [
              "Area code  Churn\n",
              "408        False     716\n",
              "           True      122\n",
              "415        False    1419\n",
              "           True      236\n",
              "510        False     715\n",
              "           True      125\n",
              "Name: Churn, dtype: int64"
            ]
          },
          "metadata": {
            "tags": []
          },
          "execution_count": 20
        }
      ]
    },
    {
      "cell_type": "code",
      "metadata": {
        "colab": {
          "base_uri": "https://localhost:8080/"
        },
        "id": "PQH--yKLT9qq",
        "outputId": "90433347-3731-4e79-9f1a-d51dbc8678bb"
      },
      "source": [
        "df['Total day calls'].describe()"
      ],
      "execution_count": 21,
      "outputs": [
        {
          "output_type": "execute_result",
          "data": {
            "text/plain": [
              "count    3333.000000\n",
              "mean      100.435644\n",
              "std        20.069084\n",
              "min         0.000000\n",
              "25%        87.000000\n",
              "50%       101.000000\n",
              "75%       114.000000\n",
              "max       165.000000\n",
              "Name: Total day calls, dtype: float64"
            ]
          },
          "metadata": {
            "tags": []
          },
          "execution_count": 21
        }
      ]
    },
    {
      "cell_type": "code",
      "metadata": {
        "colab": {
          "base_uri": "https://localhost:8080/"
        },
        "id": "TzgkpTDvA7NS",
        "outputId": "c41000fc-d87d-4365-93bf-b690a666d267"
      },
      "source": [
        "for i in list(df.columns):\n",
        "  print(i)\n",
        "  print(df.groupby('Churn')[i].describe())"
      ],
      "execution_count": 22,
      "outputs": [
        {
          "output_type": "stream",
          "text": [
            "State\n",
            "      count unique top freq\n",
            "Churn                      \n",
            "False  2850     51  WV   96\n",
            "True    483     51  TX   18\n",
            "Account length\n",
            "        count        mean       std  min   25%    50%    75%    max\n",
            "Churn                                                              \n",
            "False  2850.0  100.793684  39.88235  1.0  73.0  100.0  127.0  243.0\n",
            "True    483.0  102.664596  39.46782  1.0  76.0  103.0  127.0  225.0\n",
            "Area code\n",
            "        count        mean        std    min    25%    50%    75%    max\n",
            "Churn                                                                  \n",
            "False  2850.0  437.074737  42.306156  408.0  408.0  415.0  510.0  510.0\n",
            "True    483.0  437.817805  42.792270  408.0  408.0  415.0  510.0  510.0\n",
            "International plan\n",
            "      count unique top  freq\n",
            "Churn                       \n",
            "False  2850      2  No  2664\n",
            "True    483      2  No   346\n",
            "Voice mail plan\n",
            "      count unique top  freq\n",
            "Churn                       \n",
            "False  2850      2  No  2008\n",
            "True    483      2  No   403\n",
            "Number vmail messages\n",
            "        count      mean        std  min  25%  50%   75%   max\n",
            "Churn                                                        \n",
            "False  2850.0  8.604561  13.913125  0.0  0.0  0.0  22.0  51.0\n",
            "True    483.0  5.115942  11.860138  0.0  0.0  0.0   0.0  48.0\n",
            "Total day minutes\n",
            "        count        mean        std  min      25%    50%     75%    max\n",
            "Churn                                                                   \n",
            "False  2850.0  175.175754  50.181655  0.0  142.825  177.2  210.30  315.6\n",
            "True    483.0  206.914079  68.997792  0.0  153.250  217.6  265.95  350.8\n",
            "Total day calls\n",
            "        count        mean        std  min   25%    50%    75%    max\n",
            "Churn                                                               \n",
            "False  2850.0  100.283158  19.801157  0.0  87.0  100.0  114.0  163.0\n",
            "True    483.0  101.335404  21.582307  0.0  87.5  103.0  116.5  165.0\n",
            "Total day charge\n",
            "        count       mean        std  min      25%    50%    75%    max\n",
            "Churn                                                                 \n",
            "False  2850.0  29.780421   8.530835  0.0  24.2825  30.12  35.75  53.65\n",
            "True    483.0  35.175921  11.729710  0.0  26.0550  36.99  45.21  59.64\n",
            "Total eve minutes\n",
            "        count        mean        std   min    25%    50%     75%    max\n",
            "Churn                                                                  \n",
            "False  2850.0  199.043298  50.292175   0.0  164.5  199.6  233.20  361.8\n",
            "True    483.0  212.410145  51.728910  70.9  177.1  211.3  249.45  363.7\n",
            "Total eve calls\n",
            "        count        mean        std   min   25%    50%    75%    max\n",
            "Churn                                                                \n",
            "False  2850.0  100.038596  19.958414   0.0  87.0  100.0  114.0  170.0\n",
            "True    483.0  100.561077  19.724711  48.0  87.0  101.0  114.0  168.0\n",
            "Total eve charge\n",
            "        count       mean       std   min     25%    50%     75%    max\n",
            "Churn                                                                 \n",
            "False  2850.0  16.918909  4.274863  0.00  13.980  16.97  19.820  30.75\n",
            "True    483.0  18.054969  4.396762  6.03  15.055  17.96  21.205  30.91\n",
            "Total night minutes\n",
            "        count        mean        std   min     25%     50%     75%    max\n",
            "Churn                                                                    \n",
            "False  2850.0  200.133193  51.105032  23.2  165.90  200.25  234.90  395.0\n",
            "True    483.0  205.231677  47.132825  47.4  171.25  204.80  239.85  354.9\n",
            "Total night calls\n",
            "        count        mean        std   min   25%    50%    75%    max\n",
            "Churn                                                                \n",
            "False  2850.0  100.058246  19.506246  33.0  87.0  100.0  113.0  175.0\n",
            "True    483.0  100.399586  19.950659  49.0  85.0  100.0  115.0  158.0\n",
            "Total night charge\n",
            "        count      mean       std   min    25%   50%     75%    max\n",
            "Churn                                                              \n",
            "False  2850.0  9.006074  2.299768  1.04  7.470  9.01  10.570  17.77\n",
            "True    483.0  9.235528  2.121081  2.13  7.705  9.22  10.795  15.97\n",
            "Total intl minutes\n",
            "        count       mean       std  min  25%   50%   75%   max\n",
            "Churn                                                         \n",
            "False  2850.0  10.158877  2.784489  0.0  8.4  10.2  12.0  18.9\n",
            "True    483.0  10.700000  2.793190  2.0  8.8  10.6  12.8  20.0\n",
            "Total intl calls\n",
            "        count      mean       std  min  25%  50%  75%   max\n",
            "Churn                                                      \n",
            "False  2850.0  4.532982  2.441984  0.0  3.0  4.0  6.0  19.0\n",
            "True    483.0  4.163561  2.551575  1.0  2.0  4.0  5.0  20.0\n",
            "Total intl charge\n",
            "        count      mean       std   min   25%   50%   75%  max\n",
            "Churn                                                         \n",
            "False  2850.0  2.743404  0.751784  0.00  2.27  2.75  3.24  5.1\n",
            "True    483.0  2.889545  0.754152  0.54  2.38  2.86  3.46  5.4\n",
            "Customer service calls\n",
            "        count      mean       std  min  25%  50%  75%  max\n",
            "Churn                                                     \n",
            "False  2850.0  1.449825  1.163883  0.0  1.0  1.0  2.0  8.0\n",
            "True    483.0  2.229814  1.853275  0.0  1.0  2.0  4.0  9.0\n",
            "Churn\n",
            "      count unique    top  freq\n",
            "Churn                          \n",
            "False  2850      1  False  2850\n",
            "True    483      1   True   483\n"
          ],
          "name": "stdout"
        }
      ]
    },
    {
      "cell_type": "code",
      "metadata": {
        "colab": {
          "base_uri": "https://localhost:8080/"
        },
        "id": "wYK1wroBTtQf",
        "outputId": "b5e120a0-cacf-4e10-9ec6-22a75f5f9874"
      },
      "source": [
        "for i in list(df.columns[1:]):\n",
        "  print(i)\n",
        "  print(df.groupby('State')[i].describe())"
      ],
      "execution_count": 23,
      "outputs": [
        {
          "output_type": "stream",
          "text": [
            "Account length\n",
            "       count        mean        std   min    25%    50%     75%    max\n",
            "State                                                                 \n",
            "AK      52.0   97.192308  38.300176   1.0  60.50  102.0  126.25  177.0\n",
            "AL      80.0   98.025000  41.539969   8.0  72.75   95.0  121.25  200.0\n",
            "AR      55.0   96.981818  37.007252   5.0  76.50   98.0  116.00  185.0\n",
            "AZ      64.0  100.468750  32.263778  12.0  82.75   97.0  122.50  192.0\n",
            "CA      34.0   99.235294  33.738800  33.0  77.50   95.5  119.00  185.0\n",
            "CO      66.0  102.545455  37.815822  22.0  74.50  103.5  127.25  192.0\n",
            "CT      74.0   99.040541  42.682465   3.0  72.25   99.0  124.75  212.0\n",
            "DC      54.0  105.722222  40.380463  11.0  77.00  105.5  134.50  217.0\n",
            "DE      61.0  101.918033  36.480266   2.0  80.00   99.0  122.00  224.0\n",
            "FL      63.0  109.571429  32.525283  22.0  91.50  109.0  130.00  185.0\n",
            "GA      54.0  103.592593  41.512680  18.0  73.25   98.0  131.75  202.0\n",
            "HI      53.0  105.471698  39.992116   3.0  87.00  105.0  132.00  190.0\n",
            "IA      44.0   94.318182  41.270955   1.0  63.75   90.5  126.50  197.0\n",
            "ID      73.0  104.493151  37.965673  24.0  82.00   99.0  122.00  224.0\n",
            "IL      58.0  100.517241  40.041313  16.0  71.75   90.5  133.25  183.0\n",
            "IN      71.0  100.183099  35.821506   7.0  76.50  100.0  118.00  205.0\n",
            "KS      70.0  106.785714  36.029735  24.0  80.25  110.0  129.50  186.0\n",
            "KY      59.0   91.830508  31.779495  21.0  71.50   91.0  112.50  172.0\n",
            "LA      51.0  108.235294  41.334048   9.0  88.00  111.0  141.00  179.0\n",
            "MA      65.0   91.861538  35.411808  13.0  67.00   93.0  121.00  166.0\n",
            "MD      70.0  105.271429  39.035072  18.0  79.00  106.0  129.75  204.0\n",
            "ME      62.0   97.629032  46.705998  19.0  63.00   98.0  128.25  205.0\n",
            "MI      73.0   98.109589  37.200120  30.0  70.00   97.0  126.00  225.0\n",
            "MN      84.0  101.571429  41.309086  13.0  64.25  100.5  132.50  186.0\n",
            "MO      63.0   98.619048  43.412288   6.0  73.00  101.0  127.00  196.0\n",
            "MS      65.0   99.907692  41.665604   1.0  70.00  103.0  126.00  193.0\n",
            "MT      68.0   92.676471  42.418118  10.0  60.00   96.5  121.75  185.0\n",
            "NC      68.0  104.779412  41.059784  26.0  73.75  108.0  127.00  210.0\n",
            "ND      62.0  106.209677  41.611449  12.0  76.00  104.5  135.75  190.0\n",
            "NE      61.0   98.721311  38.750540  21.0  73.00   92.0  126.00  194.0\n",
            "NH      56.0  101.875000  36.238133  13.0  81.75  104.0  124.25  174.0\n",
            "NJ      68.0  100.205882  39.445621   1.0  73.50   98.0  129.50  197.0\n",
            "NM      62.0  104.370968  45.704408  16.0  67.25  104.5  132.00  232.0\n",
            "NV      66.0  102.803030  41.169152   3.0  77.25  105.0  129.75  183.0\n",
            "NY      83.0  100.698795  46.897848   9.0  64.50  104.0  134.00  209.0\n",
            "OH      78.0  102.153846  34.181744  29.0  75.00   99.0  132.75  169.0\n",
            "OK      61.0  108.262295  42.462494  15.0  84.00  104.0  146.00  194.0\n",
            "OR      78.0  101.166667  44.424287   6.0  67.50   98.0  135.75  190.0\n",
            "PA      45.0  104.044444  33.491488  28.0  82.00  101.0  128.00  176.0\n",
            "RI      65.0  101.907692  37.082983  17.0  75.00  107.0  125.00  190.0\n",
            "SC      60.0   97.016667  43.621054   1.0  77.75   99.5  112.50  212.0\n",
            "SD      60.0  105.450000  41.092053  20.0  86.75  104.5  128.00  221.0\n",
            "TN      53.0   92.716981  41.252215   1.0  68.00   99.0  120.00  196.0\n",
            "TX      72.0   97.541667  44.562328   1.0  70.00   90.0  125.25  217.0\n",
            "UT      72.0  100.958333  43.311332   4.0  72.75   96.0  118.75  243.0\n",
            "VA      77.0  105.935065  41.455219  10.0  84.00  108.0  136.00  210.0\n",
            "VT      73.0  104.424658  35.091514  38.0  75.00  101.0  128.00  195.0\n",
            "WA      66.0  102.060606  41.403411  13.0  67.25  103.5  133.50  184.0\n",
            "WI      78.0   98.884615  36.227987  16.0  72.25   94.5  122.75  184.0\n",
            "WV     106.0   95.433962  39.983096  11.0  67.00   92.5  124.00  191.0\n",
            "WY      77.0  105.740260  42.872333  16.0  78.00  104.0  129.00  225.0\n",
            "Area code\n",
            "       count        mean        std    min     25%    50%     75%    max\n",
            "State                                                                   \n",
            "AK      52.0  438.692308  43.801486  408.0  408.00  415.0  510.00  510.0\n",
            "AL      80.0  430.625000  38.495232  408.0  408.00  415.0  415.00  510.0\n",
            "AR      55.0  439.254545  43.812825  408.0  415.00  415.0  510.00  510.0\n",
            "AZ      64.0  432.656250  39.462346  408.0  415.00  415.0  415.00  510.0\n",
            "CA      34.0  441.500000  44.963453  408.0  415.00  415.0  510.00  510.0\n",
            "CO      66.0  429.621212  38.313591  408.0  408.00  415.0  415.00  510.0\n",
            "CT      74.0  429.608108  37.491850  408.0  408.00  415.0  415.00  510.0\n",
            "DC      54.0  436.055556  42.129816  408.0  409.75  415.0  415.00  510.0\n",
            "DE      61.0  439.983607  43.967220  408.0  415.00  415.0  510.00  510.0\n",
            "FL      63.0  443.825397  45.568290  408.0  415.00  415.0  510.00  510.0\n",
            "GA      54.0  444.722222  46.678514  408.0  408.00  415.0  510.00  510.0\n",
            "HI      53.0  427.358491  35.311849  408.0  408.00  415.0  415.00  510.0\n",
            "IA      44.0  448.272727  47.269816  408.0  415.00  415.0  510.00  510.0\n",
            "ID      73.0  439.876712  43.447269  408.0  415.00  415.0  510.00  510.0\n",
            "IL      58.0  437.758621  43.137605  408.0  409.75  415.0  486.25  510.0\n",
            "IN      71.0  439.985915  44.248807  408.0  411.50  415.0  510.00  510.0\n",
            "KS      70.0  442.300000  44.712074  408.0  415.00  415.0  510.00  510.0\n",
            "KY      59.0  432.542373  39.583749  408.0  411.50  415.0  415.00  510.0\n",
            "LA      51.0  433.705882  40.513353  408.0  411.50  415.0  415.00  510.0\n",
            "MA      65.0  429.953846  38.515594  408.0  408.00  415.0  415.00  510.0\n",
            "MD      70.0  433.757143  40.204346  408.0  415.00  415.0  415.00  510.0\n",
            "ME      62.0  447.016129  47.171293  408.0  415.00  415.0  510.00  510.0\n",
            "MI      73.0  442.479452  44.723567  408.0  415.00  415.0  510.00  510.0\n",
            "MN      84.0  440.476190  44.323693  408.0  415.00  415.0  510.00  510.0\n",
            "MO      63.0  429.920635  37.240414  408.0  415.00  415.0  415.00  510.0\n",
            "MS      65.0  441.153846  44.677396  408.0  415.00  415.0  510.00  510.0\n",
            "MT      68.0  437.000000  42.557424  408.0  413.25  415.0  438.75  510.0\n",
            "NC      68.0  433.382353  41.180719  408.0  408.00  415.0  415.00  510.0\n",
            "ND      62.0  435.838710  42.345648  408.0  408.00  415.0  415.00  510.0\n",
            "NE      61.0  435.311475  41.194879  408.0  415.00  415.0  415.00  510.0\n",
            "NH      56.0  432.232143  41.097662  408.0  408.00  415.0  415.00  510.0\n",
            "NJ      68.0  440.000000  43.999661  408.0  415.00  415.0  510.00  510.0\n",
            "NM      62.0  430.048387  37.551900  408.0  409.75  415.0  415.00  510.0\n",
            "NV      66.0  439.424242  43.635575  408.0  415.00  415.0  510.00  510.0\n",
            "NY      83.0  432.855422  39.492862  408.0  415.00  415.0  415.00  510.0\n",
            "OH      78.0  432.512821  39.732137  408.0  408.00  415.0  415.00  510.0\n",
            "OK      61.0  439.524590  44.266092  408.0  408.00  415.0  510.00  510.0\n",
            "OR      78.0  438.102564  42.572349  408.0  415.00  415.0  486.25  510.0\n",
            "PA      45.0  438.155556  43.915702  408.0  408.00  415.0  510.00  510.0\n",
            "RI      65.0  440.015385  43.725526  408.0  415.00  415.0  510.00  510.0\n",
            "SC      60.0  440.400000  44.216800  408.0  415.00  415.0  510.00  510.0\n",
            "SD      60.0  438.466667  43.597336  408.0  408.00  415.0  510.00  510.0\n",
            "TN      53.0  435.056604  41.025046  408.0  415.00  415.0  415.00  510.0\n",
            "TX      72.0  432.847222  39.968530  408.0  408.00  415.0  415.00  510.0\n",
            "UT      72.0  444.180556  45.479395  408.0  415.00  415.0  510.00  510.0\n",
            "VA      77.0  433.701299  40.994244  408.0  408.00  415.0  415.00  510.0\n",
            "VT      73.0  439.397260  43.760948  408.0  415.00  415.0  510.00  510.0\n",
            "WA      66.0  437.030303  43.415690  408.0  408.00  415.0  486.25  510.0\n",
            "WI      78.0  438.602564  43.715533  408.0  408.00  415.0  510.00  510.0\n",
            "WV     106.0  444.150943  45.539474  408.0  415.00  415.0  510.00  510.0\n",
            "WY      77.0  436.896104  42.207378  408.0  415.00  415.0  415.00  510.0\n",
            "International plan\n",
            "      count unique top freq\n",
            "State                      \n",
            "AK       52      2  No   48\n",
            "AL       80      2  No   72\n",
            "AR       55      2  No   47\n",
            "AZ       64      2  No   61\n",
            "CA       34      2  No   30\n",
            "CO       66      2  No   62\n",
            "CT       74      2  No   66\n",
            "DC       54      2  No   49\n",
            "DE       61      2  No   51\n",
            "FL       63      2  No   55\n",
            "GA       54      2  No   50\n",
            "HI       53      2  No   50\n",
            "IA       44      1  No   44\n",
            "ID       73      2  No   67\n",
            "IL       58      2  No   43\n",
            "IN       71      2  No   68\n",
            "KS       70      2  No   62\n",
            "KY       59      2  No   55\n",
            "LA       51      2  No   50\n",
            "MA       65      2  No   57\n",
            "MD       70      2  No   60\n",
            "ME       62      2  No   56\n",
            "MI       73      2  No   64\n",
            "MN       84      2  No   76\n",
            "MO       63      2  No   57\n",
            "MS       65      2  No   57\n",
            "MT       68      2  No   66\n",
            "NC       68      2  No   57\n",
            "ND       62      2  No   54\n",
            "NE       61      2  No   58\n",
            "NH       56      2  No   52\n",
            "NJ       68      2  No   62\n",
            "NM       62      2  No   57\n",
            "NV       66      2  No   57\n",
            "NY       83      2  No   75\n",
            "OH       78      2  No   69\n",
            "OK       61      2  No   56\n",
            "OR       78      2  No   71\n",
            "PA       45      2  No   39\n",
            "RI       65      2  No   55\n",
            "SC       60      2  No   58\n",
            "SD       60      2  No   55\n",
            "TN       53      2  No   47\n",
            "TX       72      2  No   66\n",
            "UT       72      2  No   66\n",
            "VA       77      2  No   68\n",
            "VT       73      2  No   67\n",
            "WA       66      2  No   62\n",
            "WI       78      2  No   70\n",
            "WV      106      2  No   99\n",
            "WY       77      2  No   67\n",
            "Voice mail plan\n",
            "      count unique top freq\n",
            "State                      \n",
            "AK       52      2  No   36\n",
            "AL       80      2  No   59\n",
            "AR       55      2  No   41\n",
            "AZ       64      2  No   45\n",
            "CA       34      2  No   23\n",
            "CO       66      2  No   47\n",
            "CT       74      2  No   53\n",
            "DC       54      2  No   36\n",
            "DE       61      2  No   46\n",
            "FL       63      2  No   43\n",
            "GA       54      2  No   35\n",
            "HI       53      2  No   38\n",
            "IA       44      2  No   32\n",
            "ID       73      2  No   45\n",
            "IL       58      2  No   43\n",
            "IN       71      2  No   53\n",
            "KS       70      2  No   51\n",
            "KY       59      2  No   44\n",
            "LA       51      2  No   38\n",
            "MA       65      2  No   46\n",
            "MD       70      2  No   53\n",
            "ME       62      2  No   45\n",
            "MI       73      2  No   52\n",
            "MN       84      2  No   60\n",
            "MO       63      2  No   46\n",
            "MS       65      2  No   44\n",
            "MT       68      2  No   44\n",
            "NC       68      2  No   48\n",
            "ND       62      2  No   41\n",
            "NE       61      2  No   44\n",
            "NH       56      2  No   40\n",
            "NJ       68      2  No   48\n",
            "NM       62      2  No   48\n",
            "NV       66      2  No   52\n",
            "NY       83      2  No   65\n",
            "OH       78      2  No   51\n",
            "OK       61      2  No   44\n",
            "OR       78      2  No   61\n",
            "PA       45      2  No   33\n",
            "RI       65      2  No   47\n",
            "SC       60      2  No   42\n",
            "SD       60      2  No   39\n",
            "TN       53      2  No   39\n",
            "TX       72      2  No   56\n",
            "UT       72      2  No   52\n",
            "VA       77      2  No   59\n",
            "VT       73      2  No   57\n",
            "WA       66      2  No   56\n",
            "WI       78      2  No   55\n",
            "WV      106      2  No   77\n",
            "WY       77      2  No   59\n",
            "Number vmail messages\n",
            "       count       mean        std  min  25%  50%    75%   max\n",
            "State                                                         \n",
            "AK      52.0   9.057692  14.418688  0.0  0.0  0.0  22.50  39.0\n",
            "AL      80.0   7.175000  12.460342  0.0  0.0  0.0  15.50  38.0\n",
            "AR      55.0   7.200000  13.163361  0.0  0.0  0.0   8.00  49.0\n",
            "AZ      64.0   9.468750  15.284569  0.0  0.0  0.0  22.75  45.0\n",
            "CA      34.0   9.000000  14.008655  0.0  0.0  0.0  19.00  39.0\n",
            "CO      66.0   8.363636  13.712023  0.0  0.0  0.0  22.50  40.0\n",
            "CT      74.0   9.067568  14.968763  0.0  0.0  0.0  22.50  47.0\n",
            "DC      54.0   9.740741  14.674050  0.0  0.0  0.0  25.00  39.0\n",
            "DE      61.0   6.967213  12.778846  0.0  0.0  0.0   0.00  35.0\n",
            "FL      63.0   9.460317  14.777735  0.0  0.0  0.0  24.00  51.0\n",
            "GA      54.0  10.018519  14.138787  0.0  0.0  0.0  23.75  39.0\n",
            "HI      53.0   7.867925  13.288280  0.0  0.0  0.0  15.00  43.0\n",
            "IA      44.0   7.795455  13.539914  0.0  0.0  0.0  15.50  43.0\n",
            "ID      73.0  10.219178  13.707507  0.0  0.0  0.0  27.00  37.0\n",
            "IL      58.0   7.379310  13.193336  0.0  0.0  0.0  10.50  43.0\n",
            "IN      71.0   8.239437  14.801028  0.0  0.0  0.0  10.50  46.0\n",
            "KS      70.0   7.614286  12.942787  0.0  0.0  0.0  19.00  42.0\n",
            "KY      59.0   7.000000  12.803556  0.0  0.0  0.0   4.50  40.0\n",
            "LA      51.0   7.901961  13.958875  0.0  0.0  0.0  10.00  39.0\n",
            "MA      65.0   7.907692  13.059627  0.0  0.0  0.0  17.00  45.0\n",
            "MD      70.0   8.157143  14.967245  0.0  0.0  0.0   0.00  45.0\n",
            "ME      62.0   7.903226  13.268612  0.0  0.0  0.0  20.25  42.0\n",
            "MI      73.0   8.452055  13.764932  0.0  0.0  0.0  22.00  41.0\n",
            "MN      84.0   8.261905  13.590499  0.0  0.0  0.0  21.00  46.0\n",
            "MO      63.0   7.936508  13.880682  0.0  0.0  0.0  14.50  48.0\n",
            "MS      65.0   9.446154  14.298198  0.0  0.0  0.0  25.00  45.0\n",
            "MT      68.0   9.338235  13.371400  0.0  0.0  0.0  22.25  36.0\n",
            "NC      68.0   9.088235  14.870320  0.0  0.0  0.0  19.00  47.0\n",
            "ND      62.0  10.209677  14.844701  0.0  0.0  0.0  23.75  40.0\n",
            "NE      61.0   8.557377  14.326577  0.0  0.0  0.0  21.00  41.0\n",
            "NH      56.0   8.267857  13.812367  0.0  0.0  0.0  20.00  43.0\n",
            "NJ      68.0   9.191176  14.891906  0.0  0.0  0.0  22.00  43.0\n",
            "NM      62.0   6.451613  12.647396  0.0  0.0  0.0   0.00  42.0\n",
            "NV      66.0   6.803030  13.579645  0.0  0.0  0.0   0.00  44.0\n",
            "NY      83.0   6.132530  12.122114  0.0  0.0  0.0   0.00  37.0\n",
            "OH      78.0  10.192308  14.828945  0.0  0.0  0.0  25.75  46.0\n",
            "OK      61.0   8.655738  14.316523  0.0  0.0  0.0  23.00  43.0\n",
            "OR      78.0   6.179487  12.448067  0.0  0.0  0.0   0.00  50.0\n",
            "PA      45.0   7.488889  13.056907  0.0  0.0  0.0  15.00  40.0\n",
            "RI      65.0   7.323077  12.448780  0.0  0.0  0.0  18.00  43.0\n",
            "SC      60.0   8.683333  14.435704  0.0  0.0  0.0  21.00  46.0\n",
            "SD      60.0  10.433333  15.003239  0.0  0.0  0.0  24.00  48.0\n",
            "TN      53.0   7.037736  12.418910  0.0  0.0  0.0  12.00  36.0\n",
            "TX      72.0   6.444444  12.558470  0.0  0.0  0.0   0.00  40.0\n",
            "UT      72.0   8.500000  14.571823  0.0  0.0  0.0  20.00  44.0\n",
            "VA      77.0   7.038961  13.095240  0.0  0.0  0.0   0.00  42.0\n",
            "VT      73.0   6.547945  13.012858  0.0  0.0  0.0   0.00  44.0\n",
            "WA      66.0   4.560606  11.241583  0.0  0.0  0.0   0.00  41.0\n",
            "WI      78.0   8.282051  13.800901  0.0  0.0  0.0  13.75  44.0\n",
            "WV     106.0   8.726415  14.876337  0.0  0.0  0.0  20.00  50.0\n",
            "WY      77.0   6.519481  12.781165  0.0  0.0  0.0   0.00  42.0\n",
            "Total day minutes\n",
            "       count        mean        std   min      25%     50%      75%    max\n",
            "State                                                                     \n",
            "AK      52.0  178.384615  49.640430  58.2  148.375  177.25  210.875  278.4\n",
            "AL      80.0  186.010000  51.466249  68.7  153.850  190.25  223.725  308.0\n",
            "AR      55.0  176.116364  50.368831  55.3  144.450  170.70  212.300  273.4\n",
            "AZ      64.0  171.604687  51.941907  58.9  141.075  171.45  203.750  281.1\n",
            "CA      34.0  183.564706  47.742484  92.8  156.325  183.20  209.900  280.0\n",
            "CO      66.0  178.712121  59.805856  30.9  134.875  180.90  211.650  350.8\n",
            "CT      74.0  175.140541  60.523424  37.8  132.575  176.50  214.925  321.6\n",
            "DC      54.0  171.379630  57.157338  51.5  132.625  169.20  214.675  306.2\n",
            "DE      61.0  174.583607  52.060645  46.5  138.800  179.90  201.300  334.3\n",
            "FL      63.0  179.533333  57.468499  47.7  147.300  181.80  215.850  288.1\n",
            "GA      54.0  185.025926  53.736275  71.2  142.425  193.30  222.250  299.5\n",
            "HI      53.0  175.962264  54.834311  41.9  135.700  181.40  214.000  291.6\n",
            "IA      44.0  177.613636  48.400925  88.1  138.950  168.80  206.725  308.6\n",
            "ID      73.0  178.619178  52.794622  55.6  150.900  181.60  221.100  274.4\n",
            "IL      58.0  173.591379  49.802932  69.1  136.575  180.35  205.725  269.6\n",
            "IN      71.0  196.525352  51.956157  49.9  167.250  203.80  223.100  300.4\n",
            "KS      70.0  191.555714  58.143148  27.0  158.825  191.25  231.450  321.3\n",
            "KY      59.0  173.754237  54.943583  73.8  138.400  170.50  206.950  314.6\n",
            "LA      51.0  178.376471  45.435139  58.4  146.900  179.30  212.050  310.4\n",
            "MA      65.0  180.103077  51.288790  58.9  149.800  178.10  209.800  293.7\n",
            "MD      70.0  197.228571  58.031576  78.1  156.625  198.15  238.500  321.1\n",
            "ME      62.0  185.262903  52.707427  58.8  151.075  193.80  220.425  322.3\n",
            "MI      73.0  180.593151  54.873206  18.9  140.800  185.30  217.200  314.1\n",
            "MN      84.0  183.354762  56.625260  50.6  146.900  178.60  222.500  317.8\n",
            "MO      63.0  170.506349  58.076573  45.0  127.900  165.90  207.200  335.5\n",
            "MS      65.0  177.929231  61.631895  70.7  131.600  166.50  227.800  313.2\n",
            "MT      68.0  174.007353  48.848851  89.8  140.725  162.30  198.900  273.2\n",
            "NC      68.0  185.145588  56.222470  54.7  144.375  189.80  215.750  322.3\n",
            "ND      62.0  187.338710  45.251481  82.5  160.300  191.25  222.425  295.3\n",
            "NE      61.0  177.465574  52.599645  34.0  152.400  180.90  210.300  272.7\n",
            "NH      56.0  177.328571  59.963106  17.6  140.000  182.85  214.000  322.4\n",
            "NJ      68.0  196.225000  48.608661  40.9  161.825  193.05  231.000  301.5\n",
            "NM      62.0  171.429032  44.931695  69.1  145.125  169.05  203.600  286.7\n",
            "NV      66.0  176.425758  56.561785  67.4  141.550  168.70  219.575  303.9\n",
            "NY      83.0  175.114458  56.786981  60.6  142.200  166.40  209.150  346.8\n",
            "OH      78.0  183.274359  55.755483   7.8  143.700  185.60  218.375  345.3\n",
            "OK      61.0  179.909836  61.730340   2.6  147.000  179.20  206.700  329.8\n",
            "OR      78.0  176.246154  56.013219  12.5  137.250  186.40  213.650  324.7\n",
            "PA      45.0  188.375556  55.137556  35.1  146.500  205.10  224.200  288.7\n",
            "RI      65.0  167.478462  55.418410  40.4  127.300  167.80  211.900  286.2\n",
            "SC      60.0  166.441667  63.585043  19.5  132.800  157.75  208.350  322.5\n",
            "SD      60.0  189.690000  55.366666   0.0  163.750  186.55  224.500  328.1\n",
            "TN      53.0  175.771698  50.608282  54.8  149.300  170.10  196.100  305.2\n",
            "TX      72.0  181.516667  57.146528  59.5  143.925  181.30  215.400  326.5\n",
            "UT      72.0  183.569444  53.796365  63.2  146.175  187.40  214.300  285.7\n",
            "VA      77.0  177.244156  49.273203  44.9  142.300  174.50  209.900  283.4\n",
            "VT      73.0  182.031507  52.048788   0.0  142.500  188.40  218.700  307.1\n",
            "WA      66.0  178.742424  56.412167  37.7  147.050  166.40  211.375  289.1\n",
            "WI      78.0  179.130769  57.867821   7.9  152.650  177.25  218.575  326.3\n",
            "WV     106.0  173.950943  53.920065  58.0  133.275  176.25  211.850  312.0\n",
            "WY      77.0  180.170130  53.975375  25.9  143.900  178.30  222.200  296.0\n",
            "Total day calls\n",
            "       count        mean        std   min    25%    50%     75%    max\n",
            "State                                                                 \n",
            "AK      52.0   95.269231  19.130220  55.0  84.75   96.0  106.25  129.0\n",
            "AL      80.0   99.100000  17.377856  62.0  86.75   96.5  112.00  139.0\n",
            "AR      55.0  102.145455  20.809914  56.0  88.50  102.0  114.50  145.0\n",
            "AZ      64.0  100.109375  22.015952  52.0  86.50   98.5  115.25  163.0\n",
            "CA      34.0  104.500000  22.862236  42.0  90.50  109.5  121.50  150.0\n",
            "CO      66.0   95.121212  19.483733  53.0  84.00   97.5  106.75  145.0\n",
            "CT      74.0   98.432432  20.068432  49.0  87.25   99.5  111.00  137.0\n",
            "DC      54.0  100.166667  20.357883  61.0  86.25  101.5  110.00  147.0\n",
            "DE      61.0   98.639344  20.809479  42.0  85.00  100.0  110.00  140.0\n",
            "FL      63.0  101.000000  16.074424  63.0  89.00   98.0  112.50  143.0\n",
            "GA      54.0  103.055556  18.559864  61.0  90.00  105.0  115.50  137.0\n",
            "HI      53.0  102.811321  19.043530  44.0  94.00  104.0  117.00  147.0\n",
            "IA      44.0  103.045455  20.154005  67.0  86.75  101.0  115.00  141.0\n",
            "ID      73.0  106.219178  18.759625  65.0  93.00  106.0  117.00  151.0\n",
            "IL      58.0  101.689655  18.378293  65.0  91.00  101.5  113.75  141.0\n",
            "IN      71.0  107.056338  19.025462  57.0  94.00  107.0  122.50  157.0\n",
            "KS      70.0  101.028571  17.256775  68.0  87.25  103.5  112.75  144.0\n",
            "KY      59.0  100.338983  18.141788  62.0  84.00   99.0  114.00  147.0\n",
            "LA      51.0  103.509804  17.253837  67.0  92.50  101.0  120.00  140.0\n",
            "MA      65.0  102.292308  21.408032  49.0  88.00  100.0  116.00  158.0\n",
            "MD      70.0   99.357143  19.418380  56.0  86.50   98.0  115.75  145.0\n",
            "ME      62.0   99.500000  19.184822  56.0  89.50  102.0  112.00  140.0\n",
            "MI      73.0  101.205479  20.247057  53.0  88.00  102.0  113.00  165.0\n",
            "MN      84.0   99.119048  22.270735  54.0  84.00   99.0  112.00  147.0\n",
            "MO      63.0   99.936508  19.266278  51.0  85.00  101.0  111.50  145.0\n",
            "MS      65.0  100.707692  19.612435  48.0  90.00  104.0  112.00  156.0\n",
            "MT      68.0   95.220588  22.455160  35.0  82.00   96.5  110.25  160.0\n",
            "NC      68.0  102.794118  20.954506  55.0  88.75  104.0  115.00  151.0\n",
            "ND      62.0  100.145161  18.305107  54.0  88.00   99.0  110.50  144.0\n",
            "NE      61.0   97.409836  19.954429  36.0  86.00   98.0  110.00  146.0\n",
            "NH      56.0   98.964286  21.476384  30.0  87.75   98.5  113.25  148.0\n",
            "NJ      68.0  100.102941  20.591362  55.0  85.75  102.0  115.25  145.0\n",
            "NM      62.0  102.241935  19.789619  57.0  87.25  101.5  114.75  148.0\n",
            "NV      66.0  101.424242  20.466153  54.0  90.25  101.0  114.00  150.0\n",
            "NY      83.0   98.240964  19.045254  55.0  82.00  101.0  112.50  134.0\n",
            "OH      78.0   99.628205  19.681298  54.0  88.00   99.5  111.75  150.0\n",
            "OK      61.0  100.262295  21.506512  52.0  85.00  103.0  116.00  151.0\n",
            "OR      78.0   95.730769  20.039359  44.0  82.25   97.5  107.75  143.0\n",
            "PA      45.0   98.644444  22.717790  45.0  78.00  101.0  114.00  151.0\n",
            "RI      65.0  100.430769  20.205947  51.0  88.00  104.0  112.00  134.0\n",
            "SC      60.0  102.466667  20.505036  45.0  92.00  102.0  117.00  149.0\n",
            "SD      60.0   94.816667  21.913150   0.0  81.00   95.5  110.00  135.0\n",
            "TN      53.0  101.452830  23.133032  57.0  84.00   99.0  119.00  145.0\n",
            "TX      72.0   99.986111  15.410343  51.0  90.75  102.0  110.00  143.0\n",
            "UT      72.0   98.958333  19.565302  40.0  86.75  101.0  111.00  150.0\n",
            "VA      77.0  105.363636  19.033149  63.0  93.00  107.0  120.00  142.0\n",
            "VT      73.0  100.328767  22.707717   0.0  89.00  103.0  116.00  136.0\n",
            "WA      66.0  101.196970  17.669809  65.0  91.25  102.5  114.75  146.0\n",
            "WI      78.0   96.679487  19.533184  54.0  86.25   96.0  108.00  141.0\n",
            "WV     106.0  103.783019  21.925851  40.0  90.25  104.0  120.75  158.0\n",
            "WY      77.0  102.220779  23.274463  45.0  83.00  102.0  119.00  158.0\n",
            "Total day charge\n",
            "       count       mean        std    min      25%     50%      75%    max\n",
            "State                                                                     \n",
            "AK      52.0  30.325769   8.438976   9.89  25.2250  30.135  35.8475  47.33\n",
            "AL      80.0  31.621500   8.748876  11.68  26.1550  32.340  38.0350  52.36\n",
            "AR      55.0  29.940000   8.562843   9.40  24.5550  29.020  36.0900  46.48\n",
            "AZ      64.0  29.173125   8.830949  10.01  23.9850  29.150  34.6425  47.79\n",
            "CA      34.0  31.206176   8.116264  15.78  26.5725  31.145  35.6825  47.60\n",
            "CO      66.0  30.381818  10.167225   5.25  22.9325  30.755  35.9825  59.64\n",
            "CT      74.0  29.774324  10.288919   6.43  22.5400  30.005  36.5375  54.67\n",
            "DC      54.0  29.135370   9.715851   8.76  22.5475  28.765  36.4925  52.05\n",
            "DE      61.0  29.680164   8.850182   7.91  23.6000  30.580  34.2200  56.83\n",
            "FL      63.0  30.521429   9.770053   8.11  25.0400  30.910  36.6950  48.98\n",
            "GA      54.0  31.455185   9.136291  12.10  24.2125  32.860  37.7825  50.92\n",
            "HI      53.0  29.913019   9.321415   7.12  23.0700  30.840  36.3800  49.57\n",
            "IA      44.0  30.195455   8.227573  14.98  23.6250  28.695  35.1425  52.46\n",
            "ID      73.0  30.365753   8.975380   9.45  25.6500  30.870  37.5900  46.65\n",
            "IL      58.0  29.511552   8.466160  11.75  23.2225  30.660  34.9725  45.83\n",
            "IN      71.0  33.410000   8.833106   8.48  28.4300  34.650  37.9300  51.07\n",
            "KS      70.0  32.565143   9.883899   4.59  27.0000  32.510  39.3500  54.62\n",
            "KY      59.0  29.539153   9.339803  12.55  23.5300  28.990  35.1800  53.48\n",
            "LA      51.0  30.324706   7.723914   9.93  24.9700  30.480  36.0500  52.77\n",
            "MA      65.0  30.617538   8.719419  10.01  25.4700  30.280  35.6700  49.93\n",
            "MD      70.0  33.529571   9.865049  13.28  26.6275  33.685  40.5475  54.59\n",
            "ME      62.0  31.495806   8.959334  10.00  25.6875  32.945  37.4750  54.79\n",
            "MI      73.0  30.700959   9.328246   3.21  23.9400  31.500  36.9200  53.40\n",
            "MN      84.0  31.170952   9.626528   8.60  24.9750  30.365  37.8250  54.03\n",
            "MO      63.0  28.987302   9.873223   7.65  21.7450  28.200  35.2250  57.04\n",
            "MS      65.0  30.248462  10.477084  12.02  22.3700  28.310  38.7300  53.24\n",
            "MT      68.0  29.581618   8.303669  15.27  23.9275  27.590  33.8150  46.44\n",
            "NC      68.0  31.475294   9.558807   9.30  24.5450  32.270  36.6750  54.79\n",
            "ND      62.0  31.848548   7.692378  14.03  27.2500  32.515  37.8125  50.20\n",
            "NE      61.0  30.169344   8.941582   5.78  25.9100  30.750  35.7500  46.36\n",
            "NH      56.0  30.146250  10.194262   2.99  23.7975  31.085  36.3825  54.81\n",
            "NJ      68.0  33.358676   8.263401   6.95  27.5100  32.820  39.2700  51.26\n",
            "NM      62.0  29.142903   7.638386  11.75  24.6750  28.735  34.6100  48.74\n",
            "NV      66.0  29.992879   9.615512  11.46  24.0625  28.680  37.3275  51.66\n",
            "NY      83.0  29.770361   9.653728  10.30  24.1750  28.290  35.5550  58.96\n",
            "OH      78.0  31.157564   9.478274   1.33  24.4275  31.555  37.1275  58.70\n",
            "OK      61.0  30.584754  10.494736   0.44  24.9900  30.460  35.1400  56.07\n",
            "OR      78.0  29.962821   9.522390   2.13  23.3300  31.690  36.3225  55.20\n",
            "PA      45.0  32.024444   9.372847   5.97  24.9100  34.870  38.1100  49.08\n",
            "RI      65.0  28.472154   9.420697   6.87  21.6400  28.530  36.0200  48.65\n",
            "SC      60.0  28.295833  10.809501   3.32  22.5775  26.820  35.4225  54.83\n",
            "SD      60.0  32.247667   9.412325   0.00  27.8400  31.710  38.1625  55.78\n",
            "TN      53.0  29.881698   8.603197   9.32  25.3800  28.920  33.3400  51.88\n",
            "TX      72.0  30.858472   9.715110  10.12  24.4675  30.825  36.6200  55.51\n",
            "UT      72.0  31.207222   9.145787  10.74  24.8500  31.860  36.4300  48.57\n",
            "VA      77.0  30.131688   8.375936   7.63  24.1900  29.670  35.6800  48.18\n",
            "VT      73.0  30.946301   8.848147   0.00  24.2300  32.030  37.1800  52.21\n",
            "WA      66.0  30.386667   9.590399   6.41  25.0000  28.290  35.9350  49.15\n",
            "WI      78.0  30.452308   9.837425   1.34  25.9475  30.135  37.1575  55.47\n",
            "WV     106.0  29.572358   9.166299   9.86  22.6550  29.965  36.0125  53.04\n",
            "WY      77.0  30.628961   9.175895   4.40  24.4600  30.310  37.7700  50.32\n",
            "Total eve minutes\n",
            "       count        mean        std    min      25%     50%      75%    max\n",
            "State                                                                      \n",
            "AK      52.0  184.282692  49.160213   58.6  159.400  179.95  204.800  314.4\n",
            "AL      80.0  195.462500  50.909648   77.9  159.050  201.25  226.950  299.9\n",
            "AR      55.0  201.047273  50.957484  120.5  166.400  192.30  234.200  350.9\n",
            "AZ      64.0  187.748438  49.070513   72.9  155.825  191.10  219.550  328.7\n",
            "CA      34.0  198.970588  40.361770  114.0  178.700  195.45  221.350  281.3\n",
            "CO      66.0  206.884848  53.306802   75.3  165.875  211.20  237.075  341.3\n",
            "CT      74.0  203.828378  55.971033   66.0  162.000  209.85  240.025  335.0\n",
            "DC      54.0  196.272222  47.422479   65.2  172.550  198.10  222.050  337.1\n",
            "DE      61.0  208.247541  46.393479  132.5  180.500  206.60  240.000  328.2\n",
            "FL      63.0  210.276190  54.921782   69.2  178.950  209.00  240.650  318.8\n",
            "GA      54.0  204.140741  47.011053   73.2  173.075  199.95  234.500  304.4\n",
            "HI      53.0  191.343396  50.612090   90.0  152.900  192.40  223.500  305.8\n",
            "IA      44.0  206.400000  55.424480  102.2  165.550  200.45  244.275  329.3\n",
            "ID      73.0  194.610959  44.761049   98.3  157.300  195.70  223.500  292.7\n",
            "IL      58.0  196.798276  52.539016   48.1  162.325  198.00  224.050  319.3\n",
            "IN      71.0  202.559155  55.354715   83.9  162.950  199.40  237.050  361.8\n",
            "KS      70.0  202.512857  48.809158   95.1  172.100  197.35  240.775  310.6\n",
            "KY      59.0  196.244068  50.654953   87.6  163.100  195.70  220.000  324.8\n",
            "LA      51.0  197.819608  57.194972   31.2  156.800  205.10  233.600  351.6\n",
            "MA      65.0  214.664615  52.439425   95.6  182.600  211.40  256.600  348.5\n",
            "MD      70.0  196.061429  50.489311   90.2  162.425  194.15  224.200  354.2\n",
            "ME      62.0  200.514516  44.995424   79.3  175.350  206.60  236.250  278.2\n",
            "MI      73.0  208.172603  51.870258   89.1  176.500  208.60  235.100  336.0\n",
            "MN      84.0  199.334524  46.627874   42.5  176.125  203.05  224.650  322.2\n",
            "MO      63.0  200.141270  57.256014   60.8  155.100  208.60  234.800  332.1\n",
            "MS      65.0  200.009231  50.163423  103.2  168.700  202.80  223.000  313.7\n",
            "MT      68.0  201.526471  52.860757   88.1  154.875  210.65  242.225  312.6\n",
            "NC      68.0  202.536765  47.720895   80.8  167.200  204.10  230.650  363.7\n",
            "ND      62.0  207.775806  45.635307   89.3  174.200  209.85  242.575  289.9\n",
            "NE      61.0  203.111475  54.304328   56.0  165.300  206.70  242.300  282.6\n",
            "NH      56.0  198.158929  51.762225   58.9  169.550  201.40  218.550  303.2\n",
            "NJ      68.0  198.289706  53.385299   88.3  165.025  198.10  233.800  303.8\n",
            "NM      62.0  212.193548  46.616795  122.9  183.600  211.40  247.800  327.1\n",
            "NV      66.0  202.915152  50.859687  106.1  166.150  196.45  230.525  339.9\n",
            "NY      83.0  196.993976  58.252500   64.3  161.150  193.00  233.500  332.8\n",
            "OH      78.0  206.441026  49.864079   61.9  175.575  210.50  241.975  301.5\n",
            "OK      61.0  193.018033  57.107987   42.2  158.600  195.00  232.400  317.0\n",
            "OR      78.0  201.496154  47.566428   75.9  168.250  205.85  236.700  317.5\n",
            "PA      45.0  191.653333  45.323271  101.5  160.500  186.60  219.500  294.3\n",
            "RI      65.0  211.038462  49.939531  102.2  169.200  207.20  248.500  350.5\n",
            "SC      60.0  207.456667  49.462711   83.4  172.700  213.90  239.850  304.6\n",
            "SD      60.0  202.723333  45.108319  118.7  175.850  193.15  232.750  295.7\n",
            "TN      53.0  210.513208  45.766754   93.4  174.500  206.90  251.200  296.5\n",
            "TX      72.0  199.787500  51.865041   49.2  166.425  194.80  236.125  327.0\n",
            "UT      72.0  195.343056  51.600630    0.0  163.525  197.90  231.400  319.0\n",
            "VA      77.0  204.216883  44.592478   91.2  175.200  205.20  235.800  313.4\n",
            "VT      73.0  205.368493  48.275120   71.0  180.200  209.90  228.400  304.9\n",
            "WA      66.0  203.810606  49.061353   52.9  172.850  203.45  237.100  285.9\n",
            "WI      78.0  197.458974  53.884652   97.7  154.425  193.80  239.925  322.3\n",
            "WV     106.0  188.413208  52.769371   67.0  158.925  185.60  224.325  315.4\n",
            "WY      77.0  205.828571  52.124729   60.0  173.700  212.80  235.000  330.6\n",
            "Total eve calls\n",
            "       count        mean        std   min    25%    50%     75%    max\n",
            "State                                                                 \n",
            "AK      52.0   96.576923  20.900648  53.0  80.00   93.5  110.75  147.0\n",
            "AL      80.0   98.462500  20.746172  59.0  85.00   98.5  113.00  144.0\n",
            "AR      55.0   97.836364  25.403969  12.0  86.50   96.0  108.00  159.0\n",
            "AZ      64.0  102.406250  19.674106  59.0  90.00  103.0  118.25  146.0\n",
            "CA      34.0  103.088235  17.462284  77.0  88.25  103.5  114.50  143.0\n",
            "CO      66.0   98.166667  20.661062  44.0  88.00   99.5  113.75  137.0\n",
            "CT      74.0   99.121622  22.162509  36.0  83.00   99.0  115.00  144.0\n",
            "DC      54.0  101.981481  17.846823  58.0  90.25  104.5  115.00  134.0\n",
            "DE      61.0   97.360656  15.641859  50.0  88.00   95.0  108.00  138.0\n",
            "FL      63.0  108.920635  21.746562  63.0  92.50  111.0  123.00  168.0\n",
            "GA      54.0  103.888889  22.804887  55.0  87.00  108.0  119.00  155.0\n",
            "HI      53.0   98.849057  21.712630  52.0  87.00   99.0  111.00  157.0\n",
            "IA      44.0   99.545455  19.179027  45.0  85.50  102.5  114.00  142.0\n",
            "ID      73.0  100.054795  17.946595  48.0  91.00  103.0  114.00  143.0\n",
            "IL      58.0  100.810345  17.720497  63.0  88.75  100.0  111.00  150.0\n",
            "IN      71.0   97.943662  21.164585  58.0  83.50   94.0  109.50  152.0\n",
            "KS      70.0  101.528571  20.619901  51.0  87.25  101.5  116.00  149.0\n",
            "KY      59.0   98.237288  20.264066  56.0  84.50  101.0  110.00  154.0\n",
            "LA      51.0   96.627451  18.335715  52.0  83.50   97.0  107.00  138.0\n",
            "MA      65.0   98.230769  19.214065  43.0  85.00  101.0  113.00  131.0\n",
            "MD      70.0   98.571429  23.817891  50.0  81.00   96.0  117.00  156.0\n",
            "ME      62.0  104.596774  19.567001  65.0  90.00  106.5  120.50  140.0\n",
            "MI      73.0  101.986301  22.029332  48.0  89.00  101.0  120.00  144.0\n",
            "MN      84.0  101.642857  17.268010  56.0  88.00  101.5  111.25  142.0\n",
            "MO      63.0  101.047619  20.521765  48.0  87.50  101.0  115.00  143.0\n",
            "MS      65.0  100.200000  19.134556  58.0  89.00   98.0  109.00  151.0\n",
            "MT      68.0   97.514706  18.279336  64.0  84.25   97.0  109.25  146.0\n",
            "NC      68.0  103.941176  19.670329  56.0  92.00  103.0  118.00  149.0\n",
            "ND      62.0  105.467742  16.173970  66.0  97.25  105.5  114.75  144.0\n",
            "NE      61.0  103.590164  20.415988  61.0  90.00  103.0  116.00  147.0\n",
            "NH      56.0   95.803571  17.330393  57.0  84.75   95.5  107.25  142.0\n",
            "NJ      68.0  103.441176  19.671468  56.0  91.00  103.0  116.25  147.0\n",
            "NM      62.0  102.983871  20.944495  46.0  91.00  101.5  116.50  152.0\n",
            "NV      66.0   96.257576  20.375936  48.0  87.00   99.5  108.75  152.0\n",
            "NY      83.0  100.024096  20.445630  50.0  87.00  100.0  111.00  170.0\n",
            "OH      78.0  101.205128  18.497005  54.0  89.25  105.5  113.00  136.0\n",
            "OK      61.0  104.278689  19.542374  46.0  90.00  102.0  120.00  153.0\n",
            "OR      78.0   98.500000  15.221951  62.0  89.25   97.0  107.75  141.0\n",
            "PA      45.0  101.622222  20.548489  60.0  88.00  100.0  113.00  155.0\n",
            "RI      65.0   94.969231  19.538399  52.0  82.00   95.0  110.00  148.0\n",
            "SC      60.0   99.783333  20.471635  56.0  86.25  101.5  113.25  155.0\n",
            "SD      60.0   98.633333  18.294175  54.0  89.00   98.0  109.00  146.0\n",
            "TN      53.0  103.754717  21.262015  59.0  87.00  106.0  117.00  149.0\n",
            "TX      72.0  101.902778  19.193719  52.0  88.00  103.5  113.00  143.0\n",
            "UT      72.0   98.027778  22.320945   0.0  87.75   96.5  111.25  149.0\n",
            "VA      77.0   99.948052  22.228417  46.0  85.00  103.0  115.00  152.0\n",
            "VT      73.0   97.671233  21.166703  48.0  83.00   97.0  112.00  142.0\n",
            "WA      66.0   95.742424  15.028497  56.0  85.50   96.5  109.00  119.0\n",
            "WI      78.0   99.538462  21.054470  51.0  88.00   99.0  112.75  164.0\n",
            "WV     106.0   98.056604  19.242725  37.0  86.00   98.5  109.75  138.0\n",
            "WY      77.0   99.233766  17.718483  58.0  90.00  101.0  115.00  131.0\n",
            "Total eve charge\n",
            "       count       mean       std    min      25%     50%      75%    max\n",
            "State                                                                    \n",
            "AK      52.0  15.664231  4.177863   4.98  13.5500  15.300  17.4075  26.72\n",
            "AL      80.0  16.614500  4.327709   6.62  13.5150  17.110  19.2900  25.49\n",
            "AR      55.0  17.089636  4.332219  10.24  14.1400  16.350  19.9100  29.83\n",
            "AZ      64.0  15.958906  4.170946   6.20  13.2475  16.245  18.6600  27.94\n",
            "CA      34.0  16.913529  3.430784   9.69  15.1900  16.615  18.8175  23.91\n",
            "CO      66.0  17.584848  4.531344   6.40  14.0950  17.950  20.1500  29.01\n",
            "CT      74.0  17.325946  4.757819   5.61  13.7700  17.835  20.4025  28.48\n",
            "DC      54.0  16.684074  4.030787   5.54  14.6700  16.835  18.8750  28.65\n",
            "DE      61.0  17.701311  3.943514  11.26  15.3400  17.560  20.4000  27.90\n",
            "FL      63.0  17.873651  4.668518   5.88  15.2150  17.770  20.4550  27.10\n",
            "GA      54.0  17.352222  3.995627   6.22  14.7125  17.000  19.9350  25.87\n",
            "HI      53.0  16.263774  4.302157   7.65  13.0000  16.350  19.0000  25.99\n",
            "IA      44.0  17.544318  4.710802   8.69  14.0675  17.040  20.7600  27.99\n",
            "ID      73.0  16.542055  3.805015   8.36  13.3700  16.630  19.0000  24.88\n",
            "IL      58.0  16.727759  4.465659   4.09  13.7950  16.830  19.0450  27.14\n",
            "IN      71.0  17.217465  4.704999   7.13  13.8500  16.950  20.1500  30.75\n",
            "KS      70.0  17.213571  4.149395   8.08  14.6250  16.775  20.4675  26.40\n",
            "KY      59.0  16.680847  4.305136   7.45  13.8650  16.630  18.7000  27.61\n",
            "LA      51.0  16.815294  4.861806   2.65  13.3300  17.430  19.8550  29.89\n",
            "MA      65.0  18.247077  4.457249   8.13  15.5200  17.970  21.8100  29.62\n",
            "MD      70.0  16.665429  4.291530   7.67  13.8100  16.505  19.0550  30.11\n",
            "ME      62.0  17.044032  3.824758   6.74  14.9025  17.565  20.0825  23.65\n",
            "MI      73.0  17.694658  4.408078   7.57  15.0000  17.730  19.9800  28.56\n",
            "MN      84.0  16.943690  3.963768   3.61  14.9725  17.260  19.0950  27.39\n",
            "MO      63.0  17.012222  4.866888   5.17  13.1850  17.730  19.9550  28.23\n",
            "MS      65.0  17.001231  4.264280   8.77  14.3400  17.240  18.9600  26.66\n",
            "MT      68.0  17.130147  4.493134   7.49  13.1675  17.905  20.5900  26.57\n",
            "NC      68.0  17.216324  4.056113   6.87  14.2100  17.350  19.6025  30.91\n",
            "ND      62.0  17.661129  3.878816   7.59  14.8100  17.835  20.6225  24.64\n",
            "NE      61.0  17.263934  4.615767   4.76  14.0500  17.570  20.6000  24.02\n",
            "NH      56.0  16.843571  4.399599   5.01  14.4075  17.120  18.5775  25.77\n",
            "NJ      68.0  16.854853  4.537655   7.51  14.0250  16.835  19.8725  25.82\n",
            "NM      62.0  18.036613  3.962065  10.45  15.6050  17.970  21.0650  27.80\n",
            "NV      66.0  17.247879  4.323102   9.02  14.1200  16.700  19.5925  28.89\n",
            "NY      83.0  16.744458  4.951544   5.47  13.7000  16.410  19.8500  28.29\n",
            "OH      78.0  17.547821  4.238574   5.26  14.9225  17.895  20.5675  25.63\n",
            "OK      61.0  16.407541  4.854295   3.59  13.4800  16.580  19.7500  26.95\n",
            "OR      78.0  17.127564  4.043080   6.45  14.3050  17.500  20.1200  26.99\n",
            "PA      45.0  16.290222  3.852445   8.63  13.6400  15.860  18.6600  25.02\n",
            "RI      65.0  17.938462  4.244684   8.69  14.3800  17.610  21.1200  29.79\n",
            "SC      60.0  17.633333  4.204874   7.09  14.6800  18.180  20.3900  25.89\n",
            "SD      60.0  17.231167  3.833871  10.09  14.9450  16.420  19.7825  25.13\n",
            "TN      53.0  17.893774  3.889898   7.94  14.8300  17.590  21.3500  25.20\n",
            "TX      72.0  16.982083  4.408450   4.18  14.1450  16.555  20.0700  27.80\n",
            "UT      72.0  16.604583  4.385857   0.00  13.8975  16.820  19.6700  27.12\n",
            "VA      77.0  17.359221  3.790156   7.75  14.8900  17.440  20.0400  26.64\n",
            "VT      73.0  17.456986  4.102853   6.04  15.3200  17.840  19.4100  25.92\n",
            "WA      66.0  17.324242  4.170405   4.50  14.6925  17.295  20.1550  24.30\n",
            "WI      78.0  16.784487  4.580781   8.30  13.1250  16.475  20.3975  27.40\n",
            "WV     106.0  16.014717  4.485250   5.70  13.5050  15.775  19.0650  26.81\n",
            "WY      77.0  17.495325  4.430082   5.10  14.7600  18.090  19.9800  28.10\n",
            "Total night minutes\n",
            "       count        mean        std    min      25%     50%      75%    max\n",
            "State                                                                      \n",
            "AK      52.0  192.326923  53.663297   23.2  158.000  200.50  229.950  303.5\n",
            "AL      80.0  187.285000  42.355416   94.1  158.675  185.40  215.100  287.6\n",
            "AR      55.0  205.454545  56.696498   96.4  169.350  205.50  238.850  367.7\n",
            "AZ      64.0  194.004687  54.387325   77.3  166.450  191.40  228.475  297.9\n",
            "CA      34.0  198.508824  58.502574   71.1  160.750  204.90  232.250  345.8\n",
            "CO      66.0  189.898485  50.131426   83.9  152.775  193.45  224.375  308.2\n",
            "CT      74.0  205.997297  59.124952   63.6  157.575  205.95  252.500  325.6\n",
            "DC      54.0  206.348148  48.437521   95.3  188.000  210.85  239.875  302.0\n",
            "DE      61.0  203.900000  43.651063  111.7  172.900  200.90  238.400  313.2\n",
            "FL      63.0  196.147619  50.501983   73.2  167.800  197.40  238.700  286.3\n",
            "GA      54.0  193.746296  56.564876   65.8  160.900  186.15  222.225  364.9\n",
            "HI      53.0  203.713208  43.058596  112.3  171.000  203.30  231.900  318.3\n",
            "IA      44.0  191.490909  48.004466   43.7  162.300  189.90  222.475  271.8\n",
            "ID      73.0  202.595890  49.006208   89.3  166.600  200.40  230.800  377.5\n",
            "IL      58.0  197.605172  46.280500   67.7  176.675  192.70  229.825  281.9\n",
            "IN      71.0  210.242254  52.449659   99.0  177.000  213.40  244.550  350.2\n",
            "KS      70.0  203.970000  46.138045   50.1  178.200  208.95  234.650  289.9\n",
            "KY      59.0  198.355932  53.771045   79.9  168.750  202.10  236.050  314.1\n",
            "LA      51.0  201.396078  51.633872  103.7  160.050  196.00  229.550  352.2\n",
            "MA      65.0  204.007692  55.335701   72.4  160.500  204.80  241.400  332.7\n",
            "MD      70.0  198.614286  51.707685   76.4  153.700  194.00  243.650  294.8\n",
            "ME      62.0  198.833871  48.369012  114.2  160.925  193.85  227.100  313.4\n",
            "MI      73.0  192.657534  47.490048   63.3  160.300  195.20  220.200  302.2\n",
            "MN      84.0  209.680952  45.807222   77.2  182.000  201.30  238.000  296.3\n",
            "MO      63.0  209.146032  54.135820   50.1  178.400  210.00  237.700  349.7\n",
            "MS      65.0  200.996923  41.684953  112.9  169.700  203.40  227.600  309.6\n",
            "MT      68.0  197.205882  45.569900   87.4  170.950  194.85  225.000  328.5\n",
            "NC      68.0  197.144118  51.714106   54.5  164.550  198.40  234.125  329.3\n",
            "ND      62.0  199.796774  53.604532   61.4  166.425  207.00  240.525  281.3\n",
            "NE      61.0  206.427869  60.281739   82.4  163.300  211.60  246.100  381.9\n",
            "NH      56.0  208.614286  48.423373  107.3  177.425  214.00  237.525  334.7\n",
            "NJ      68.0  206.383824  51.385458   57.5  178.000  210.65  243.375  309.1\n",
            "NM      62.0  200.193548  53.324426   82.3  165.600  209.00  238.975  310.1\n",
            "NV      66.0  208.645455  43.134524  126.3  176.900  206.55  241.500  320.7\n",
            "NY      83.0  203.268675  47.042381   94.9  173.300  200.80  228.950  323.5\n",
            "OH      78.0  204.491026  55.067958   64.2  170.350  204.90  246.875  352.5\n",
            "OK      61.0  196.947541  50.258414   47.4  170.100  192.50  236.100  312.1\n",
            "OR      78.0  199.925641  51.042301   53.3  166.400  199.55  234.075  322.2\n",
            "PA      45.0  195.864444  53.891090   56.6  165.700  186.90  234.800  342.8\n",
            "RI      65.0  204.052308  56.367225   91.6  156.600  200.60  248.200  315.0\n",
            "SC      60.0  195.136667  46.713639   73.2  167.525  186.00  220.125  325.9\n",
            "SD      60.0  201.310000  45.437361  116.3  170.250  198.45  235.325  303.5\n",
            "TN      53.0  210.426415  51.282487  104.7  177.700  219.50  252.700  317.8\n",
            "TX      72.0  195.288889  40.665577  115.9  166.925  193.10  214.050  306.6\n",
            "UT      72.0  190.519444  51.344801   90.9  147.525  188.20  230.775  344.3\n",
            "VA      77.0  212.963636  57.260802   54.0  168.300  214.70  241.300  395.0\n",
            "VT      73.0  206.989041  48.835198   78.1  179.400  205.70  238.900  333.5\n",
            "WA      66.0  200.045455  52.908182   84.8  163.975  203.95  230.775  304.2\n",
            "WI      78.0  199.229487  56.392127   77.9  163.050  192.55  238.350  364.3\n",
            "WV     106.0  201.055660  50.275578   75.8  163.225  202.55  233.075  326.4\n",
            "WY      77.0  199.167532  45.849655   45.0  170.900  203.30  228.300  285.3\n",
            "Total night calls\n",
            "       count        mean        std   min    25%    50%     75%    max\n",
            "State                                                                 \n",
            "AK      52.0   97.346154  18.122551  55.0  85.75   98.5  107.50  137.0\n",
            "AL      80.0   98.612500  19.307960  42.0  85.75  100.0  109.00  152.0\n",
            "AR      55.0   99.054545  19.138306  62.0  84.50   99.0  112.00  144.0\n",
            "AZ      64.0   99.984375  18.914588  58.0  84.75   99.0  113.00  138.0\n",
            "CA      34.0   99.205882  14.409129  78.0  86.00  100.5  112.75  126.0\n",
            "CO      66.0   97.060606  19.107694  60.0  83.25   99.5  107.25  142.0\n",
            "CT      74.0  102.283784  19.802809  61.0  89.00  101.0  117.00  158.0\n",
            "DC      54.0   97.666667  17.224379  59.0  87.50   98.5  107.75  133.0\n",
            "DE      61.0  101.213115  21.379987  38.0  88.00  104.0  113.00  153.0\n",
            "FL      63.0  100.333333  21.689153  62.0  85.50  100.0  114.50  146.0\n",
            "GA      54.0  105.425926  19.936315  68.0  90.00  106.0  120.00  141.0\n",
            "HI      53.0   99.150943  17.473492  55.0  88.00   96.0  109.00  138.0\n",
            "IA      44.0  100.136364  21.189720  66.0  84.75   96.0  115.75  144.0\n",
            "ID      73.0  100.424658  20.931049  52.0  90.00  101.0  112.00  164.0\n",
            "IL      58.0   99.224138  21.984080  53.0  82.00  100.5  115.75  148.0\n",
            "IN      71.0  101.929577  19.460821  56.0  88.00  104.0  115.00  151.0\n",
            "KS      70.0   99.028571  20.620780  49.0  85.50  101.5  112.00  148.0\n",
            "KY      59.0  101.694915  24.101977  44.0  86.00  100.0  118.50  153.0\n",
            "LA      51.0   99.588235  16.783535  63.0  89.50   99.0  114.00  131.0\n",
            "MA      65.0   96.600000  19.616479  46.0  86.00   94.0  110.00  145.0\n",
            "MD      70.0   95.757143  17.258844  60.0  81.50   98.0  109.75  125.0\n",
            "ME      62.0   98.967742  20.587254  63.0  82.25   97.0  113.25  157.0\n",
            "MI      73.0  102.630137  20.395742  58.0  87.00  101.0  113.00  155.0\n",
            "MN      84.0  102.130952  20.881063  55.0  89.00  103.0  119.00  145.0\n",
            "MO      63.0  101.269841  20.012259  60.0  85.00  102.0  117.50  150.0\n",
            "MS      65.0  100.892308  20.908374  53.0  85.00  101.0  117.00  147.0\n",
            "MT      68.0  102.382353  21.658840  52.0  86.75  102.5  118.00  154.0\n",
            "NC      68.0  100.500000  17.963063  66.0  88.00  104.0  114.25  135.0\n",
            "ND      62.0  102.274194  18.051992  62.0  91.25  103.0  113.50  151.0\n",
            "NE      61.0  101.639344  18.405645  58.0  91.00  104.0  110.00  166.0\n",
            "NH      56.0   96.678571  18.136961  53.0  86.00   98.0  106.25  139.0\n",
            "NJ      68.0  100.147059  19.112600  61.0  83.00  103.5  111.25  143.0\n",
            "NM      62.0  100.870968  16.650195  66.0  87.25  103.0  114.50  134.0\n",
            "NV      66.0  101.363636  20.280826  55.0  89.25  102.0  115.00  143.0\n",
            "NY      83.0   99.409639  16.032768  57.0  91.00   99.0  107.50  147.0\n",
            "OH      78.0  103.256410  16.672114  67.0  91.25  103.0  114.00  152.0\n",
            "OK      61.0  100.983607  20.753708  33.0  86.00  104.0  118.00  156.0\n",
            "OR      78.0  102.679487  21.404875  61.0  86.25  103.5  117.75  153.0\n",
            "PA      45.0   98.911111  21.303886  49.0  88.00   99.0  114.00  142.0\n",
            "RI      65.0  100.338462  20.772034  58.0  89.00  100.0  113.00  175.0\n",
            "SC      60.0  100.183333  16.122930  69.0  91.00   99.0  110.00  136.0\n",
            "SD      60.0   94.016667  18.790993  50.0  82.75   95.0  105.25  143.0\n",
            "TN      53.0   94.264151  18.941358  42.0  81.00   96.0  104.00  127.0\n",
            "TX      72.0  101.041667  20.195131  60.0  85.50  102.5  111.25  154.0\n",
            "UT      72.0  100.625000  21.018059  60.0  82.00  100.0  115.00  151.0\n",
            "VA      77.0   94.922078  20.560416  36.0  80.00   95.0  109.00  140.0\n",
            "VT      73.0  100.767123  19.947515  50.0  88.00  100.0  115.00  157.0\n",
            "WA      66.0  102.909091  21.250685  56.0  90.50  106.5  118.00  148.0\n",
            "WI      78.0  100.461538  18.244154  61.0  88.25  100.5  109.50  146.0\n",
            "WV     106.0  100.566038  18.231328  51.0  88.00  100.0  110.00  146.0\n",
            "WY      77.0  102.025974  20.868620  51.0  89.00  104.0  116.00  156.0\n",
            "Total night charge\n",
            "       count      mean       std   min     25%    50%      75%    max\n",
            "State                                                                \n",
            "AK      52.0  8.654808  2.414939  1.04  7.1125  9.025  10.3500  13.66\n",
            "AL      80.0  8.427875  1.905851  4.23  7.1400  8.345   9.6800  12.94\n",
            "AR      55.0  9.245818  2.550890  4.34  7.6200  9.250  10.7500  16.55\n",
            "AZ      64.0  8.730625  2.447042  3.48  7.4900  8.615  10.2825  13.41\n",
            "CA      34.0  8.932941  2.632242  3.20  7.2325  9.220  10.4525  15.56\n",
            "CO      66.0  8.546061  2.255885  3.78  6.8725  8.705  10.0950  13.87\n",
            "CT      74.0  9.270405  2.660781  2.86  7.0875  9.270  11.3675  14.65\n",
            "DC      54.0  9.285741  2.179596  4.29  8.4625  9.490  10.7925  13.59\n",
            "DE      61.0  9.175574  1.964158  5.03  7.7800  9.040  10.7300  14.09\n",
            "FL      63.0  8.826508  2.272598  3.29  7.5500  8.880  10.7400  12.88\n",
            "GA      54.0  8.718519  2.545760  2.96  7.2375  8.380  10.0000  16.42\n",
            "HI      53.0  9.166792  1.937479  5.05  7.6900  9.150  10.4400  14.32\n",
            "IA      44.0  8.617955  2.160657  1.97  7.3075  8.545  10.0125  12.23\n",
            "ID      73.0  9.116986  2.205191  4.02  7.5000  9.020  10.3900  16.99\n",
            "IL      58.0  8.892241  2.082568  3.05  7.9525  8.670  10.3425  12.69\n",
            "IN      71.0  9.460845  2.360116  4.46  7.9650  9.600  11.0050  15.76\n",
            "KS      70.0  9.178857  2.077001  2.25  8.0150  9.400  10.5575  13.05\n",
            "KY      59.0  8.925932  2.419601  3.60  7.5950  9.090  10.6200  14.13\n",
            "LA      51.0  9.062745  2.324357  4.67  7.2000  8.820  10.3300  15.85\n",
            "MA      65.0  9.180923  2.490038  3.26  7.2200  9.220  10.8600  14.97\n",
            "MD      70.0  8.937143  2.326823  3.44  6.9150  8.730  10.9625  13.27\n",
            "ME      62.0  8.947581  2.176685  5.14  7.2450  8.720  10.2175  14.10\n",
            "MI      73.0  8.669178  2.137107  2.85  7.2100  8.780   9.9100  13.60\n",
            "MN      84.0  9.435595  2.061708  3.47  8.1875  9.060  10.7075  13.33\n",
            "MO      63.0  9.411429  2.436234  2.25  8.0300  9.450  10.6950  15.74\n",
            "MS      65.0  9.044462  1.876056  5.08  7.6400  9.150  10.2400  13.93\n",
            "MT      68.0  8.874118  2.050682  3.93  7.6925  8.770  10.1225  14.78\n",
            "NC      68.0  8.871471  2.327833  2.45  7.4050  8.930  10.5375  14.82\n",
            "ND      62.0  8.991129  2.412237  2.76  7.4875  9.315  10.8250  12.66\n",
            "NE      61.0  9.289180  2.712734  3.71  7.3500  9.520  11.0700  17.19\n",
            "NH      56.0  9.387679  2.179167  4.83  7.9850  9.630  10.6875  15.06\n",
            "NJ      68.0  9.287206  2.312235  2.59  8.0100  9.480  10.9525  13.91\n",
            "NM      62.0  9.008387  2.399142  3.70  7.4550  9.405  10.7550  13.95\n",
            "NV      66.0  9.388788  1.941335  5.68  7.9600  9.295  10.8675  14.43\n",
            "NY      83.0  9.147711  2.116501  4.27  7.8000  9.040  10.3000  14.56\n",
            "OH      78.0  9.201923  2.477850  2.89  7.6675  9.225  11.1100  15.86\n",
            "OK      61.0  8.862295  2.261977  2.13  7.6500  8.660  10.6200  14.04\n",
            "OR      78.0  8.996923  2.297069  2.40  7.4850  8.980  10.5350  14.50\n",
            "PA      45.0  8.814667  2.425067  2.55  7.4600  8.410  10.5700  15.43\n",
            "RI      65.0  9.182462  2.536956  4.12  7.0500  9.030  11.1700  14.18\n",
            "SC      60.0  8.781500  2.102316  3.29  7.5375  8.370   9.9075  14.67\n",
            "SD      60.0  9.059500  2.044916  5.23  7.6625  8.930  10.5900  13.66\n",
            "TN      53.0  9.469623  2.308116  4.71  8.0000  9.880  11.3700  14.30\n",
            "TX      72.0  8.787917  1.830045  5.22  7.5150  8.690   9.6325  13.80\n",
            "UT      72.0  8.573056  2.310392  4.09  6.6400  8.470  10.3850  15.49\n",
            "VA      77.0  9.583766  2.576340  2.43  7.5700  9.660  10.8600  17.77\n",
            "VT      73.0  9.314384  2.198029  3.51  8.0700  9.260  10.7500  15.01\n",
            "WA      66.0  9.002273  2.381215  3.82  7.3800  9.175  10.3875  13.69\n",
            "WI      78.0  8.965513  2.537192  3.51  7.3375  8.665  10.7275  16.39\n",
            "WV     106.0  9.047736  2.262388  3.41  7.3425  9.115  10.4900  14.69\n",
            "WY      77.0  8.962597  2.063334  2.03  7.6900  9.150  10.2700  12.84\n",
            "Total intl minutes\n",
            "       count       mean       std  min    25%    50%     75%   max\n",
            "State                                                             \n",
            "AK      52.0  10.019231  2.624324  4.1  8.275  10.10  11.825  14.9\n",
            "AL      80.0  10.292500  2.763358  2.9  8.175  11.10  12.000  17.2\n",
            "AR      55.0  10.372727  2.769641  4.7  8.650  10.10  11.850  17.0\n",
            "AZ      64.0  10.631250  2.364008  4.3  9.200  10.60  12.125  15.9\n",
            "CA      34.0   9.867647  3.696905  0.0  8.225  10.45  12.200  17.8\n",
            "CO      66.0   9.871212  2.805915  3.5  8.100   9.80  12.075  18.0\n",
            "CT      74.0  10.050000  2.854137  5.0  7.600   9.65  12.100  17.3\n",
            "DC      54.0  10.605556  2.760805  5.1  8.925  10.75  12.050  16.5\n",
            "DE      61.0  10.285246  2.869950  2.5  8.600  10.40  12.400  16.9\n",
            "FL      63.0  10.047619  3.129406  0.0  8.050  10.20  12.250  17.6\n",
            "GA      54.0  10.275926  2.467826  4.7  8.625   9.85  11.950  15.5\n",
            "HI      53.0  10.056604  3.238204  0.0  8.300  10.30  12.000  16.2\n",
            "IA      44.0   9.672727  2.005036  4.4  8.575   9.75  11.100  13.3\n",
            "ID      73.0  10.501370  2.862666  4.7  8.800  10.90  12.000  18.9\n",
            "IL      58.0  10.334483  3.054680  2.1  8.250  10.75  12.325  18.2\n",
            "IN      71.0   9.997183  2.980890  0.0  8.350  10.20  11.700  16.1\n",
            "KS      70.0  10.845714  3.114793  0.0  9.000  10.90  13.075  16.9\n",
            "KY      59.0  10.654237  2.676354  5.6  8.600  10.60  12.600  16.7\n",
            "LA      51.0   9.331373  2.811582  2.9  7.150   9.10  11.750  14.3\n",
            "MA      65.0   9.869231  2.929800  0.0  8.400  10.00  12.100  16.0\n",
            "MD      70.0  10.901429  2.729468  3.6  9.025  11.00  12.275  18.0\n",
            "ME      62.0   9.993548  2.587351  4.7  8.725   9.85  11.525  20.0\n",
            "MI      73.0  10.582192  3.023581  4.5  8.500  10.30  12.300  17.9\n",
            "MN      84.0  10.446429  2.639389  3.7  9.000  10.40  12.100  17.0\n",
            "MO      63.0  10.111111  2.941533  0.0  8.150  10.50  12.000  17.1\n",
            "MS      65.0  10.684615  2.775013  4.4  9.100  11.00  12.600  16.4\n",
            "MT      68.0  10.619118  2.359690  4.9  8.875  10.70  12.600  15.4\n",
            "NC      68.0   9.958824  2.673487  3.5  8.175   9.90  11.150  16.9\n",
            "ND      62.0   9.656452  3.181278  0.0  7.825   9.60  11.800  16.4\n",
            "NE      61.0  10.449180  3.063909  2.0  8.800  10.40  11.500  18.2\n",
            "NH      56.0  10.121429  2.450136  2.1  8.900  10.30  11.575  15.6\n",
            "NJ      68.0  10.808824  2.539052  4.1  9.050  11.05  12.275  15.7\n",
            "NM      62.0  10.341935  2.547358  0.0  8.725  10.55  12.025  15.1\n",
            "NV      66.0  10.037879  2.572683  5.2  7.900  10.00  11.625  17.0\n",
            "NY      83.0   9.985542  2.897060  0.0  8.700  10.20  11.550  15.4\n",
            "OH      78.0  10.297436  3.136545  0.0  8.100  10.45  12.250  17.6\n",
            "OK      61.0  10.470492  3.139339  3.9  8.400  10.10  12.500  17.8\n",
            "OR      78.0  10.308974  2.947558  2.0  8.000  10.55  12.475  18.4\n",
            "PA      45.0  10.491111  2.535460  5.0  9.400  10.70  11.700  17.0\n",
            "RI      65.0   9.896923  2.648701  3.8  8.400   9.80  11.200  16.2\n",
            "SC      60.0   9.913333  2.653649  3.7  8.500  10.00  11.825  15.6\n",
            "SD      60.0  10.063333  3.038898  2.4  8.100  10.05  12.050  16.4\n",
            "TN      53.0  10.283019  2.714260  5.0  8.400  10.20  11.700  16.9\n",
            "TX      72.0  10.558333  2.408480  3.4  9.175  10.30  12.825  15.1\n",
            "UT      72.0  10.231944  2.777872  5.1  8.375   9.95  12.125  18.0\n",
            "VA      77.0  10.606494  2.704204  0.0  9.300  10.90  12.600  16.1\n",
            "VT      73.0  10.152055  2.872383  0.0  8.300  10.50  12.000  14.4\n",
            "WA      66.0   9.789394  2.595744  3.5  8.075   9.70  11.600  15.5\n",
            "WI      78.0   9.744872  2.269598  0.0  8.825   9.85  11.150  15.3\n",
            "WV     106.0  10.067925  2.784671  1.1  8.400  10.20  11.675  16.3\n",
            "WY      77.0  10.393506  2.953737  1.3  8.800  10.70  12.500  15.9\n",
            "Total intl calls\n",
            "       count      mean       std  min   25%  50%   75%   max\n",
            "State                                                       \n",
            "AK      52.0  4.807692  2.567050  1.0  3.00  4.0  6.00  13.0\n",
            "AL      80.0  4.700000  2.572493  1.0  3.00  4.0  6.00  13.0\n",
            "AR      55.0  4.690909  2.581076  1.0  3.00  4.0  6.00  11.0\n",
            "AZ      64.0  4.859375  3.080235  1.0  2.75  5.0  6.00  19.0\n",
            "CA      34.0  4.441176  2.572479  0.0  3.00  4.0  6.00  10.0\n",
            "CO      66.0  4.106061  2.548778  1.0  2.00  3.5  5.75  14.0\n",
            "CT      74.0  4.108108  2.367402  1.0  2.25  4.0  5.00  13.0\n",
            "DC      54.0  3.907407  1.876051  1.0  3.00  3.5  5.00   9.0\n",
            "DE      61.0  4.295082  2.311884  1.0  3.00  4.0  5.00  15.0\n",
            "FL      63.0  3.984127  1.921794  0.0  3.00  4.0  5.00   9.0\n",
            "GA      54.0  4.055556  1.994489  1.0  3.00  4.0  4.00  13.0\n",
            "HI      53.0  4.622642  2.427617  0.0  3.00  4.0  6.00  10.0\n",
            "IA      44.0  4.727273  2.203207  1.0  3.00  4.0  6.00  10.0\n",
            "ID      73.0  4.561644  2.134286  1.0  3.00  4.0  6.00  11.0\n",
            "IL      58.0  4.344828  2.305993  1.0  3.00  4.0  5.00  13.0\n",
            "IN      71.0  4.281690  2.036686  0.0  3.00  4.0  6.00   9.0\n",
            "KS      70.0  4.500000  2.658048  0.0  3.00  4.0  6.00  15.0\n",
            "KY      59.0  4.322034  1.995172  1.0  3.00  4.0  6.00   9.0\n",
            "LA      51.0  4.647059  2.207474  1.0  3.00  5.0  6.00  10.0\n",
            "MA      65.0  4.446154  2.449686  0.0  3.00  4.0  5.00  14.0\n",
            "MD      70.0  4.428571  2.350279  1.0  3.00  4.0  5.00  15.0\n",
            "ME      62.0  4.596774  2.364073  1.0  3.00  4.0  5.75  11.0\n",
            "MI      73.0  4.547945  2.891756  1.0  3.00  4.0  5.00  20.0\n",
            "MN      84.0  4.333333  2.224363  1.0  3.00  4.0  5.00  11.0\n",
            "MO      63.0  4.857143  2.833311  0.0  3.00  4.0  6.00  16.0\n",
            "MS      65.0  4.523077  2.312383  1.0  3.00  4.0  6.00  10.0\n",
            "MT      68.0  4.544118  2.119095  1.0  3.00  4.0  6.00  10.0\n",
            "NC      68.0  4.117647  2.282506  1.0  2.00  4.0  6.00  13.0\n",
            "ND      62.0  4.919355  3.568066  0.0  3.00  4.0  5.00  18.0\n",
            "NE      61.0  4.213115  2.000956  1.0  3.00  4.0  5.00   8.0\n",
            "NH      56.0  4.714286  2.534950  1.0  3.00  4.0  6.00  12.0\n",
            "NJ      68.0  4.691176  2.401848  1.0  3.00  4.0  6.25  11.0\n",
            "NM      62.0  4.838710  3.488593  0.0  3.00  4.0  6.00  18.0\n",
            "NV      66.0  4.333333  2.878746  1.0  2.00  4.0  6.00  15.0\n",
            "NY      83.0  4.638554  2.680455  0.0  3.00  4.0  6.00  17.0\n",
            "OH      78.0  4.371795  2.070880  0.0  3.00  4.0  6.00   9.0\n",
            "OK      61.0  4.803279  2.931551  1.0  3.00  4.0  6.00  15.0\n",
            "OR      78.0  4.333333  2.129976  1.0  3.00  4.0  5.00  11.0\n",
            "PA      45.0  3.866667  2.073644  1.0  2.00  3.0  5.00   9.0\n",
            "RI      65.0  4.646154  2.539874  1.0  3.00  4.0  6.00  14.0\n",
            "SC      60.0  4.183333  2.166710  1.0  3.00  4.0  5.00  12.0\n",
            "SD      60.0  4.483333  2.849274  1.0  3.00  4.0  6.00  15.0\n",
            "TN      53.0  4.339623  1.900844  1.0  3.00  4.0  5.00   9.0\n",
            "TX      72.0  4.625000  2.800591  1.0  3.00  4.0  6.00  14.0\n",
            "UT      72.0  4.625000  2.235674  1.0  3.00  4.0  6.00  11.0\n",
            "VA      77.0  4.740260  2.509994  0.0  3.00  4.0  6.00  13.0\n",
            "VT      73.0  4.602740  2.492989  0.0  3.00  4.0  6.00  11.0\n",
            "WA      66.0  4.454545  2.178085  1.0  3.00  4.0  5.00  13.0\n",
            "WI      78.0  4.128205  2.200112  0.0  3.00  4.0  5.00  10.0\n",
            "WV     106.0  4.415094  2.433371  1.0  3.00  4.0  5.00  16.0\n",
            "WY      77.0  4.974026  2.879026  1.0  3.00  5.0  7.00  14.0\n",
            "Total intl charge\n",
            "       count      mean       std   min     25%    50%     75%   max\n",
            "State                                                              \n",
            "AK      52.0  2.705385  0.708728  1.11  2.2325  2.725  3.1950  4.02\n",
            "AL      80.0  2.779000  0.745207  0.78  2.2050  2.995  3.2400  4.64\n",
            "AR      55.0  2.800727  0.748225  1.27  2.3350  2.730  3.2000  4.59\n",
            "AZ      64.0  2.870625  0.638517  1.16  2.4800  2.860  3.2750  4.29\n",
            "CA      34.0  2.665588  0.998539  0.00  2.2175  2.825  3.2950  4.81\n",
            "CO      66.0  2.665758  0.757295  0.95  2.1900  2.650  3.2600  4.86\n",
            "CT      74.0  2.713378  0.770794  1.35  2.0500  2.605  3.2700  4.67\n",
            "DC      54.0  2.864630  0.745567  1.38  2.4075  2.900  3.2550  4.46\n",
            "DE      61.0  2.778361  0.774614  0.68  2.3200  2.810  3.3500  4.56\n",
            "FL      63.0  2.713175  0.845340  0.00  2.1700  2.750  3.3050  4.75\n",
            "GA      54.0  2.775185  0.666100  1.27  2.3275  2.660  3.2275  4.19\n",
            "HI      53.0  2.715849  0.874257  0.00  2.2400  2.780  3.2400  4.37\n",
            "IA      44.0  2.612500  0.541493  1.19  2.3150  2.635  3.0000  3.59\n",
            "ID      73.0  2.835616  0.772665  1.27  2.3800  2.940  3.2400  5.10\n",
            "IL      58.0  2.791379  0.824316  0.57  2.2250  2.905  3.3300  4.91\n",
            "IN      71.0  2.699437  0.804395  0.00  2.2550  2.750  3.1600  4.35\n",
            "KS      70.0  2.928714  0.841288  0.00  2.4300  2.940  3.5325  4.56\n",
            "KY      59.0  2.876780  0.722788  1.51  2.3200  2.860  3.4050  4.51\n",
            "LA      51.0  2.520196  0.759256  0.78  1.9300  2.460  3.1750  3.86\n",
            "MA      65.0  2.665077  0.791026  0.00  2.2700  2.700  3.2700  4.32\n",
            "MD      70.0  2.943571  0.736868  0.97  2.4375  2.970  3.3125  4.86\n",
            "ME      62.0  2.699355  0.698199  1.27  2.3575  2.660  3.1100  5.40\n",
            "MI      73.0  2.857397  0.816420  1.22  2.3000  2.780  3.3200  4.83\n",
            "MN      84.0  2.821071  0.713091  1.00  2.4300  2.810  3.2700  4.59\n",
            "MO      63.0  2.730476  0.793956  0.00  2.2000  2.840  3.2400  4.62\n",
            "MS      65.0  2.885538  0.749481  1.19  2.4600  2.970  3.4000  4.43\n",
            "MT      68.0  2.867647  0.636987  1.32  2.3950  2.890  3.4000  4.16\n",
            "NC      68.0  2.689412  0.721336  0.95  2.2050  2.670  3.0125  4.56\n",
            "ND      62.0  2.608226  0.858647  0.00  2.1150  2.590  3.1900  4.43\n",
            "NE      61.0  2.822131  0.827295  0.54  2.3800  2.810  3.1100  4.91\n",
            "NH      56.0  2.733571  0.661696  0.57  2.4000  2.780  3.1300  4.21\n",
            "NJ      68.0  2.919265  0.685281  1.11  2.4450  2.985  3.3125  4.24\n",
            "NM      62.0  2.793548  0.688162  0.00  2.3575  2.850  3.2500  4.08\n",
            "NV      66.0  2.710303  0.694769  1.40  2.1300  2.700  3.1400  4.59\n",
            "NY      83.0  2.696145  0.782536  0.00  2.3500  2.750  3.1200  4.16\n",
            "OH      78.0  2.781026  0.847000  0.00  2.1900  2.825  3.3075  4.75\n",
            "OK      61.0  2.828525  0.848094  1.05  2.2700  2.730  3.3800  4.81\n",
            "OR      78.0  2.784487  0.795560  0.54  2.1575  2.850  3.3725  4.97\n",
            "PA      45.0  2.832667  0.684532  1.35  2.5400  2.890  3.1600  4.59\n",
            "RI      65.0  2.672154  0.715082  1.03  2.2700  2.650  3.0200  4.37\n",
            "SC      60.0  2.677333  0.716233  1.00  2.3000  2.700  3.1950  4.21\n",
            "SD      60.0  2.717167  0.820221  0.65  2.1850  2.715  3.2525  4.43\n",
            "TN      53.0  2.776604  0.732603  1.35  2.2700  2.750  3.1600  4.56\n",
            "TX      72.0  2.851389  0.649911  0.92  2.4750  2.785  3.4650  4.08\n",
            "UT      72.0  2.762778  0.749669  1.38  2.2625  2.685  3.2750  4.86\n",
            "VA      77.0  2.864286  0.730314  0.00  2.5100  2.940  3.4000  4.35\n",
            "VT      73.0  2.741370  0.775459  0.00  2.2400  2.840  3.2400  3.89\n",
            "WA      66.0  2.643788  0.701359  0.95  2.1800  2.620  3.1325  4.19\n",
            "WI      78.0  2.631410  0.612730  0.00  2.3850  2.660  3.0075  4.13\n",
            "WV     106.0  2.718774  0.751805  0.30  2.2700  2.750  3.1525  4.40\n",
            "WY      77.0  2.806753  0.797724  0.35  2.3800  2.890  3.3800  4.29\n",
            "Customer service calls\n",
            "       count      mean       std  min  25%  50%   75%  max\n",
            "State                                                     \n",
            "AK      52.0  1.557692  1.243232  0.0  1.0  1.0  2.25  5.0\n",
            "AL      80.0  1.562500  1.403826  0.0  1.0  1.0  2.00  7.0\n",
            "AR      55.0  1.981818  1.627210  0.0  1.0  2.0  3.00  7.0\n",
            "AZ      64.0  1.593750  1.268905  0.0  1.0  1.0  2.00  4.0\n",
            "CA      34.0  1.470588  1.481917  0.0  0.0  1.0  2.00  5.0\n",
            "CO      66.0  1.787879  1.451950  0.0  1.0  1.0  3.00  6.0\n",
            "CT      74.0  1.513514  1.252321  0.0  1.0  1.0  2.00  5.0\n",
            "DC      54.0  1.351852  1.168088  0.0  1.0  1.0  2.00  5.0\n",
            "DE      61.0  1.622951  1.253847  0.0  1.0  2.0  2.00  5.0\n",
            "FL      63.0  1.571429  1.328524  0.0  0.5  1.0  3.00  5.0\n",
            "GA      54.0  1.925926  1.527754  0.0  1.0  2.0  3.00  7.0\n",
            "HI      53.0  1.547170  1.500846  0.0  1.0  1.0  2.00  7.0\n",
            "IA      44.0  1.590909  1.352314  0.0  1.0  1.0  2.00  5.0\n",
            "ID      73.0  1.671233  1.434252  0.0  1.0  1.0  3.00  6.0\n",
            "IL      58.0  1.137931  1.099414  0.0  0.0  1.0  2.00  4.0\n",
            "IN      71.0  1.690141  1.315746  0.0  1.0  1.0  3.00  5.0\n",
            "KS      70.0  1.385714  1.107195  0.0  1.0  1.0  2.00  4.0\n",
            "KY      59.0  1.711864  1.450931  0.0  1.0  2.0  2.00  7.0\n",
            "LA      51.0  1.568627  1.315369  0.0  1.0  1.0  2.00  6.0\n",
            "MA      65.0  1.215385  1.138699  0.0  0.0  1.0  2.00  4.0\n",
            "MD      70.0  1.700000  1.487630  0.0  1.0  1.0  3.00  6.0\n",
            "ME      62.0  1.741935  1.227225  0.0  1.0  2.0  2.00  4.0\n",
            "MI      73.0  1.630137  1.457803  0.0  1.0  1.0  2.00  7.0\n",
            "MN      84.0  1.547619  1.500239  0.0  1.0  1.0  2.00  9.0\n",
            "MO      63.0  1.555556  1.201850  0.0  1.0  1.0  2.00  5.0\n",
            "MS      65.0  1.692308  1.261486  0.0  1.0  1.0  2.00  6.0\n",
            "MT      68.0  1.632353  1.220526  0.0  1.0  1.0  2.00  6.0\n",
            "NC      68.0  1.558824  1.331393  0.0  1.0  1.0  2.00  6.0\n",
            "ND      62.0  1.451613  0.899497  0.0  1.0  1.0  2.00  4.0\n",
            "NE      61.0  1.459016  1.311154  0.0  0.0  1.0  2.00  6.0\n",
            "NH      56.0  1.517857  1.452159  0.0  1.0  1.0  2.00  8.0\n",
            "NJ      68.0  1.676471  1.510571  0.0  1.0  1.5  2.00  9.0\n",
            "NM      62.0  1.596774  1.062932  0.0  1.0  1.0  2.00  5.0\n",
            "NV      66.0  1.590909  1.149947  0.0  1.0  1.0  2.00  5.0\n",
            "NY      83.0  1.710843  1.383968  0.0  1.0  1.0  2.00  6.0\n",
            "OH      78.0  1.358974  1.258471  0.0  0.0  1.0  2.00  7.0\n",
            "OK      61.0  1.786885  1.343066  0.0  1.0  2.0  3.00  5.0\n",
            "OR      78.0  1.730769  1.286019  0.0  1.0  2.0  2.00  6.0\n",
            "PA      45.0  1.266667  1.175508  0.0  0.0  1.0  2.00  4.0\n",
            "RI      65.0  1.415385  1.297742  0.0  0.0  1.0  2.00  4.0\n",
            "SC      60.0  1.583333  1.521503  0.0  0.0  1.0  2.00  8.0\n",
            "SD      60.0  1.400000  1.060860  0.0  1.0  1.0  2.00  4.0\n",
            "TN      53.0  1.320755  1.236832  0.0  1.0  1.0  2.00  6.0\n",
            "TX      72.0  1.611111  1.327452  0.0  1.0  1.0  2.25  5.0\n",
            "UT      72.0  1.375000  1.271990  0.0  1.0  1.0  2.00  6.0\n",
            "VA      77.0  1.597403  1.248786  0.0  1.0  2.0  2.00  5.0\n",
            "VT      73.0  1.739726  1.554808  0.0  1.0  1.0  3.00  7.0\n",
            "WA      66.0  1.530303  1.315233  0.0  1.0  1.0  2.00  6.0\n",
            "WI      78.0  1.423077  1.222295  0.0  1.0  1.0  2.00  6.0\n",
            "WV     106.0  1.500000  1.197219  0.0  1.0  1.0  2.00  5.0\n",
            "WY      77.0  1.441558  1.272105  0.0  1.0  1.0  2.00  5.0\n",
            "Churn\n",
            "      count unique    top freq\n",
            "State                         \n",
            "AK       52      2  False   49\n",
            "AL       80      2  False   72\n",
            "AR       55      2  False   44\n",
            "AZ       64      2  False   60\n",
            "CA       34      2  False   25\n",
            "CO       66      2  False   57\n",
            "CT       74      2  False   62\n",
            "DC       54      2  False   49\n",
            "DE       61      2  False   52\n",
            "FL       63      2  False   55\n",
            "GA       54      2  False   46\n",
            "HI       53      2  False   50\n",
            "IA       44      2  False   41\n",
            "ID       73      2  False   64\n",
            "IL       58      2  False   53\n",
            "IN       71      2  False   62\n",
            "KS       70      2  False   57\n",
            "KY       59      2  False   51\n",
            "LA       51      2  False   47\n",
            "MA       65      2  False   54\n",
            "MD       70      2  False   53\n",
            "ME       62      2  False   49\n",
            "MI       73      2  False   57\n",
            "MN       84      2  False   69\n",
            "MO       63      2  False   56\n",
            "MS       65      2  False   51\n",
            "MT       68      2  False   54\n",
            "NC       68      2  False   57\n",
            "ND       62      2  False   56\n",
            "NE       61      2  False   56\n",
            "NH       56      2  False   47\n",
            "NJ       68      2  False   50\n",
            "NM       62      2  False   56\n",
            "NV       66      2  False   52\n",
            "NY       83      2  False   68\n",
            "OH       78      2  False   68\n",
            "OK       61      2  False   52\n",
            "OR       78      2  False   67\n",
            "PA       45      2  False   37\n",
            "RI       65      2  False   59\n",
            "SC       60      2  False   46\n",
            "SD       60      2  False   52\n",
            "TN       53      2  False   48\n",
            "TX       72      2  False   54\n",
            "UT       72      2  False   62\n",
            "VA       77      2  False   72\n",
            "VT       73      2  False   65\n",
            "WA       66      2  False   52\n",
            "WI       78      2  False   71\n",
            "WV      106      2  False   96\n",
            "WY       77      2  False   68\n"
          ],
          "name": "stdout"
        }
      ]
    },
    {
      "cell_type": "code",
      "metadata": {
        "colab": {
          "base_uri": "https://localhost:8080/",
          "height": 357
        },
        "id": "xzz7Sm0SY46n",
        "outputId": "3d0409c1-0bb2-479e-8ebb-f98d5e4c98b8"
      },
      "source": [
        "df4=df.groupby('State')['Churn'].describe()\n",
        "df4\n",
        "freq=df4['freq']\n",
        "count=df4['count']\n",
        "plt.rcParams['figure.figsize'] = (20, 5)\n",
        "(count-freq).plot(kind='bar')"
      ],
      "execution_count": 24,
      "outputs": [
        {
          "output_type": "execute_result",
          "data": {
            "text/plain": [
              "<matplotlib.axes._subplots.AxesSubplot at 0x7f011f11e750>"
            ]
          },
          "metadata": {
            "tags": []
          },
          "execution_count": 24
        },
        {
          "output_type": "display_data",
          "data": {
            "image/png": "[encoded data removed]",
            "text/plain": [
              "<Figure size 1440x360 with 1 Axes>"
            ]
          },
          "metadata": {
            "tags": [],
            "needs_background": "light"
          }
        }
      ]
    },
    {
      "cell_type": "code",
      "metadata": {
        "id": "1p_zyj2db-ju"
      },
      "source": [
        "true_churn=df.loc[(df['Churn']==True) & (df['Voice mail plan']=='Yes')]\n",
        "count_of_vmail_true=true_churn.groupby('State')['Number vmail messages'].median().rename('median_vmail_true')\n",
        "false_churn=df.loc[(df['Churn']==False) & (df['Voice mail plan']=='Yes')]\n",
        "count_of_vmail_false=false_churn.groupby('State')['Number vmail messages'].median().rename('median_vmail_false')"
      ],
      "execution_count": 31,
      "outputs": []
    },
    {
      "cell_type": "code",
      "metadata": {
        "colab": {
          "base_uri": "https://localhost:8080/",
          "height": 1000
        },
        "id": "_iu3WmAtgjP7",
        "outputId": "4441ca50-fb92-48f0-f51a-010772161ef0"
      },
      "source": [
        "df6=pd.concat([count_of_vmail_true,count-freq,count_of_vmail_false],axis=1).rename(columns={0:'number_churned_persons'})\n",
        "df6"
      ],
      "execution_count": 32,
      "outputs": [
        {
          "output_type": "execute_result",
          "data": {
            "text/html": [
              "<div>\n",
              "<style scoped>\n",
              "    .dataframe tbody tr th:only-of-type {\n",
              "        vertical-align: middle;\n",
              "    }\n",
              "\n",
              "    .dataframe tbody tr th {\n",
              "        vertical-align: top;\n",
              "    }\n",
              "\n",
              "    .dataframe thead th {\n",
              "        text-align: right;\n",
              "    }\n",
              "</style>\n",
              "<table border=\"1\" class=\"dataframe\">\n",
              "  <thead>\n",
              "    <tr style=\"text-align: right;\">\n",
              "      <th></th>\n",
              "      <th>median_vmail_true</th>\n",
              "      <th>number_churned_persons</th>\n",
              "      <th>median_vmail_false</th>\n",
              "    </tr>\n",
              "  </thead>\n",
              "  <tbody>\n",
              "    <tr>\n",
              "      <th>AL</th>\n",
              "      <td>29.0</td>\n",
              "      <td>8</td>\n",
              "      <td>28.0</td>\n",
              "    </tr>\n",
              "    <tr>\n",
              "      <th>AR</th>\n",
              "      <td>29.0</td>\n",
              "      <td>11</td>\n",
              "      <td>27.0</td>\n",
              "    </tr>\n",
              "    <tr>\n",
              "      <th>CA</th>\n",
              "      <td>24.5</td>\n",
              "      <td>9</td>\n",
              "      <td>31.0</td>\n",
              "    </tr>\n",
              "    <tr>\n",
              "      <th>CO</th>\n",
              "      <td>30.0</td>\n",
              "      <td>9</td>\n",
              "      <td>26.5</td>\n",
              "    </tr>\n",
              "    <tr>\n",
              "      <th>CT</th>\n",
              "      <td>37.0</td>\n",
              "      <td>12</td>\n",
              "      <td>32.5</td>\n",
              "    </tr>\n",
              "    <tr>\n",
              "      <th>DE</th>\n",
              "      <td>35.0</td>\n",
              "      <td>9</td>\n",
              "      <td>29.5</td>\n",
              "    </tr>\n",
              "    <tr>\n",
              "      <th>FL</th>\n",
              "      <td>40.5</td>\n",
              "      <td>8</td>\n",
              "      <td>28.0</td>\n",
              "    </tr>\n",
              "    <tr>\n",
              "      <th>GA</th>\n",
              "      <td>19.5</td>\n",
              "      <td>8</td>\n",
              "      <td>30.0</td>\n",
              "    </tr>\n",
              "    <tr>\n",
              "      <th>ID</th>\n",
              "      <td>29.0</td>\n",
              "      <td>9</td>\n",
              "      <td>29.0</td>\n",
              "    </tr>\n",
              "    <tr>\n",
              "      <th>IL</th>\n",
              "      <td>24.0</td>\n",
              "      <td>5</td>\n",
              "      <td>29.0</td>\n",
              "    </tr>\n",
              "    <tr>\n",
              "      <th>KS</th>\n",
              "      <td>34.5</td>\n",
              "      <td>13</td>\n",
              "      <td>26.0</td>\n",
              "    </tr>\n",
              "    <tr>\n",
              "      <th>KY</th>\n",
              "      <td>28.0</td>\n",
              "      <td>8</td>\n",
              "      <td>28.0</td>\n",
              "    </tr>\n",
              "    <tr>\n",
              "      <th>LA</th>\n",
              "      <td>27.0</td>\n",
              "      <td>4</td>\n",
              "      <td>32.5</td>\n",
              "    </tr>\n",
              "    <tr>\n",
              "      <th>MA</th>\n",
              "      <td>23.5</td>\n",
              "      <td>11</td>\n",
              "      <td>27.0</td>\n",
              "    </tr>\n",
              "    <tr>\n",
              "      <th>MD</th>\n",
              "      <td>41.5</td>\n",
              "      <td>17</td>\n",
              "      <td>31.0</td>\n",
              "    </tr>\n",
              "    <tr>\n",
              "      <th>ME</th>\n",
              "      <td>29.0</td>\n",
              "      <td>13</td>\n",
              "      <td>30.0</td>\n",
              "    </tr>\n",
              "    <tr>\n",
              "      <th>MI</th>\n",
              "      <td>27.0</td>\n",
              "      <td>16</td>\n",
              "      <td>28.0</td>\n",
              "    </tr>\n",
              "    <tr>\n",
              "      <th>MN</th>\n",
              "      <td>29.0</td>\n",
              "      <td>15</td>\n",
              "      <td>28.0</td>\n",
              "    </tr>\n",
              "    <tr>\n",
              "      <th>MS</th>\n",
              "      <td>27.0</td>\n",
              "      <td>14</td>\n",
              "      <td>29.5</td>\n",
              "    </tr>\n",
              "    <tr>\n",
              "      <th>MT</th>\n",
              "      <td>32.5</td>\n",
              "      <td>14</td>\n",
              "      <td>26.0</td>\n",
              "    </tr>\n",
              "    <tr>\n",
              "      <th>NC</th>\n",
              "      <td>32.0</td>\n",
              "      <td>11</td>\n",
              "      <td>31.0</td>\n",
              "    </tr>\n",
              "    <tr>\n",
              "      <th>ND</th>\n",
              "      <td>35.5</td>\n",
              "      <td>6</td>\n",
              "      <td>31.0</td>\n",
              "    </tr>\n",
              "    <tr>\n",
              "      <th>NH</th>\n",
              "      <td>32.0</td>\n",
              "      <td>9</td>\n",
              "      <td>26.0</td>\n",
              "    </tr>\n",
              "    <tr>\n",
              "      <th>NJ</th>\n",
              "      <td>34.0</td>\n",
              "      <td>18</td>\n",
              "      <td>31.0</td>\n",
              "    </tr>\n",
              "    <tr>\n",
              "      <th>NM</th>\n",
              "      <td>26.0</td>\n",
              "      <td>6</td>\n",
              "      <td>28.0</td>\n",
              "    </tr>\n",
              "    <tr>\n",
              "      <th>NV</th>\n",
              "      <td>29.0</td>\n",
              "      <td>14</td>\n",
              "      <td>34.0</td>\n",
              "    </tr>\n",
              "    <tr>\n",
              "      <th>NY</th>\n",
              "      <td>33.0</td>\n",
              "      <td>15</td>\n",
              "      <td>29.0</td>\n",
              "    </tr>\n",
              "    <tr>\n",
              "      <th>OH</th>\n",
              "      <td>24.0</td>\n",
              "      <td>10</td>\n",
              "      <td>29.5</td>\n",
              "    </tr>\n",
              "    <tr>\n",
              "      <th>OK</th>\n",
              "      <td>28.0</td>\n",
              "      <td>9</td>\n",
              "      <td>31.0</td>\n",
              "    </tr>\n",
              "    <tr>\n",
              "      <th>OR</th>\n",
              "      <td>28.5</td>\n",
              "      <td>11</td>\n",
              "      <td>30.0</td>\n",
              "    </tr>\n",
              "    <tr>\n",
              "      <th>PA</th>\n",
              "      <td>40.0</td>\n",
              "      <td>8</td>\n",
              "      <td>25.0</td>\n",
              "    </tr>\n",
              "    <tr>\n",
              "      <th>SC</th>\n",
              "      <td>28.0</td>\n",
              "      <td>14</td>\n",
              "      <td>29.0</td>\n",
              "    </tr>\n",
              "    <tr>\n",
              "      <th>SD</th>\n",
              "      <td>40.0</td>\n",
              "      <td>8</td>\n",
              "      <td>28.0</td>\n",
              "    </tr>\n",
              "    <tr>\n",
              "      <th>TN</th>\n",
              "      <td>32.5</td>\n",
              "      <td>5</td>\n",
              "      <td>25.5</td>\n",
              "    </tr>\n",
              "    <tr>\n",
              "      <th>TX</th>\n",
              "      <td>28.5</td>\n",
              "      <td>18</td>\n",
              "      <td>29.5</td>\n",
              "    </tr>\n",
              "    <tr>\n",
              "      <th>UT</th>\n",
              "      <td>40.0</td>\n",
              "      <td>10</td>\n",
              "      <td>26.0</td>\n",
              "    </tr>\n",
              "    <tr>\n",
              "      <th>VA</th>\n",
              "      <td>42.0</td>\n",
              "      <td>5</td>\n",
              "      <td>29.0</td>\n",
              "    </tr>\n",
              "    <tr>\n",
              "      <th>VT</th>\n",
              "      <td>41.0</td>\n",
              "      <td>8</td>\n",
              "      <td>29.0</td>\n",
              "    </tr>\n",
              "    <tr>\n",
              "      <th>WA</th>\n",
              "      <td>33.0</td>\n",
              "      <td>14</td>\n",
              "      <td>28.0</td>\n",
              "    </tr>\n",
              "    <tr>\n",
              "      <th>WI</th>\n",
              "      <td>28.0</td>\n",
              "      <td>7</td>\n",
              "      <td>28.5</td>\n",
              "    </tr>\n",
              "    <tr>\n",
              "      <th>WV</th>\n",
              "      <td>37.0</td>\n",
              "      <td>10</td>\n",
              "      <td>31.0</td>\n",
              "    </tr>\n",
              "    <tr>\n",
              "      <th>WY</th>\n",
              "      <td>26.0</td>\n",
              "      <td>9</td>\n",
              "      <td>28.0</td>\n",
              "    </tr>\n",
              "    <tr>\n",
              "      <th>AK</th>\n",
              "      <td>NaN</td>\n",
              "      <td>3</td>\n",
              "      <td>30.5</td>\n",
              "    </tr>\n",
              "    <tr>\n",
              "      <th>AZ</th>\n",
              "      <td>NaN</td>\n",
              "      <td>4</td>\n",
              "      <td>32.0</td>\n",
              "    </tr>\n",
              "    <tr>\n",
              "      <th>DC</th>\n",
              "      <td>NaN</td>\n",
              "      <td>5</td>\n",
              "      <td>30.0</td>\n",
              "    </tr>\n",
              "    <tr>\n",
              "      <th>HI</th>\n",
              "      <td>NaN</td>\n",
              "      <td>3</td>\n",
              "      <td>28.0</td>\n",
              "    </tr>\n",
              "    <tr>\n",
              "      <th>IA</th>\n",
              "      <td>NaN</td>\n",
              "      <td>3</td>\n",
              "      <td>29.5</td>\n",
              "    </tr>\n",
              "    <tr>\n",
              "      <th>IN</th>\n",
              "      <td>NaN</td>\n",
              "      <td>9</td>\n",
              "      <td>32.5</td>\n",
              "    </tr>\n",
              "    <tr>\n",
              "      <th>MO</th>\n",
              "      <td>NaN</td>\n",
              "      <td>7</td>\n",
              "      <td>29.0</td>\n",
              "    </tr>\n",
              "    <tr>\n",
              "      <th>NE</th>\n",
              "      <td>NaN</td>\n",
              "      <td>5</td>\n",
              "      <td>30.0</td>\n",
              "    </tr>\n",
              "    <tr>\n",
              "      <th>RI</th>\n",
              "      <td>NaN</td>\n",
              "      <td>6</td>\n",
              "      <td>27.0</td>\n",
              "    </tr>\n",
              "  </tbody>\n",
              "</table>\n",
              "</div>"
            ],
            "text/plain": [
              "    median_vmail_true number_churned_persons  median_vmail_false\n",
              "AL               29.0                      8                28.0\n",
              "AR               29.0                     11                27.0\n",
              "CA               24.5                      9                31.0\n",
              "CO               30.0                      9                26.5\n",
              "CT               37.0                     12                32.5\n",
              "DE               35.0                      9                29.5\n",
              "FL               40.5                      8                28.0\n",
              "GA               19.5                      8                30.0\n",
              "ID               29.0                      9                29.0\n",
              "IL               24.0                      5                29.0\n",
              "KS               34.5                     13                26.0\n",
              "KY               28.0                      8                28.0\n",
              "LA               27.0                      4                32.5\n",
              "MA               23.5                     11                27.0\n",
              "MD               41.5                     17                31.0\n",
              "ME               29.0                     13                30.0\n",
              "MI               27.0                     16                28.0\n",
              "MN               29.0                     15                28.0\n",
              "MS               27.0                     14                29.5\n",
              "MT               32.5                     14                26.0\n",
              "NC               32.0                     11                31.0\n",
              "ND               35.5                      6                31.0\n",
              "NH               32.0                      9                26.0\n",
              "NJ               34.0                     18                31.0\n",
              "NM               26.0                      6                28.0\n",
              "NV               29.0                     14                34.0\n",
              "NY               33.0                     15                29.0\n",
              "OH               24.0                     10                29.5\n",
              "OK               28.0                      9                31.0\n",
              "OR               28.5                     11                30.0\n",
              "PA               40.0                      8                25.0\n",
              "SC               28.0                     14                29.0\n",
              "SD               40.0                      8                28.0\n",
              "TN               32.5                      5                25.5\n",
              "TX               28.5                     18                29.5\n",
              "UT               40.0                     10                26.0\n",
              "VA               42.0                      5                29.0\n",
              "VT               41.0                      8                29.0\n",
              "WA               33.0                     14                28.0\n",
              "WI               28.0                      7                28.5\n",
              "WV               37.0                     10                31.0\n",
              "WY               26.0                      9                28.0\n",
              "AK                NaN                      3                30.5\n",
              "AZ                NaN                      4                32.0\n",
              "DC                NaN                      5                30.0\n",
              "HI                NaN                      3                28.0\n",
              "IA                NaN                      3                29.5\n",
              "IN                NaN                      9                32.5\n",
              "MO                NaN                      7                29.0\n",
              "NE                NaN                      5                30.0\n",
              "RI                NaN                      6                27.0"
            ]
          },
          "metadata": {
            "tags": []
          },
          "execution_count": 32
        }
      ]
    },
    {
      "cell_type": "code",
      "metadata": {
        "colab": {
          "base_uri": "https://localhost:8080/",
          "height": 339
        },
        "id": "vd8ABsqkoEbO",
        "outputId": "72e29523-e945-4166-f3af-55e6ef28a0d8"
      },
      "source": [
        "plt.rcParams['figure.figsize']=(25,5)\n",
        "df6.plot(kind='bar')"
      ],
      "execution_count": 33,
      "outputs": [
        {
          "output_type": "execute_result",
          "data": {
            "text/plain": [
              "<matplotlib.axes._subplots.AxesSubplot at 0x7f011ec3e350>"
            ]
          },
          "metadata": {
            "tags": []
          },
          "execution_count": 33
        },
        {
          "output_type": "display_data",
          "data": {
            "image/png": "[encoded data removed]",
            "text/plain": [
              "<Figure size 1800x360 with 1 Axes>"
            ]
          },
          "metadata": {
            "tags": [],
            "needs_background": "light"
          }
        }
      ]
    },
    {
      "cell_type": "code",
      "metadata": {
        "colab": {
          "base_uri": "https://localhost:8080/",
          "height": 352
        },
        "id": "LFmV7Q94pZgD",
        "outputId": "63aefa59-8a15-406b-c3c7-7cf2b3785c39"
      },
      "source": [
        "true_churn_absolute=df.loc[df['Churn']==True]\n",
        "account_length_true=true_churn_absolute.groupby('State')['Account length'].median().rename('median_account_length__true')\n",
        "false_churn_absolute=df.loc[df['Churn']==False]\n",
        "account_length_false=false_churn_absolute.groupby('State')['Account length'].median().rename('median_account_length_false')\n",
        "df7=pd.concat([account_length_true,count-freq,account_length_false],axis=1).rename(columns={0:'number_churned_persons'})\n",
        "plt.rcParams['figure.figsize']=(25,5)\n",
        "df7.plot(kind='bar')"
      ],
      "execution_count": 36,
      "outputs": [
        {
          "output_type": "execute_result",
          "data": {
            "text/plain": [
              "<matplotlib.axes._subplots.AxesSubplot at 0x7f011e5fa890>"
            ]
          },
          "metadata": {
            "tags": []
          },
          "execution_count": 36
        },
        {
          "output_type": "display_data",
          "data": {
            "image/png": "[encoded data removed]",
            "text/plain": [
              "<Figure size 1800x360 with 1 Axes>"
            ]
          },
          "metadata": {
            "tags": [],
            "needs_background": "light"
          }
        }
      ]
    },
    {
      "cell_type": "code",
      "metadata": {
        "colab": {
          "base_uri": "https://localhost:8080/",
          "height": 343
        },
        "id": "er2luefjO4NB",
        "outputId": "23c42e99-76e3-4566-ac11-032752bc9ed4"
      },
      "source": [
        "plt.rcParams['figure.figsize']=(10,5)\n",
        "true_churn_absolute['International plan'].value_counts().plot(kind='bar')"
      ],
      "execution_count": 38,
      "outputs": [
        {
          "output_type": "execute_result",
          "data": {
            "text/plain": [
              "<matplotlib.axes._subplots.AxesSubplot at 0x7f011df8e190>"
            ]
          },
          "metadata": {
            "tags": []
          },
          "execution_count": 38
        },
        {
          "output_type": "display_data",
          "data": {
            "image/png": "[encoded data removed]",
            "text/plain": [
              "<Figure size 720x360 with 1 Axes>"
            ]
          },
          "metadata": {
            "tags": [],
            "needs_background": "light"
          }
        }
      ]
    },
    {
      "cell_type": "code",
      "metadata": {
        "colab": {
          "base_uri": "https://localhost:8080/",
          "height": 343
        },
        "id": "c5epm8kOQ6Ab",
        "outputId": "7ba5ca1a-9766-4bdc-8d4d-e926c12c3478"
      },
      "source": [
        "plt.rcParams['figure.figsize']=(10,5)\n",
        "false_churn_absolute['International plan'].value_counts().plot(kind='bar')"
      ],
      "execution_count": 39,
      "outputs": [
        {
          "output_type": "execute_result",
          "data": {
            "text/plain": [
              "<matplotlib.axes._subplots.AxesSubplot at 0x7f011ded1f50>"
            ]
          },
          "metadata": {
            "tags": []
          },
          "execution_count": 39
        },
        {
          "output_type": "display_data",
          "data": {
            "image/png": "[encoded data removed]",
            "text/plain": [
              "<Figure size 720x360 with 1 Axes>"
            ]
          },
          "metadata": {
            "tags": [],
            "needs_background": "light"
          }
        }
      ]
    },
    {
      "cell_type": "code",
      "metadata": {
        "colab": {
          "base_uri": "https://localhost:8080/",
          "height": 352
        },
        "id": "R2-6rn4fRNmi",
        "outputId": "87f222c0-ec10-4a63-e07a-0143fc94d25a"
      },
      "source": [
        "day_minutes_true=true_churn_absolute.groupby('State')['Total day minutes'].median().rename('median_day_minutes__true')\n",
        "day_minutes_false=false_churn_absolute.groupby('State')['Total day minutes'].median().rename('median_day_minutes_false')\n",
        "df9=pd.concat([day_minutes_true,count-freq,day_minutes_false],axis=1).rename(columns={0:'number_churned_persons'})\n",
        "plt.rcParams['figure.figsize']=(25,5)\n",
        "df9.plot(kind='bar')"
      ],
      "execution_count": 40,
      "outputs": [
        {
          "output_type": "execute_result",
          "data": {
            "text/plain": [
              "<matplotlib.axes._subplots.AxesSubplot at 0x7f011dfd7810>"
            ]
          },
          "metadata": {
            "tags": []
          },
          "execution_count": 40
        },
        {
          "output_type": "display_data",
          "data": {
            "image/png": "[encoded data removed]",
            "text/plain": [
              "<Figure size 1800x360 with 1 Axes>"
            ]
          },
          "metadata": {
            "tags": [],
            "needs_background": "light"
          }
        }
      ]
    },
    {
      "cell_type": "code",
      "metadata": {
        "colab": {
          "base_uri": "https://localhost:8080/",
          "height": 357
        },
        "id": "3vM_djz6Tjjt",
        "outputId": "6696729f-2d95-47a7-b82c-722e7a8a7bc9"
      },
      "source": [
        "day_charge_true=true_churn_absolute.groupby('State')['Total day charge'].median().rename('median_day_charge__true')\n",
        "day_charge_false=false_churn_absolute.groupby('State')['Total day charge'].median().rename('median_day_charge_false')\n",
        "df10=pd.concat([day_charge_true,count-freq,day_charge_false],axis=1).rename(columns={0:'number_churned_persons'})\n",
        "plt.rcParams['figure.figsize']=(25,5)\n",
        "df10.plot(kind='bar')"
      ],
      "execution_count": 41,
      "outputs": [
        {
          "output_type": "execute_result",
          "data": {
            "text/plain": [
              "<matplotlib.axes._subplots.AxesSubplot at 0x7f011dbe2090>"
            ]
          },
          "metadata": {
            "tags": []
          },
          "execution_count": 41
        },
        {
          "output_type": "display_data",
          "data": {
            "image/png": "[encoded data removed]",
            "text/plain": [
              "<Figure size 1800x360 with 1 Axes>"
            ]
          },
          "metadata": {
            "tags": [],
            "needs_background": "light"
          }
        }
      ]
    },
    {
      "cell_type": "code",
      "metadata": {
        "colab": {
          "base_uri": "https://localhost:8080/",
          "height": 346
        },
        "id": "KjDnUj4CdpHf",
        "outputId": "c747467b-c695-43c0-eba0-882f95a2bb9a"
      },
      "source": [
        "df[['Total day minutes','Total day charge']].set_index('Total day charge').plot()"
      ],
      "execution_count": 44,
      "outputs": [
        {
          "output_type": "execute_result",
          "data": {
            "text/plain": [
              "<matplotlib.axes._subplots.AxesSubplot at 0x7f011bfc1a10>"
            ]
          },
          "metadata": {
            "tags": []
          },
          "execution_count": 44
        },
        {
          "output_type": "display_data",
          "data": {
            "image/png": "[encoded data removed]",
            "text/plain": [
              "<Figure size 1800x360 with 1 Axes>"
            ]
          },
          "metadata": {
            "tags": [],
            "needs_background": "light"
          }
        }
      ]
    },
    {
      "cell_type": "code",
      "metadata": {
        "colab": {
          "base_uri": "https://localhost:8080/",
          "height": 346
        },
        "id": "TYC9x5QbaBZR",
        "outputId": "b0bd9a99-840a-4eae-f15f-cba56217ae27"
      },
      "source": [
        "true_churn_absolute[['Total day minutes','Total day charge']].set_index('Total day charge').plot()"
      ],
      "execution_count": 43,
      "outputs": [
        {
          "output_type": "execute_result",
          "data": {
            "text/plain": [
              "<matplotlib.axes._subplots.AxesSubplot at 0x7f011d88a450>"
            ]
          },
          "metadata": {
            "tags": []
          },
          "execution_count": 43
        },
        {
          "output_type": "display_data",
          "data": {
            "image/png": "[encoded data removed]",
            "text/plain": [
              "<Figure size 1800x360 with 1 Axes>"
            ]
          },
          "metadata": {
            "tags": [],
            "needs_background": "light"
          }
        }
      ]
    },
    {
      "cell_type": "code",
      "metadata": {
        "colab": {
          "base_uri": "https://localhost:8080/",
          "height": 346
        },
        "id": "blaF6j-lcq7w",
        "outputId": "5d484598-1deb-4fe6-8b32-89810de5282b"
      },
      "source": [
        "false_churn_absolute[['Total day minutes','Total day charge']].set_index('Total day charge').plot()"
      ],
      "execution_count": 45,
      "outputs": [
        {
          "output_type": "execute_result",
          "data": {
            "text/plain": [
              "<matplotlib.axes._subplots.AxesSubplot at 0x7f011bf6c790>"
            ]
          },
          "metadata": {
            "tags": []
          },
          "execution_count": 45
        },
        {
          "output_type": "display_data",
          "data": {
            "image/png": "[encoded data removed]",
            "text/plain": [
              "<Figure size 1800x360 with 1 Axes>"
            ]
          },
          "metadata": {
            "tags": [],
            "needs_background": "light"
          }
        }
      ]
    },
    {
      "cell_type": "code",
      "metadata": {
        "colab": {
          "base_uri": "https://localhost:8080/",
          "height": 346
        },
        "id": "FS2kYIdrdxqs",
        "outputId": "4fa5325e-13e1-4de7-c830-8673ab70222a"
      },
      "source": [
        "df[['Total eve minutes','Total eve charge']].set_index('Total eve charge').plot()"
      ],
      "execution_count": 46,
      "outputs": [
        {
          "output_type": "execute_result",
          "data": {
            "text/plain": [
              "<matplotlib.axes._subplots.AxesSubplot at 0x7f011bee6510>"
            ]
          },
          "metadata": {
            "tags": []
          },
          "execution_count": 46
        },
        {
          "output_type": "display_data",
          "data": {
            "image/png": "[encoded data removed]",
            "text/plain": [
              "<Figure size 1800x360 with 1 Axes>"
            ]
          },
          "metadata": {
            "tags": [],
            "needs_background": "light"
          }
        }
      ]
    },
    {
      "cell_type": "code",
      "metadata": {
        "colab": {
          "base_uri": "https://localhost:8080/",
          "height": 346
        },
        "id": "_7UQdxmueImM",
        "outputId": "ea1c587d-81e2-4496-bf18-076eec421c64"
      },
      "source": [
        "true_churn_absolute[['Total eve minutes','Total eve charge']].set_index('Total eve charge').plot()"
      ],
      "execution_count": 47,
      "outputs": [
        {
          "output_type": "execute_result",
          "data": {
            "text/plain": [
              "<matplotlib.axes._subplots.AxesSubplot at 0x7f011be75310>"
            ]
          },
          "metadata": {
            "tags": []
          },
          "execution_count": 47
        },
        {
          "output_type": "display_data",
          "data": {
            "image/png": "[encoded data removed]",
            "text/plain": [
              "<Figure size 1800x360 with 1 Axes>"
            ]
          },
          "metadata": {
            "tags": [],
            "needs_background": "light"
          }
        }
      ]
    },
    {
      "cell_type": "code",
      "metadata": {
        "colab": {
          "base_uri": "https://localhost:8080/"
        },
        "id": "BWEu04LCeOnc",
        "outputId": "8c26baa0-9dab-4a11-c10a-b7e44457ce9b"
      },
      "source": [
        "x = df['Total day minutes']\n",
        "y = df['Total day charge']\n",
        "slope_intercept = np.polyfit(x,y,1)\n",
        "print(slope_intercept)"
      ],
      "execution_count": 48,
      "outputs": [
        {
          "output_type": "stream",
          "text": [
            "[0.1699996  0.00061344]\n"
          ],
          "name": "stdout"
        }
      ]
    },
    {
      "cell_type": "code",
      "metadata": {
        "colab": {
          "base_uri": "https://localhost:8080/"
        },
        "id": "6U10Q9V3fYbD",
        "outputId": "46775404-3852-479d-a8ff-f5f99975e841"
      },
      "source": [
        "x1 = true_churn_absolute['Total day minutes']\n",
        "y1 = true_churn_absolute['Total day charge']\n",
        "slope_intercept_1 = np.polyfit(x1,y1,1)\n",
        "print(slope_intercept_1)"
      ],
      "execution_count": 49,
      "outputs": [
        {
          "output_type": "stream",
          "text": [
            "[0.17000123 0.00027312]\n"
          ],
          "name": "stdout"
        }
      ]
    },
    {
      "cell_type": "code",
      "metadata": {
        "colab": {
          "base_uri": "https://localhost:8080/"
        },
        "id": "cp5pKdief6fs",
        "outputId": "870aa02a-3569-47b5-f40b-54ddc2bbc367"
      },
      "source": [
        "x2 = false_churn_absolute['Total day minutes']\n",
        "y2 = false_churn_absolute['Total day charge']\n",
        "slope_intercept_2 = np.polyfit(x2,y2,1)\n",
        "print(slope_intercept_2)"
      ],
      "execution_count": 50,
      "outputs": [
        {
          "output_type": "stream",
          "text": [
            "[0.16999908 0.00070478]\n"
          ],
          "name": "stdout"
        }
      ]
    },
    {
      "cell_type": "code",
      "metadata": {
        "colab": {
          "base_uri": "https://localhost:8080/"
        },
        "id": "UWhbQxImgFVZ",
        "outputId": "ce19cddd-dfc1-4b47-a998-77c51988e320"
      },
      "source": [
        "x = df['Total eve minutes']\n",
        "y = df['Total eve charge']\n",
        "slope_intercept = np.polyfit(x,y,1)\n",
        "print(slope_intercept)\n",
        "x1 = true_churn_absolute['Total eve minutes']\n",
        "y1 = true_churn_absolute['Total eve charge']\n",
        "slope_intercept_1 = np.polyfit(x1,y1,1)\n",
        "print(slope_intercept_1)\n",
        "x2 = false_churn_absolute['Total eve minutes']\n",
        "y2 = false_churn_absolute['Total eve charge']\n",
        "slope_intercept_2 = np.polyfit(x2,y2,1)\n",
        "print(slope_intercept_2)"
      ],
      "execution_count": 51,
      "outputs": [
        {
          "output_type": "stream",
          "text": [
            "[0.0849998  0.00025079]\n",
            "[0.08499621 0.00091152]\n",
            "[0.08500053 0.00012199]\n"
          ],
          "name": "stdout"
        }
      ]
    },
    {
      "cell_type": "code",
      "metadata": {
        "colab": {
          "base_uri": "https://localhost:8080/"
        },
        "id": "ioODqpKIglSi",
        "outputId": "7bf51744-5c3a-4c0b-c2b0-ac8b360c791c"
      },
      "source": [
        "x = df['Total night minutes']\n",
        "y = df['Total night charge']\n",
        "slope_intercept = np.polyfit(x,y,1)\n",
        "print(slope_intercept)\n",
        "x1 = true_churn_absolute['Total night minutes']\n",
        "y1 = true_churn_absolute['Total night charge']\n",
        "slope_intercept_1 = np.polyfit(x1,y1,1)\n",
        "print(slope_intercept_1)\n",
        "x2 = false_churn_absolute['Total night minutes']\n",
        "y2 = false_churn_absolute['Total night charge']\n",
        "slope_intercept_2 = np.polyfit(x2,y2,1)\n",
        "print(slope_intercept_2)"
      ],
      "execution_count": 52,
      "outputs": [
        {
          "output_type": "stream",
          "text": [
            "[ 0.04500095 -0.00010713]\n",
            "[ 0.04500215 -0.00033908]\n",
            "[ 4.50007696e-02 -7.40249342e-05]\n"
          ],
          "name": "stdout"
        }
      ]
    },
    {
      "cell_type": "code",
      "metadata": {
        "colab": {
          "base_uri": "https://localhost:8080/",
          "height": 346
        },
        "id": "XsO7ulnmpKds",
        "outputId": "a0b252ff-8ee1-4eb3-ee31-9fc0a40d222a"
      },
      "source": [
        "true_churn_absolute[['Total intl minutes','Total intl charge']].set_index('Total intl charge').plot()"
      ],
      "execution_count": 59,
      "outputs": [
        {
          "output_type": "execute_result",
          "data": {
            "text/plain": [
              "<matplotlib.axes._subplots.AxesSubplot at 0x7f011bd68150>"
            ]
          },
          "metadata": {
            "tags": []
          },
          "execution_count": 59
        },
        {
          "output_type": "display_data",
          "data": {
            "image/png": "[encoded data removed]",
            "text/plain": [
              "<Figure size 1800x360 with 1 Axes>"
            ]
          },
          "metadata": {
            "tags": [],
            "needs_background": "light"
          }
        }
      ]
    },
    {
      "cell_type": "code",
      "metadata": {
        "colab": {
          "base_uri": "https://localhost:8080/"
        },
        "id": "W_XPX_p8hMBo",
        "outputId": "a569666c-7428-4595-b88e-81691e694a1d"
      },
      "source": [
        "x1 = true_churn_absolute.loc[df['International plan']=='Yes','Total intl minutes']\n",
        "y1 = true_churn_absolute.loc[df['International plan']=='Yes','Total intl charge']\n",
        "slope_intercept_1 = np.polyfit(x1,y1,1)\n",
        "print(slope_intercept_1)\n",
        "x2 = true_churn_absolute.loc[df['International plan']=='No','Total intl minutes']\n",
        "y2 = true_churn_absolute.loc[df['International plan']=='No','Total intl charge']\n",
        "slope_intercept_2 = np.polyfit(x2,y2,1)\n",
        "print(slope_intercept_2)"
      ],
      "execution_count": 58,
      "outputs": [
        {
          "output_type": "stream",
          "text": [
            "[0.26997055 0.00039074]\n",
            "[2.70049309e-01 2.36298105e-04]\n"
          ],
          "name": "stdout"
        }
      ]
    },
    {
      "cell_type": "code",
      "metadata": {
        "colab": {
          "base_uri": "https://localhost:8080/"
        },
        "id": "3uhVpUMZoL07",
        "outputId": "28acb613-b5de-4026-94af-64c4f920c734"
      },
      "source": [
        "x1 = false_churn_absolute.loc[df['International plan']=='Yes','Total intl minutes']\n",
        "y1 = false_churn_absolute.loc[df['International plan']=='Yes','Total intl charge']\n",
        "slope_intercept_1 = np.polyfit(x1,y1,1)\n",
        "print(slope_intercept_1)\n",
        "x2 = false_churn_absolute.loc[df['International plan']=='No','Total intl minutes']\n",
        "y2 = false_churn_absolute.loc[df['International plan']=='No','Total intl charge']\n",
        "slope_intercept_2 = np.polyfit(x2,y2,1)\n",
        "print(slope_intercept_2)"
      ],
      "execution_count": 60,
      "outputs": [
        {
          "output_type": "stream",
          "text": [
            "[0.26986501 0.00180921]\n",
            "[0.2699931  0.00057812]\n"
          ],
          "name": "stdout"
        }
      ]
    },
    {
      "cell_type": "code",
      "metadata": {
        "colab": {
          "base_uri": "https://localhost:8080/"
        },
        "id": "_na29rwbpslq",
        "outputId": "f52641c5-c07d-40c4-998c-a661c4ff6f9b"
      },
      "source": [
        "true_churn_absolute['Customer service calls'].median()"
      ],
      "execution_count": 61,
      "outputs": [
        {
          "output_type": "execute_result",
          "data": {
            "text/plain": [
              "2.0"
            ]
          },
          "metadata": {
            "tags": []
          },
          "execution_count": 61
        }
      ]
    },
    {
      "cell_type": "code",
      "metadata": {
        "colab": {
          "base_uri": "https://localhost:8080/"
        },
        "id": "nrvPHIj1qDte",
        "outputId": "5da8bc67-41d4-44e0-9171-15d1c9f7bc12"
      },
      "source": [
        "false_churn_absolute['Customer service calls'].median()"
      ],
      "execution_count": 62,
      "outputs": [
        {
          "output_type": "execute_result",
          "data": {
            "text/plain": [
              "1.0"
            ]
          },
          "metadata": {
            "tags": []
          },
          "execution_count": 62
        }
      ]
    },
    {
      "cell_type": "code",
      "metadata": {
        "id": "PqTfgoxyqFtk"
      },
      "source": [
        ""
      ],
      "execution_count": null,
      "outputs": []
    }
  ]
}