{
  "nbformat": 4,
  "nbformat_minor": 0,
  "metadata": {
    "kernelspec": {
      "display_name": "Python 3",
      "language": "python",
      "name": "python3"
    },
    "language_info": {
      "codemirror_mode": {
        "name": "ipython",
        "version": 3
      },
      "file_extension": ".py",
      "mimetype": "text/x-python",
      "name": "python",
      "nbconvert_exporter": "python",
      "pygments_lexer": "ipython3",
      "version": "3.6.6"
    },
    "colab": {
      "name": "Telecom Churn Analysis_Structured_Bivariate - Capstone Project.ipynb",
      "provenance": [],
      "collapsed_sections": [],
      "include_colab_link": true
    }
  },
  "cells": [
    {
      "cell_type": "markdown",
      "metadata": {
        "id": "view-in-github",
        "colab_type": "text"
      },
      "source": [
        "<a href=\"https://colab.research.google.com/github/sanjogmish/Telecom_Churn_Analysis/blob/main/Telecom_Churn_Analysis_Structured_Bivariate_Capstone_Project.ipynb\" target=\"_parent\"><img src=\"https://colab.research.google.com/assets/colab-badge.svg\" alt=\"Open In Colab\"/></a>"
      ]
    },
    {
      "cell_type": "markdown",
      "metadata": {
        "id": "Y06xIdG26kRF"
      },
      "source": [
        "## <b> Orange S.A., formerly France Télécom S.A., is a French multinational telecommunications corporation. The Orange Telecom's Churn Dataset, consists of cleaned customer activity data (features), along with a churn label specifying whether a customer canceled the subscription.\n",
        "\n",
        "## <b> Explore and analyze the data to discover key factors responsible for customer churn and come up with ways/recommendations to ensure customer retention. </b>"
      ]
    },
    {
      "cell_type": "code",
      "metadata": {
        "colab": {
          "base_uri": "https://localhost:8080/"
        },
        "id": "X6c30OQPktLU",
        "outputId": "ad19fe74-5169-4846-c009-acdd652499f2"
      },
      "source": [
        "from google.colab import drive\n",
        "drive.mount('/content/drive')"
      ],
      "execution_count": 1,
      "outputs": [
        {
          "output_type": "stream",
          "text": [
            "Mounted at /content/drive\n"
          ],
          "name": "stdout"
        }
      ]
    },
    {
      "cell_type": "code",
      "metadata": {
        "id": "NmF1fFYekt0G"
      },
      "source": [
        "import pandas as pd\n",
        "import numpy as np"
      ],
      "execution_count": 2,
      "outputs": []
    },
    {
      "cell_type": "code",
      "metadata": {
        "id": "Q8NG08kek0c1"
      },
      "source": [
        "filepath='/content/drive/MyDrive/Almabetter/project/Telecom Churn.csv'\n",
        "df=pd.read_csv(filepath)"
      ],
      "execution_count": 3,
      "outputs": []
    },
    {
      "cell_type": "code",
      "metadata": {
        "id": "FROhL8aIk3cH"
      },
      "source": [
        "import matplotlib.pyplot as plt\n",
        "%matplotlib inline\n",
        "import seaborn as sns"
      ],
      "execution_count": 4,
      "outputs": []
    },
    {
      "cell_type": "markdown",
      "metadata": {
        "id": "1liXZww8k8FZ"
      },
      "source": [
        "**BIVARIATE ANALYSIS**"
      ]
    },
    {
      "cell_type": "code",
      "metadata": {
        "colab": {
          "base_uri": "https://localhost:8080/",
          "height": 545
        },
        "id": "hNVloci3Kosn",
        "outputId": "5f1efb74-0699-443b-e264-e5b620bef292"
      },
      "source": [
        "df.head(15)"
      ],
      "execution_count": 5,
      "outputs": [
        {
          "output_type": "execute_result",
          "data": {
            "text/html": [
              "<div>\n",
              "<style scoped>\n",
              "    .dataframe tbody tr th:only-of-type {\n",
              "        vertical-align: middle;\n",
              "    }\n",
              "\n",
              "    .dataframe tbody tr th {\n",
              "        vertical-align: top;\n",
              "    }\n",
              "\n",
              "    .dataframe thead th {\n",
              "        text-align: right;\n",
              "    }\n",
              "</style>\n",
              "<table border=\"1\" class=\"dataframe\">\n",
              "  <thead>\n",
              "    <tr style=\"text-align: right;\">\n",
              "      <th></th>\n",
              "      <th>State</th>\n",
              "      <th>Account length</th>\n",
              "      <th>Area code</th>\n",
              "      <th>International plan</th>\n",
              "      <th>Voice mail plan</th>\n",
              "      <th>Number vmail messages</th>\n",
              "      <th>Total day minutes</th>\n",
              "      <th>Total day calls</th>\n",
              "      <th>Total day charge</th>\n",
              "      <th>Total eve minutes</th>\n",
              "      <th>Total eve calls</th>\n",
              "      <th>Total eve charge</th>\n",
              "      <th>Total night minutes</th>\n",
              "      <th>Total night calls</th>\n",
              "      <th>Total night charge</th>\n",
              "      <th>Total intl minutes</th>\n",
              "      <th>Total intl calls</th>\n",
              "      <th>Total intl charge</th>\n",
              "      <th>Customer service calls</th>\n",
              "      <th>Churn</th>\n",
              "    </tr>\n",
              "  </thead>\n",
              "  <tbody>\n",
              "    <tr>\n",
              "      <th>0</th>\n",
              "      <td>KS</td>\n",
              "      <td>128</td>\n",
              "      <td>415</td>\n",
              "      <td>No</td>\n",
              "      <td>Yes</td>\n",
              "      <td>25</td>\n",
              "      <td>265.1</td>\n",
              "      <td>110</td>\n",
              "      <td>45.07</td>\n",
              "      <td>197.4</td>\n",
              "      <td>99</td>\n",
              "      <td>16.78</td>\n",
              "      <td>244.7</td>\n",
              "      <td>91</td>\n",
              "      <td>11.01</td>\n",
              "      <td>10.0</td>\n",
              "      <td>3</td>\n",
              "      <td>2.70</td>\n",
              "      <td>1</td>\n",
              "      <td>False</td>\n",
              "    </tr>\n",
              "    <tr>\n",
              "      <th>1</th>\n",
              "      <td>OH</td>\n",
              "      <td>107</td>\n",
              "      <td>415</td>\n",
              "      <td>No</td>\n",
              "      <td>Yes</td>\n",
              "      <td>26</td>\n",
              "      <td>161.6</td>\n",
              "      <td>123</td>\n",
              "      <td>27.47</td>\n",
              "      <td>195.5</td>\n",
              "      <td>103</td>\n",
              "      <td>16.62</td>\n",
              "      <td>254.4</td>\n",
              "      <td>103</td>\n",
              "      <td>11.45</td>\n",
              "      <td>13.7</td>\n",
              "      <td>3</td>\n",
              "      <td>3.70</td>\n",
              "      <td>1</td>\n",
              "      <td>False</td>\n",
              "    </tr>\n",
              "    <tr>\n",
              "      <th>2</th>\n",
              "      <td>NJ</td>\n",
              "      <td>137</td>\n",
              "      <td>415</td>\n",
              "      <td>No</td>\n",
              "      <td>No</td>\n",
              "      <td>0</td>\n",
              "      <td>243.4</td>\n",
              "      <td>114</td>\n",
              "      <td>41.38</td>\n",
              "      <td>121.2</td>\n",
              "      <td>110</td>\n",
              "      <td>10.30</td>\n",
              "      <td>162.6</td>\n",
              "      <td>104</td>\n",
              "      <td>7.32</td>\n",
              "      <td>12.2</td>\n",
              "      <td>5</td>\n",
              "      <td>3.29</td>\n",
              "      <td>0</td>\n",
              "      <td>False</td>\n",
              "    </tr>\n",
              "    <tr>\n",
              "      <th>3</th>\n",
              "      <td>OH</td>\n",
              "      <td>84</td>\n",
              "      <td>408</td>\n",
              "      <td>Yes</td>\n",
              "      <td>No</td>\n",
              "      <td>0</td>\n",
              "      <td>299.4</td>\n",
              "      <td>71</td>\n",
              "      <td>50.90</td>\n",
              "      <td>61.9</td>\n",
              "      <td>88</td>\n",
              "      <td>5.26</td>\n",
              "      <td>196.9</td>\n",
              "      <td>89</td>\n",
              "      <td>8.86</td>\n",
              "      <td>6.6</td>\n",
              "      <td>7</td>\n",
              "      <td>1.78</td>\n",
              "      <td>2</td>\n",
              "      <td>False</td>\n",
              "    </tr>\n",
              "    <tr>\n",
              "      <th>4</th>\n",
              "      <td>OK</td>\n",
              "      <td>75</td>\n",
              "      <td>415</td>\n",
              "      <td>Yes</td>\n",
              "      <td>No</td>\n",
              "      <td>0</td>\n",
              "      <td>166.7</td>\n",
              "      <td>113</td>\n",
              "      <td>28.34</td>\n",
              "      <td>148.3</td>\n",
              "      <td>122</td>\n",
              "      <td>12.61</td>\n",
              "      <td>186.9</td>\n",
              "      <td>121</td>\n",
              "      <td>8.41</td>\n",
              "      <td>10.1</td>\n",
              "      <td>3</td>\n",
              "      <td>2.73</td>\n",
              "      <td>3</td>\n",
              "      <td>False</td>\n",
              "    </tr>\n",
              "    <tr>\n",
              "      <th>5</th>\n",
              "      <td>AL</td>\n",
              "      <td>118</td>\n",
              "      <td>510</td>\n",
              "      <td>Yes</td>\n",
              "      <td>No</td>\n",
              "      <td>0</td>\n",
              "      <td>223.4</td>\n",
              "      <td>98</td>\n",
              "      <td>37.98</td>\n",
              "      <td>220.6</td>\n",
              "      <td>101</td>\n",
              "      <td>18.75</td>\n",
              "      <td>203.9</td>\n",
              "      <td>118</td>\n",
              "      <td>9.18</td>\n",
              "      <td>6.3</td>\n",
              "      <td>6</td>\n",
              "      <td>1.70</td>\n",
              "      <td>0</td>\n",
              "      <td>False</td>\n",
              "    </tr>\n",
              "    <tr>\n",
              "      <th>6</th>\n",
              "      <td>MA</td>\n",
              "      <td>121</td>\n",
              "      <td>510</td>\n",
              "      <td>No</td>\n",
              "      <td>Yes</td>\n",
              "      <td>24</td>\n",
              "      <td>218.2</td>\n",
              "      <td>88</td>\n",
              "      <td>37.09</td>\n",
              "      <td>348.5</td>\n",
              "      <td>108</td>\n",
              "      <td>29.62</td>\n",
              "      <td>212.6</td>\n",
              "      <td>118</td>\n",
              "      <td>9.57</td>\n",
              "      <td>7.5</td>\n",
              "      <td>7</td>\n",
              "      <td>2.03</td>\n",
              "      <td>3</td>\n",
              "      <td>False</td>\n",
              "    </tr>\n",
              "    <tr>\n",
              "      <th>7</th>\n",
              "      <td>MO</td>\n",
              "      <td>147</td>\n",
              "      <td>415</td>\n",
              "      <td>Yes</td>\n",
              "      <td>No</td>\n",
              "      <td>0</td>\n",
              "      <td>157.0</td>\n",
              "      <td>79</td>\n",
              "      <td>26.69</td>\n",
              "      <td>103.1</td>\n",
              "      <td>94</td>\n",
              "      <td>8.76</td>\n",
              "      <td>211.8</td>\n",
              "      <td>96</td>\n",
              "      <td>9.53</td>\n",
              "      <td>7.1</td>\n",
              "      <td>6</td>\n",
              "      <td>1.92</td>\n",
              "      <td>0</td>\n",
              "      <td>False</td>\n",
              "    </tr>\n",
              "    <tr>\n",
              "      <th>8</th>\n",
              "      <td>LA</td>\n",
              "      <td>117</td>\n",
              "      <td>408</td>\n",
              "      <td>No</td>\n",
              "      <td>No</td>\n",
              "      <td>0</td>\n",
              "      <td>184.5</td>\n",
              "      <td>97</td>\n",
              "      <td>31.37</td>\n",
              "      <td>351.6</td>\n",
              "      <td>80</td>\n",
              "      <td>29.89</td>\n",
              "      <td>215.8</td>\n",
              "      <td>90</td>\n",
              "      <td>9.71</td>\n",
              "      <td>8.7</td>\n",
              "      <td>4</td>\n",
              "      <td>2.35</td>\n",
              "      <td>1</td>\n",
              "      <td>False</td>\n",
              "    </tr>\n",
              "    <tr>\n",
              "      <th>9</th>\n",
              "      <td>WV</td>\n",
              "      <td>141</td>\n",
              "      <td>415</td>\n",
              "      <td>Yes</td>\n",
              "      <td>Yes</td>\n",
              "      <td>37</td>\n",
              "      <td>258.6</td>\n",
              "      <td>84</td>\n",
              "      <td>43.96</td>\n",
              "      <td>222.0</td>\n",
              "      <td>111</td>\n",
              "      <td>18.87</td>\n",
              "      <td>326.4</td>\n",
              "      <td>97</td>\n",
              "      <td>14.69</td>\n",
              "      <td>11.2</td>\n",
              "      <td>5</td>\n",
              "      <td>3.02</td>\n",
              "      <td>0</td>\n",
              "      <td>False</td>\n",
              "    </tr>\n",
              "    <tr>\n",
              "      <th>10</th>\n",
              "      <td>IN</td>\n",
              "      <td>65</td>\n",
              "      <td>415</td>\n",
              "      <td>No</td>\n",
              "      <td>No</td>\n",
              "      <td>0</td>\n",
              "      <td>129.1</td>\n",
              "      <td>137</td>\n",
              "      <td>21.95</td>\n",
              "      <td>228.5</td>\n",
              "      <td>83</td>\n",
              "      <td>19.42</td>\n",
              "      <td>208.8</td>\n",
              "      <td>111</td>\n",
              "      <td>9.40</td>\n",
              "      <td>12.7</td>\n",
              "      <td>6</td>\n",
              "      <td>3.43</td>\n",
              "      <td>4</td>\n",
              "      <td>True</td>\n",
              "    </tr>\n",
              "    <tr>\n",
              "      <th>11</th>\n",
              "      <td>RI</td>\n",
              "      <td>74</td>\n",
              "      <td>415</td>\n",
              "      <td>No</td>\n",
              "      <td>No</td>\n",
              "      <td>0</td>\n",
              "      <td>187.7</td>\n",
              "      <td>127</td>\n",
              "      <td>31.91</td>\n",
              "      <td>163.4</td>\n",
              "      <td>148</td>\n",
              "      <td>13.89</td>\n",
              "      <td>196.0</td>\n",
              "      <td>94</td>\n",
              "      <td>8.82</td>\n",
              "      <td>9.1</td>\n",
              "      <td>5</td>\n",
              "      <td>2.46</td>\n",
              "      <td>0</td>\n",
              "      <td>False</td>\n",
              "    </tr>\n",
              "    <tr>\n",
              "      <th>12</th>\n",
              "      <td>IA</td>\n",
              "      <td>168</td>\n",
              "      <td>408</td>\n",
              "      <td>No</td>\n",
              "      <td>No</td>\n",
              "      <td>0</td>\n",
              "      <td>128.8</td>\n",
              "      <td>96</td>\n",
              "      <td>21.90</td>\n",
              "      <td>104.9</td>\n",
              "      <td>71</td>\n",
              "      <td>8.92</td>\n",
              "      <td>141.1</td>\n",
              "      <td>128</td>\n",
              "      <td>6.35</td>\n",
              "      <td>11.2</td>\n",
              "      <td>2</td>\n",
              "      <td>3.02</td>\n",
              "      <td>1</td>\n",
              "      <td>False</td>\n",
              "    </tr>\n",
              "    <tr>\n",
              "      <th>13</th>\n",
              "      <td>MT</td>\n",
              "      <td>95</td>\n",
              "      <td>510</td>\n",
              "      <td>No</td>\n",
              "      <td>No</td>\n",
              "      <td>0</td>\n",
              "      <td>156.6</td>\n",
              "      <td>88</td>\n",
              "      <td>26.62</td>\n",
              "      <td>247.6</td>\n",
              "      <td>75</td>\n",
              "      <td>21.05</td>\n",
              "      <td>192.3</td>\n",
              "      <td>115</td>\n",
              "      <td>8.65</td>\n",
              "      <td>12.3</td>\n",
              "      <td>5</td>\n",
              "      <td>3.32</td>\n",
              "      <td>3</td>\n",
              "      <td>False</td>\n",
              "    </tr>\n",
              "    <tr>\n",
              "      <th>14</th>\n",
              "      <td>IA</td>\n",
              "      <td>62</td>\n",
              "      <td>415</td>\n",
              "      <td>No</td>\n",
              "      <td>No</td>\n",
              "      <td>0</td>\n",
              "      <td>120.7</td>\n",
              "      <td>70</td>\n",
              "      <td>20.52</td>\n",
              "      <td>307.2</td>\n",
              "      <td>76</td>\n",
              "      <td>26.11</td>\n",
              "      <td>203.0</td>\n",
              "      <td>99</td>\n",
              "      <td>9.14</td>\n",
              "      <td>13.1</td>\n",
              "      <td>6</td>\n",
              "      <td>3.54</td>\n",
              "      <td>4</td>\n",
              "      <td>False</td>\n",
              "    </tr>\n",
              "  </tbody>\n",
              "</table>\n",
              "</div>"
            ],
            "text/plain": [
              "   State  Account length  ...  Customer service calls  Churn\n",
              "0     KS             128  ...                       1  False\n",
              "1     OH             107  ...                       1  False\n",
              "2     NJ             137  ...                       0  False\n",
              "3     OH              84  ...                       2  False\n",
              "4     OK              75  ...                       3  False\n",
              "5     AL             118  ...                       0  False\n",
              "6     MA             121  ...                       3  False\n",
              "7     MO             147  ...                       0  False\n",
              "8     LA             117  ...                       1  False\n",
              "9     WV             141  ...                       0  False\n",
              "10    IN              65  ...                       4   True\n",
              "11    RI              74  ...                       0  False\n",
              "12    IA             168  ...                       1  False\n",
              "13    MT              95  ...                       3  False\n",
              "14    IA              62  ...                       4  False\n",
              "\n",
              "[15 rows x 20 columns]"
            ]
          },
          "metadata": {
            "tags": []
          },
          "execution_count": 5
        }
      ]
    },
    {
      "cell_type": "code",
      "metadata": {
        "id": "ZKNrY6hek5tR"
      },
      "source": [
        "churn_true=df.loc[df['Churn']==True]\n",
        "churn_false=df.loc[df['Churn']==False]"
      ],
      "execution_count": 6,
      "outputs": []
    },
    {
      "cell_type": "code",
      "metadata": {
        "colab": {
          "base_uri": "https://localhost:8080/",
          "height": 319
        },
        "id": "8F4wjeykl3jP",
        "outputId": "c30f3b59-566e-4d68-c04d-1b4140d6ed19"
      },
      "source": [
        "churn_true['State'].value_counts().plot(kind='bar')\n",
        "plt.rcParams['figure.figsize'] = (40,5)\n",
        "plt.title('Churned Customers Distribution Across States')\n",
        "plt.ylabel('Number of churned customers')\n",
        "plt.xlabel('States')"
      ],
      "execution_count": 7,
      "outputs": [
        {
          "output_type": "execute_result",
          "data": {
            "text/plain": [
              "Text(0.5, 0, 'States')"
            ]
          },
          "metadata": {
            "tags": []
          },
          "execution_count": 7
        },
        {
          "output_type": "display_data",
          "data": {
            "image/png": "[encoded data removed]",
            "text/plain": [
              "<Figure size 432x288 with 1 Axes>"
            ]
          },
          "metadata": {
            "tags": [],
            "needs_background": "light"
          }
        }
      ]
    },
    {
      "cell_type": "code",
      "metadata": {
        "colab": {
          "base_uri": "https://localhost:8080/"
        },
        "id": "viDbqYbNmY-K",
        "outputId": "238e06c1-8adb-4bd9-95a8-dd313ae6cc9c"
      },
      "source": [
        "churn_true['State'].value_counts().mean()"
      ],
      "execution_count": 8,
      "outputs": [
        {
          "output_type": "execute_result",
          "data": {
            "text/plain": [
              "9.470588235294118"
            ]
          },
          "metadata": {
            "tags": []
          },
          "execution_count": 8
        }
      ]
    },
    {
      "cell_type": "code",
      "metadata": {
        "colab": {
          "base_uri": "https://localhost:8080/",
          "height": 276
        },
        "id": "L1NXhLpRo_7T",
        "outputId": "af1e9458-e27d-41b7-acce-d2c2b29293b7"
      },
      "source": [
        "account_length_true = churn_true['Account length']\n",
        "sns.distplot(account_length_true, hist=True).set(title='Account Length Churned Customers Distribution')\n",
        "plt.rcParams['figure.figsize'] = (15,5)"
      ],
      "execution_count": 9,
      "outputs": [
        {
          "output_type": "stream",
          "text": [
            "/usr/local/lib/python3.7/dist-packages/seaborn/distributions.py:2557: FutureWarning: `distplot` is a deprecated function and will be removed in a future version. Please adapt your code to use either `displot` (a figure-level function with similar flexibility) or `histplot` (an axes-level function for histograms).\n",
            "  warnings.warn(msg, FutureWarning)\n"
          ],
          "name": "stderr"
        },
        {
          "output_type": "display_data",
          "data": {
            "image/png": "[encoded data removed]",
            "text/plain": [
              "<Figure size 2880x360 with 1 Axes>"
            ]
          },
          "metadata": {
            "tags": [],
            "needs_background": "light"
          }
        }
      ]
    },
    {
      "cell_type": "code",
      "metadata": {
        "colab": {
          "base_uri": "https://localhost:8080/"
        },
        "id": "cb0njFSIsTMo",
        "outputId": "7e71d592-0e51-4339-bb70-ec0c308bd0a9"
      },
      "source": [
        "account_length_true.describe()"
      ],
      "execution_count": 10,
      "outputs": [
        {
          "output_type": "execute_result",
          "data": {
            "text/plain": [
              "count    483.000000\n",
              "mean     102.664596\n",
              "std       39.467820\n",
              "min        1.000000\n",
              "25%       76.000000\n",
              "50%      103.000000\n",
              "75%      127.000000\n",
              "max      225.000000\n",
              "Name: Account length, dtype: float64"
            ]
          },
          "metadata": {
            "tags": []
          },
          "execution_count": 10
        }
      ]
    },
    {
      "cell_type": "code",
      "metadata": {
        "id": "c7so4ny3QxDY"
      },
      "source": [
        "# PERCENTAGE OF CHURNED CUSTOMERS IN IQR\n",
        "# churn_true.loc[(76<=churn_true['Account length']) & (churn_true['Account length']<=127)].count()\n",
        "# Percentage =  (247/483)*100 = 51.138 %"
      ],
      "execution_count": 11,
      "outputs": []
    },
    {
      "cell_type": "code",
      "metadata": {
        "colab": {
          "base_uri": "https://localhost:8080/",
          "height": 404
        },
        "id": "UsoGptJksWgn",
        "outputId": "ba0762d9-64c2-4c01-eb8b-6de22a7e34ec"
      },
      "source": [
        "account_length_false = churn_false['Account length']\n",
        "sns.distplot(account_length_false, hist=True).set(title='Account Length Not Churned Customers Distribution')\n",
        "plt.rcParams['figure.figsize'] = (15,5)"
      ],
      "execution_count": 12,
      "outputs": [
        {
          "output_type": "stream",
          "text": [
            "/usr/local/lib/python3.7/dist-packages/seaborn/distributions.py:2557: FutureWarning: `distplot` is a deprecated function and will be removed in a future version. Please adapt your code to use either `displot` (a figure-level function with similar flexibility) or `histplot` (an axes-level function for histograms).\n",
            "  warnings.warn(msg, FutureWarning)\n"
          ],
          "name": "stderr"
        },
        {
          "output_type": "display_data",
          "data": {
            "image/png": "[encoded data removed]",
            "text/plain": [
              "<Figure size 1080x360 with 1 Axes>"
            ]
          },
          "metadata": {
            "tags": [],
            "needs_background": "light"
          }
        }
      ]
    },
    {
      "cell_type": "code",
      "metadata": {
        "colab": {
          "base_uri": "https://localhost:8080/"
        },
        "id": "oGAAj-93skiy",
        "outputId": "5c7ceb92-7add-4a1b-c1c0-e884ea2c7154"
      },
      "source": [
        "account_length_false.describe()"
      ],
      "execution_count": 13,
      "outputs": [
        {
          "output_type": "execute_result",
          "data": {
            "text/plain": [
              "count    2850.000000\n",
              "mean      100.793684\n",
              "std        39.882350\n",
              "min         1.000000\n",
              "25%        73.000000\n",
              "50%       100.000000\n",
              "75%       127.000000\n",
              "max       243.000000\n",
              "Name: Account length, dtype: float64"
            ]
          },
          "metadata": {
            "tags": []
          },
          "execution_count": 13
        }
      ]
    },
    {
      "cell_type": "code",
      "metadata": {
        "colab": {
          "base_uri": "https://localhost:8080/",
          "height": 376
        },
        "id": "FI3tLpzZsnp-",
        "outputId": "19d49be2-70fd-466d-a337-e1f0fdb2419f"
      },
      "source": [
        "area_code_churn=churn_true['Area code'].value_counts().plot(kind='bar')\n",
        "plt.rcParams['figure.figsize'] = (15,5)\n",
        "plt.title('Churned Customers Distribution Across Area Codes')\n",
        "plt.ylabel('Number of churned customers')\n",
        "plt.xlabel('Area Code')"
      ],
      "execution_count": 14,
      "outputs": [
        {
          "output_type": "execute_result",
          "data": {
            "text/plain": [
              "Text(0.5, 0, 'Area Code')"
            ]
          },
          "metadata": {
            "tags": []
          },
          "execution_count": 14
        },
        {
          "output_type": "display_data",
          "data": {
            "image/png": "[encoded data removed]",
            "text/plain": [
              "<Figure size 1080x360 with 1 Axes>"
            ]
          },
          "metadata": {
            "tags": [],
            "needs_background": "light"
          }
        }
      ]
    },
    {
      "cell_type": "code",
      "metadata": {
        "colab": {
          "base_uri": "https://localhost:8080/",
          "height": 373
        },
        "id": "O_eNkydQtghu",
        "outputId": "99e18a86-751e-466a-95e0-7c0ce6dc9300"
      },
      "source": [
        "churn_true_int_plan = churn_true['International plan'].value_counts().plot(kind='bar')\n",
        "plt.rcParams['figure.figsize'] = (15,5)\n",
        "plt.title('Churned Customers International Plan')\n",
        "plt.ylabel('Number of customers')\n",
        "plt.xlabel('Plan Status')"
      ],
      "execution_count": 15,
      "outputs": [
        {
          "output_type": "execute_result",
          "data": {
            "text/plain": [
              "Text(0.5, 0, 'Plan Status')"
            ]
          },
          "metadata": {
            "tags": []
          },
          "execution_count": 15
        },
        {
          "output_type": "display_data",
          "data": {
            "image/png": "[encoded data removed]",
            "text/plain": [
              "<Figure size 1080x360 with 1 Axes>"
            ]
          },
          "metadata": {
            "tags": [],
            "needs_background": "light"
          }
        }
      ]
    },
    {
      "cell_type": "code",
      "metadata": {
        "id": "2g8FkYq6uYvF"
      },
      "source": [
        "# number of international plan churned users percentage = (137/323)*100 = 42.41% where 323 is number of interntaional plan users"
      ],
      "execution_count": 16,
      "outputs": []
    },
    {
      "cell_type": "code",
      "metadata": {
        "colab": {
          "base_uri": "https://localhost:8080/",
          "height": 373
        },
        "id": "IJUFxPxowCKM",
        "outputId": "53e06069-13f8-4795-f8ba-34d26143e403"
      },
      "source": [
        "churn_false_int_plan = churn_false['International plan'].value_counts().plot(kind='bar')\n",
        "plt.rcParams['figure.figsize'] = (15,5)\n",
        "plt.title('Not Churned Customers International Plan')\n",
        "plt.ylabel('Number of customers')\n",
        "plt.xlabel('Plan Status')"
      ],
      "execution_count": 17,
      "outputs": [
        {
          "output_type": "execute_result",
          "data": {
            "text/plain": [
              "Text(0.5, 0, 'Plan Status')"
            ]
          },
          "metadata": {
            "tags": []
          },
          "execution_count": 17
        },
        {
          "output_type": "display_data",
          "data": {
            "image/png": "[encoded data removed]",
            "text/plain": [
              "<Figure size 1080x360 with 1 Axes>"
            ]
          },
          "metadata": {
            "tags": [],
            "needs_background": "light"
          }
        }
      ]
    },
    {
      "cell_type": "code",
      "metadata": {
        "id": "IKIQRcsbwicb"
      },
      "source": [
        "# number of international plan not churned users percentage = 100 - 42.41 = 57.59%"
      ],
      "execution_count": 18,
      "outputs": []
    },
    {
      "cell_type": "code",
      "metadata": {
        "colab": {
          "base_uri": "https://localhost:8080/",
          "height": 373
        },
        "id": "ui9NLYlJwtCr",
        "outputId": "84d52936-3731-4bcf-d8dc-7203a1296d23"
      },
      "source": [
        "churn_true_voice_plan = churn_true['Voice mail plan'].value_counts().plot(kind='bar')\n",
        "plt.rcParams['figure.figsize'] = (15,5)\n",
        "plt.title('Churned Customers Voice Plan')\n",
        "plt.ylabel('Number of customers')\n",
        "plt.xlabel('Plan Status')"
      ],
      "execution_count": 19,
      "outputs": [
        {
          "output_type": "execute_result",
          "data": {
            "text/plain": [
              "Text(0.5, 0, 'Plan Status')"
            ]
          },
          "metadata": {
            "tags": []
          },
          "execution_count": 19
        },
        {
          "output_type": "display_data",
          "data": {
            "image/png": "[encoded data removed]",
            "text/plain": [
              "<Figure size 1080x360 with 1 Axes>"
            ]
          },
          "metadata": {
            "tags": [],
            "needs_background": "light"
          }
        }
      ]
    },
    {
      "cell_type": "code",
      "metadata": {
        "id": "qKvvfwqmLHi-"
      },
      "source": [
        "#  % OF CUSTOMERS CHURNED AMONG VOICE MAIL PLAN USERS =  80/922 = 8.67%"
      ],
      "execution_count": 20,
      "outputs": []
    },
    {
      "cell_type": "code",
      "metadata": {
        "colab": {
          "base_uri": "https://localhost:8080/",
          "height": 373
        },
        "id": "znA8mJxx15wV",
        "outputId": "adf92900-12b9-403d-bcc5-f2675ce89689"
      },
      "source": [
        "churn_false_voice_plan = churn_false['Voice mail plan'].value_counts().plot(kind='bar')\n",
        "plt.rcParams['figure.figsize'] = (15,5)\n",
        "plt.title('Not Churned Customers Voice Plan')\n",
        "plt.ylabel('Number of customers')\n",
        "plt.xlabel('Plan Status')"
      ],
      "execution_count": 21,
      "outputs": [
        {
          "output_type": "execute_result",
          "data": {
            "text/plain": [
              "Text(0.5, 0, 'Plan Status')"
            ]
          },
          "metadata": {
            "tags": []
          },
          "execution_count": 21
        },
        {
          "output_type": "display_data",
          "data": {
            "image/png": "[encoded data removed]",
            "text/plain": [
              "<Figure size 1080x360 with 1 Axes>"
            ]
          },
          "metadata": {
            "tags": [],
            "needs_background": "light"
          }
        }
      ]
    },
    {
      "cell_type": "code",
      "metadata": {
        "id": "309daEpHKoyr"
      },
      "source": [
        "#  % OF CUSTOMERS NOT CHURNED AMONG VOICE MAIL PLAN USERS =  100 - 8.67 = 91.33%"
      ],
      "execution_count": 22,
      "outputs": []
    },
    {
      "cell_type": "code",
      "metadata": {
        "colab": {
          "base_uri": "https://localhost:8080/",
          "height": 421
        },
        "id": "Q2YthglYOIHW",
        "outputId": "efce9ce4-1b98-426b-e78a-3491b9aacfe7"
      },
      "source": [
        "churn_true_voice_plan_messages_dist = churn_true.loc[df['Voice mail plan']=='Yes','Number vmail messages']\n",
        "sns.distplot(churn_true_voice_plan_messages_dist, hist=True).set(title='Vmail messages Distribution Among Churned Customers With Voice Plan')"
      ],
      "execution_count": 23,
      "outputs": [
        {
          "output_type": "stream",
          "text": [
            "/usr/local/lib/python3.7/dist-packages/seaborn/distributions.py:2557: FutureWarning: `distplot` is a deprecated function and will be removed in a future version. Please adapt your code to use either `displot` (a figure-level function with similar flexibility) or `histplot` (an axes-level function for histograms).\n",
            "  warnings.warn(msg, FutureWarning)\n"
          ],
          "name": "stderr"
        },
        {
          "output_type": "execute_result",
          "data": {
            "text/plain": [
              "[Text(0.5, 1.0, 'Vmail messages Distribution Among Churned Customers With Voice Plan')]"
            ]
          },
          "metadata": {
            "tags": []
          },
          "execution_count": 23
        },
        {
          "output_type": "display_data",
          "data": {
            "image/png": "[encoded data removed]",
            "text/plain": [
              "<Figure size 1080x360 with 1 Axes>"
            ]
          },
          "metadata": {
            "tags": [],
            "needs_background": "light"
          }
        }
      ]
    },
    {
      "cell_type": "code",
      "metadata": {
        "colab": {
          "base_uri": "https://localhost:8080/"
        },
        "id": "589OLtDLPlN2",
        "outputId": "45a90c43-a5b6-44a6-a54a-62ba1dde2a68"
      },
      "source": [
        "churn_true_voice_plan_messages_dist.describe()"
      ],
      "execution_count": 24,
      "outputs": [
        {
          "output_type": "execute_result",
          "data": {
            "text/plain": [
              "count    80.000000\n",
              "mean     30.887500\n",
              "std       7.219863\n",
              "min      15.000000\n",
              "25%      27.000000\n",
              "50%      31.000000\n",
              "75%      35.000000\n",
              "max      48.000000\n",
              "Name: Number vmail messages, dtype: float64"
            ]
          },
          "metadata": {
            "tags": []
          },
          "execution_count": 24
        }
      ]
    },
    {
      "cell_type": "code",
      "metadata": {
        "colab": {
          "base_uri": "https://localhost:8080/",
          "height": 421
        },
        "id": "zBzJlv6xPpB3",
        "outputId": "920c33fd-f697-4be1-8c0b-d864831b07c6"
      },
      "source": [
        "churn_false_voice_plan_messages_dist = churn_false.loc[df['Voice mail plan']=='Yes','Number vmail messages']\n",
        "sns.distplot(churn_false_voice_plan_messages_dist, hist=True).set(title='Vmail messages Distribution Among Not Churned Customers With Voice Plan')"
      ],
      "execution_count": 25,
      "outputs": [
        {
          "output_type": "stream",
          "text": [
            "/usr/local/lib/python3.7/dist-packages/seaborn/distributions.py:2557: FutureWarning: `distplot` is a deprecated function and will be removed in a future version. Please adapt your code to use either `displot` (a figure-level function with similar flexibility) or `histplot` (an axes-level function for histograms).\n",
            "  warnings.warn(msg, FutureWarning)\n"
          ],
          "name": "stderr"
        },
        {
          "output_type": "execute_result",
          "data": {
            "text/plain": [
              "[Text(0.5, 1.0, 'Vmail messages Distribution Among Not Churned Customers With Voice Plan')]"
            ]
          },
          "metadata": {
            "tags": []
          },
          "execution_count": 25
        },
        {
          "output_type": "display_data",
          "data": {
            "image/png": "[encoded data removed]",
            "text/plain": [
              "<Figure size 1080x360 with 1 Axes>"
            ]
          },
          "metadata": {
            "tags": [],
            "needs_background": "light"
          }
        }
      ]
    },
    {
      "cell_type": "code",
      "metadata": {
        "colab": {
          "base_uri": "https://localhost:8080/"
        },
        "id": "5Xi_Yf7cP4p9",
        "outputId": "aeac2a76-9aed-41fd-e1f6-f7957d02d46e"
      },
      "source": [
        "churn_false_voice_plan_messages_dist.describe()"
      ],
      "execution_count": 26,
      "outputs": [
        {
          "output_type": "execute_result",
          "data": {
            "text/plain": [
              "count    842.000000\n",
              "mean      29.124703\n",
              "std        7.576789\n",
              "min        4.000000\n",
              "25%       24.000000\n",
              "50%       29.000000\n",
              "75%       34.000000\n",
              "max       51.000000\n",
              "Name: Number vmail messages, dtype: float64"
            ]
          },
          "metadata": {
            "tags": []
          },
          "execution_count": 26
        }
      ]
    },
    {
      "cell_type": "code",
      "metadata": {
        "colab": {
          "base_uri": "https://localhost:8080/",
          "height": 421
        },
        "id": "rQpvgvHnP7cB",
        "outputId": "f52f2272-853c-4bc1-81d3-2ce9c85b7673"
      },
      "source": [
        "day_minutes_true_churned_dist = churn_true['Total day minutes']\n",
        "sns.distplot(day_minutes_true_churned_dist, hist=True).set(title='Total Day Minutes Distribution Among Churned Customers')"
      ],
      "execution_count": 27,
      "outputs": [
        {
          "output_type": "stream",
          "text": [
            "/usr/local/lib/python3.7/dist-packages/seaborn/distributions.py:2557: FutureWarning: `distplot` is a deprecated function and will be removed in a future version. Please adapt your code to use either `displot` (a figure-level function with similar flexibility) or `histplot` (an axes-level function for histograms).\n",
            "  warnings.warn(msg, FutureWarning)\n"
          ],
          "name": "stderr"
        },
        {
          "output_type": "execute_result",
          "data": {
            "text/plain": [
              "[Text(0.5, 1.0, 'Total Day Minutes Distribution Among Churned Customers')]"
            ]
          },
          "metadata": {
            "tags": []
          },
          "execution_count": 27
        },
        {
          "output_type": "display_data",
          "data": {
            "image/png": "[encoded data removed]",
            "text/plain": [
              "<Figure size 1080x360 with 1 Axes>"
            ]
          },
          "metadata": {
            "tags": [],
            "needs_background": "light"
          }
        }
      ]
    },
    {
      "cell_type": "code",
      "metadata": {
        "colab": {
          "base_uri": "https://localhost:8080/"
        },
        "id": "UaT1s9QuRHu5",
        "outputId": "3910aa7f-407e-48e3-bb34-42d4306e2972"
      },
      "source": [
        "day_minutes_true_churned_dist.describe()"
      ],
      "execution_count": 28,
      "outputs": [
        {
          "output_type": "execute_result",
          "data": {
            "text/plain": [
              "count    483.000000\n",
              "mean     206.914079\n",
              "std       68.997792\n",
              "min        0.000000\n",
              "25%      153.250000\n",
              "50%      217.600000\n",
              "75%      265.950000\n",
              "max      350.800000\n",
              "Name: Total day minutes, dtype: float64"
            ]
          },
          "metadata": {
            "tags": []
          },
          "execution_count": 28
        }
      ]
    },
    {
      "cell_type": "code",
      "metadata": {
        "colab": {
          "base_uri": "https://localhost:8080/",
          "height": 421
        },
        "id": "9yXrSIXIRL3F",
        "outputId": "8d0a17b9-ac91-404a-9278-bf18968d3f23"
      },
      "source": [
        "day_minutes_false_churned_dist = churn_false['Total day minutes']\n",
        "sns.distplot(day_minutes_false_churned_dist, hist=True).set(title='Total Day Minutes Distribution Among Not Churned Customers')"
      ],
      "execution_count": 29,
      "outputs": [
        {
          "output_type": "stream",
          "text": [
            "/usr/local/lib/python3.7/dist-packages/seaborn/distributions.py:2557: FutureWarning: `distplot` is a deprecated function and will be removed in a future version. Please adapt your code to use either `displot` (a figure-level function with similar flexibility) or `histplot` (an axes-level function for histograms).\n",
            "  warnings.warn(msg, FutureWarning)\n"
          ],
          "name": "stderr"
        },
        {
          "output_type": "execute_result",
          "data": {
            "text/plain": [
              "[Text(0.5, 1.0, 'Total Day Minutes Distribution Among Not Churned Customers')]"
            ]
          },
          "metadata": {
            "tags": []
          },
          "execution_count": 29
        },
        {
          "output_type": "display_data",
          "data": {
            "image/png": "[encoded data removed]",
            "text/plain": [
              "<Figure size 1080x360 with 1 Axes>"
            ]
          },
          "metadata": {
            "tags": [],
            "needs_background": "light"
          }
        }
      ]
    },
    {
      "cell_type": "code",
      "metadata": {
        "colab": {
          "base_uri": "https://localhost:8080/"
        },
        "id": "GFciQP8-RaT_",
        "outputId": "03b38232-e3e8-4109-f788-157afaeefa79"
      },
      "source": [
        "day_minutes_false_churned_dist.describe()"
      ],
      "execution_count": 30,
      "outputs": [
        {
          "output_type": "execute_result",
          "data": {
            "text/plain": [
              "count    2850.000000\n",
              "mean      175.175754\n",
              "std        50.181655\n",
              "min         0.000000\n",
              "25%       142.825000\n",
              "50%       177.200000\n",
              "75%       210.300000\n",
              "max       315.600000\n",
              "Name: Total day minutes, dtype: float64"
            ]
          },
          "metadata": {
            "tags": []
          },
          "execution_count": 30
        }
      ]
    },
    {
      "cell_type": "code",
      "metadata": {
        "colab": {
          "base_uri": "https://localhost:8080/"
        },
        "id": "yuEDSTioRewF",
        "outputId": "779ffd8d-95f4-46e6-a15c-624462e82117"
      },
      "source": [
        "day_charge_true_churned_dist = churn_true['Total day charge']\n",
        "day_charge_true_churned_dist.describe()"
      ],
      "execution_count": 31,
      "outputs": [
        {
          "output_type": "execute_result",
          "data": {
            "text/plain": [
              "count    483.000000\n",
              "mean      35.175921\n",
              "std       11.729710\n",
              "min        0.000000\n",
              "25%       26.055000\n",
              "50%       36.990000\n",
              "75%       45.210000\n",
              "max       59.640000\n",
              "Name: Total day charge, dtype: float64"
            ]
          },
          "metadata": {
            "tags": []
          },
          "execution_count": 31
        }
      ]
    },
    {
      "cell_type": "code",
      "metadata": {
        "colab": {
          "base_uri": "https://localhost:8080/"
        },
        "id": "d9W0KaAyS5Ad",
        "outputId": "72d36205-7fc4-4308-d8e3-b9c040b396fa"
      },
      "source": [
        "day_charge_false_churned_dist = churn_false['Total day charge']\n",
        "day_charge_false_churned_dist.describe()"
      ],
      "execution_count": 32,
      "outputs": [
        {
          "output_type": "execute_result",
          "data": {
            "text/plain": [
              "count    2850.000000\n",
              "mean       29.780421\n",
              "std         8.530835\n",
              "min         0.000000\n",
              "25%        24.282500\n",
              "50%        30.120000\n",
              "75%        35.750000\n",
              "max        53.650000\n",
              "Name: Total day charge, dtype: float64"
            ]
          },
          "metadata": {
            "tags": []
          },
          "execution_count": 32
        }
      ]
    },
    {
      "cell_type": "code",
      "metadata": {
        "id": "aOi1Pk9jTHmm"
      },
      "source": [
        "# false - - 177.2/30.12 = 5.876 minutes per dollar\n",
        "# 217.6/36.99 = 5.88 minutes per dollar"
      ],
      "execution_count": 33,
      "outputs": []
    },
    {
      "cell_type": "code",
      "metadata": {
        "colab": {
          "base_uri": "https://localhost:8080/"
        },
        "id": "JKbEfmXYVdiN",
        "outputId": "80703593-cd3a-4ccc-e589-d98fee1b1b99"
      },
      "source": [
        "eve_minutes_true_churned_dist = churn_true['Total eve minutes']\n",
        "eve_minutes_true_churned_dist.describe()"
      ],
      "execution_count": 34,
      "outputs": [
        {
          "output_type": "execute_result",
          "data": {
            "text/plain": [
              "count    483.000000\n",
              "mean     212.410145\n",
              "std       51.728910\n",
              "min       70.900000\n",
              "25%      177.100000\n",
              "50%      211.300000\n",
              "75%      249.450000\n",
              "max      363.700000\n",
              "Name: Total eve minutes, dtype: float64"
            ]
          },
          "metadata": {
            "tags": []
          },
          "execution_count": 34
        }
      ]
    },
    {
      "cell_type": "code",
      "metadata": {
        "colab": {
          "base_uri": "https://localhost:8080/"
        },
        "id": "a_e2-myTV1T2",
        "outputId": "3ce4f58a-699d-48a8-ecb4-bcef40e1ebf6"
      },
      "source": [
        "eve_minutes_false_churned_dist = churn_false['Total eve minutes']\n",
        "eve_minutes_false_churned_dist.describe()"
      ],
      "execution_count": 35,
      "outputs": [
        {
          "output_type": "execute_result",
          "data": {
            "text/plain": [
              "count    2850.000000\n",
              "mean      199.043298\n",
              "std        50.292175\n",
              "min         0.000000\n",
              "25%       164.500000\n",
              "50%       199.600000\n",
              "75%       233.200000\n",
              "max       361.800000\n",
              "Name: Total eve minutes, dtype: float64"
            ]
          },
          "metadata": {
            "tags": []
          },
          "execution_count": 35
        }
      ]
    },
    {
      "cell_type": "code",
      "metadata": {
        "colab": {
          "base_uri": "https://localhost:8080/"
        },
        "id": "jidEvDGCV95T",
        "outputId": "193bf8de-8f6a-451f-980b-c9081595b35b"
      },
      "source": [
        "eve_charge_true_churned_dist = churn_true['Total eve charge']\n",
        "eve_charge_true_churned_dist.describe()"
      ],
      "execution_count": 36,
      "outputs": [
        {
          "output_type": "execute_result",
          "data": {
            "text/plain": [
              "count    483.000000\n",
              "mean      18.054969\n",
              "std        4.396762\n",
              "min        6.030000\n",
              "25%       15.055000\n",
              "50%       17.960000\n",
              "75%       21.205000\n",
              "max       30.910000\n",
              "Name: Total eve charge, dtype: float64"
            ]
          },
          "metadata": {
            "tags": []
          },
          "execution_count": 36
        }
      ]
    },
    {
      "cell_type": "code",
      "metadata": {
        "colab": {
          "base_uri": "https://localhost:8080/"
        },
        "id": "jZ6jzZ6DWYAA",
        "outputId": "22574a50-05ce-4802-cd1d-096c24982bc0"
      },
      "source": [
        "eve_charge_false_churned_dist = churn_false['Total eve charge']\n",
        "eve_charge_false_churned_dist.describe()"
      ],
      "execution_count": 37,
      "outputs": [
        {
          "output_type": "execute_result",
          "data": {
            "text/plain": [
              "count    2850.000000\n",
              "mean       16.918909\n",
              "std         4.274863\n",
              "min         0.000000\n",
              "25%        13.980000\n",
              "50%        16.970000\n",
              "75%        19.820000\n",
              "max        30.750000\n",
              "Name: Total eve charge, dtype: float64"
            ]
          },
          "metadata": {
            "tags": []
          },
          "execution_count": 37
        }
      ]
    },
    {
      "cell_type": "code",
      "metadata": {
        "id": "LwNHQKR_WghX"
      },
      "source": [
        "# false - - 199.6/16.97 = 11.76 minutes per dollar\n",
        "# 211.3/17.96 = 11.76 minutes per dollar"
      ],
      "execution_count": 38,
      "outputs": []
    },
    {
      "cell_type": "code",
      "metadata": {
        "colab": {
          "base_uri": "https://localhost:8080/"
        },
        "id": "mxtBbbI0XN8t",
        "outputId": "9eebdadc-a6c3-4dc8-e70b-9b5f6e627ce5"
      },
      "source": [
        "night_minutes_true_churned_dist = churn_true['Total night minutes']\n",
        "night_minutes_true_churned_dist.describe()"
      ],
      "execution_count": 39,
      "outputs": [
        {
          "output_type": "execute_result",
          "data": {
            "text/plain": [
              "count    483.000000\n",
              "mean     205.231677\n",
              "std       47.132825\n",
              "min       47.400000\n",
              "25%      171.250000\n",
              "50%      204.800000\n",
              "75%      239.850000\n",
              "max      354.900000\n",
              "Name: Total night minutes, dtype: float64"
            ]
          },
          "metadata": {
            "tags": []
          },
          "execution_count": 39
        }
      ]
    },
    {
      "cell_type": "code",
      "metadata": {
        "colab": {
          "base_uri": "https://localhost:8080/"
        },
        "id": "CFLybR5AX-bW",
        "outputId": "75801098-c70b-41a4-b917-0c30ff100608"
      },
      "source": [
        "night_minutes_false_churned_dist = churn_false['Total night minutes']\n",
        "night_minutes_false_churned_dist.describe()"
      ],
      "execution_count": 40,
      "outputs": [
        {
          "output_type": "execute_result",
          "data": {
            "text/plain": [
              "count    2850.000000\n",
              "mean      200.133193\n",
              "std        51.105032\n",
              "min        23.200000\n",
              "25%       165.900000\n",
              "50%       200.250000\n",
              "75%       234.900000\n",
              "max       395.000000\n",
              "Name: Total night minutes, dtype: float64"
            ]
          },
          "metadata": {
            "tags": []
          },
          "execution_count": 40
        }
      ]
    },
    {
      "cell_type": "code",
      "metadata": {
        "colab": {
          "base_uri": "https://localhost:8080/"
        },
        "id": "kqvgj-1oYGFn",
        "outputId": "57e7017a-be55-475c-c3c6-bc1eabc35651"
      },
      "source": [
        "night_charge_true_churned_dist = churn_true['Total night charge']\n",
        "night_charge_true_churned_dist.describe()"
      ],
      "execution_count": 41,
      "outputs": [
        {
          "output_type": "execute_result",
          "data": {
            "text/plain": [
              "count    483.000000\n",
              "mean       9.235528\n",
              "std        2.121081\n",
              "min        2.130000\n",
              "25%        7.705000\n",
              "50%        9.220000\n",
              "75%       10.795000\n",
              "max       15.970000\n",
              "Name: Total night charge, dtype: float64"
            ]
          },
          "metadata": {
            "tags": []
          },
          "execution_count": 41
        }
      ]
    },
    {
      "cell_type": "code",
      "metadata": {
        "colab": {
          "base_uri": "https://localhost:8080/"
        },
        "id": "zNeknfyNZyqt",
        "outputId": "8baec6d6-0624-4849-d47f-32e1bdca4eeb"
      },
      "source": [
        "night_charge_false_churned_dist = churn_false['Total night charge']\n",
        "night_charge_false_churned_dist.describe()"
      ],
      "execution_count": 42,
      "outputs": [
        {
          "output_type": "execute_result",
          "data": {
            "text/plain": [
              "count    2850.000000\n",
              "mean        9.006074\n",
              "std         2.299768\n",
              "min         1.040000\n",
              "25%         7.470000\n",
              "50%         9.010000\n",
              "75%        10.570000\n",
              "max        17.770000\n",
              "Name: Total night charge, dtype: float64"
            ]
          },
          "metadata": {
            "tags": []
          },
          "execution_count": 42
        }
      ]
    },
    {
      "cell_type": "code",
      "metadata": {
        "id": "R7Evqr7XZ37S"
      },
      "source": [
        "# false - - 200.25/9.01 = 22.22 minutes per dollar\n",
        "# true - - 204.8/9.22 = 22.21 minutes per dollar"
      ],
      "execution_count": 43,
      "outputs": []
    },
    {
      "cell_type": "markdown",
      "metadata": {
        "id": "BzF2JeeQdYLB"
      },
      "source": [
        "INTERNATIONAL ANALYSIS"
      ]
    },
    {
      "cell_type": "code",
      "metadata": {
        "colab": {
          "base_uri": "https://localhost:8080/"
        },
        "id": "HkjjfatHaftj",
        "outputId": "42935a1d-5065-4066-c85b-10abce2984f2"
      },
      "source": [
        "churn_true.loc[churn_true['International plan']=='Yes','Total intl minutes'].median()"
      ],
      "execution_count": 44,
      "outputs": [
        {
          "output_type": "execute_result",
          "data": {
            "text/plain": [
              "11.7"
            ]
          },
          "metadata": {
            "tags": []
          },
          "execution_count": 44
        }
      ]
    },
    {
      "cell_type": "code",
      "metadata": {
        "colab": {
          "base_uri": "https://localhost:8080/"
        },
        "id": "rP0u7PofciHn",
        "outputId": "6e7ad1d1-6bbf-450e-f4f5-b788d875acaf"
      },
      "source": [
        "churn_true.loc[churn_true['International plan']=='Yes','Total intl charge'].median()"
      ],
      "execution_count": 45,
      "outputs": [
        {
          "output_type": "execute_result",
          "data": {
            "text/plain": [
              "3.16"
            ]
          },
          "metadata": {
            "tags": []
          },
          "execution_count": 45
        }
      ]
    },
    {
      "cell_type": "code",
      "metadata": {
        "id": "Vy3bEuHCcoRD"
      },
      "source": [
        "# 11.7 / 3.16 = 3.7 minutes per dollar"
      ],
      "execution_count": 46,
      "outputs": []
    },
    {
      "cell_type": "code",
      "metadata": {
        "colab": {
          "base_uri": "https://localhost:8080/"
        },
        "id": "1KO6rv-jcyEK",
        "outputId": "73be7a11-b0fc-47d1-b316-d975a35d1137"
      },
      "source": [
        "churn_false.loc[churn_false['International plan']=='Yes','Total intl minutes'].median()"
      ],
      "execution_count": 47,
      "outputs": [
        {
          "output_type": "execute_result",
          "data": {
            "text/plain": [
              "10.1"
            ]
          },
          "metadata": {
            "tags": []
          },
          "execution_count": 47
        }
      ]
    },
    {
      "cell_type": "code",
      "metadata": {
        "colab": {
          "base_uri": "https://localhost:8080/"
        },
        "id": "qJ1Ds--zdGMR",
        "outputId": "54c5c4de-14d8-47ec-bf45-4419596551c5"
      },
      "source": [
        "churn_false.loc[churn_false['International plan']=='Yes','Total intl charge'].median()"
      ],
      "execution_count": 48,
      "outputs": [
        {
          "output_type": "execute_result",
          "data": {
            "text/plain": [
              "2.73"
            ]
          },
          "metadata": {
            "tags": []
          },
          "execution_count": 48
        }
      ]
    },
    {
      "cell_type": "code",
      "metadata": {
        "id": "02t0hHLLdKX0"
      },
      "source": [
        "# 10.1 / 2.73 = 3.69 minutes per dollar "
      ],
      "execution_count": 49,
      "outputs": []
    },
    {
      "cell_type": "code",
      "metadata": {
        "colab": {
          "base_uri": "https://localhost:8080/"
        },
        "id": "SRbIuosNdk6Z",
        "outputId": "0495e56c-7487-4fe2-c680-8ef495adaddc"
      },
      "source": [
        "churn_true.loc[churn_true['International plan']=='No','Total intl minutes'].median()"
      ],
      "execution_count": 50,
      "outputs": [
        {
          "output_type": "execute_result",
          "data": {
            "text/plain": [
              "10.3"
            ]
          },
          "metadata": {
            "tags": []
          },
          "execution_count": 50
        }
      ]
    },
    {
      "cell_type": "code",
      "metadata": {
        "colab": {
          "base_uri": "https://localhost:8080/"
        },
        "id": "YXrx5D9SdoU6",
        "outputId": "81f15724-b044-4b61-a845-4be662cd0860"
      },
      "source": [
        "churn_true.loc[churn_true['International plan']=='No','Total intl charge'].median()"
      ],
      "execution_count": 51,
      "outputs": [
        {
          "output_type": "execute_result",
          "data": {
            "text/plain": [
              "2.78"
            ]
          },
          "metadata": {
            "tags": []
          },
          "execution_count": 51
        }
      ]
    },
    {
      "cell_type": "code",
      "metadata": {
        "id": "_FqDwzcEdsQw"
      },
      "source": [
        "# 10.3 / 2.78 = 3.7 minutes per dollar"
      ],
      "execution_count": 52,
      "outputs": []
    },
    {
      "cell_type": "code",
      "metadata": {
        "colab": {
          "base_uri": "https://localhost:8080/"
        },
        "id": "vnwgZWO_dzVZ",
        "outputId": "4025da64-4897-43ca-d14d-cf9d6abaaacf"
      },
      "source": [
        "churn_false.loc[churn_false['International plan']=='No','Total intl minutes'].median()"
      ],
      "execution_count": 53,
      "outputs": [
        {
          "output_type": "execute_result",
          "data": {
            "text/plain": [
              "10.2"
            ]
          },
          "metadata": {
            "tags": []
          },
          "execution_count": 53
        }
      ]
    },
    {
      "cell_type": "code",
      "metadata": {
        "colab": {
          "base_uri": "https://localhost:8080/"
        },
        "id": "5Juv917Xd_35",
        "outputId": "16d08c03-9eea-40f8-e064-28196f4dc00a"
      },
      "source": [
        "churn_false.loc[churn_false['International plan']=='No','Total intl charge'].median()"
      ],
      "execution_count": 54,
      "outputs": [
        {
          "output_type": "execute_result",
          "data": {
            "text/plain": [
              "2.75"
            ]
          },
          "metadata": {
            "tags": []
          },
          "execution_count": 54
        }
      ]
    },
    {
      "cell_type": "code",
      "metadata": {
        "id": "BJ5I5tnCeDHL"
      },
      "source": [
        "# 10.2 / 2.75 = 3.7 minutes per dollar"
      ],
      "execution_count": 55,
      "outputs": []
    },
    {
      "cell_type": "markdown",
      "metadata": {
        "id": "mFj6kNyhexah"
      },
      "source": [
        "CUSTOMER SERVICE CALLS ANALYSIS"
      ]
    },
    {
      "cell_type": "code",
      "metadata": {
        "colab": {
          "base_uri": "https://localhost:8080/",
          "height": 421
        },
        "id": "Bx2fHKg-esMK",
        "outputId": "7c86d173-e900-4afa-c9d2-b227d4d2bb95"
      },
      "source": [
        "churn_customer_calls_dist = churn_true['Customer service calls']\n",
        "sns.distplot(churn_customer_calls_dist, hist=True).set(title='Customer Service Calls Distribution Amongst Churned Ones')"
      ],
      "execution_count": 56,
      "outputs": [
        {
          "output_type": "stream",
          "text": [
            "/usr/local/lib/python3.7/dist-packages/seaborn/distributions.py:2557: FutureWarning: `distplot` is a deprecated function and will be removed in a future version. Please adapt your code to use either `displot` (a figure-level function with similar flexibility) or `histplot` (an axes-level function for histograms).\n",
            "  warnings.warn(msg, FutureWarning)\n"
          ],
          "name": "stderr"
        },
        {
          "output_type": "execute_result",
          "data": {
            "text/plain": [
              "[Text(0.5, 1.0, 'Customer Service Calls Distribution Amongst Churned Ones')]"
            ]
          },
          "metadata": {
            "tags": []
          },
          "execution_count": 56
        },
        {
          "output_type": "display_data",
          "data": {
            "image/png": "[encoded data removed]",
            "text/plain": [
              "<Figure size 1080x360 with 1 Axes>"
            ]
          },
          "metadata": {
            "tags": [],
            "needs_background": "light"
          }
        }
      ]
    },
    {
      "cell_type": "code",
      "metadata": {
        "colab": {
          "base_uri": "https://localhost:8080/"
        },
        "id": "8pk2_0GufTdW",
        "outputId": "e0a760a0-15f2-4cf2-8fa3-90e83415163e"
      },
      "source": [
        "churn_customer_calls_dist.describe()"
      ],
      "execution_count": 57,
      "outputs": [
        {
          "output_type": "execute_result",
          "data": {
            "text/plain": [
              "count    483.000000\n",
              "mean       2.229814\n",
              "std        1.853275\n",
              "min        0.000000\n",
              "25%        1.000000\n",
              "50%        2.000000\n",
              "75%        4.000000\n",
              "max        9.000000\n",
              "Name: Customer service calls, dtype: float64"
            ]
          },
          "metadata": {
            "tags": []
          },
          "execution_count": 57
        }
      ]
    },
    {
      "cell_type": "code",
      "metadata": {
        "colab": {
          "base_uri": "https://localhost:8080/",
          "height": 421
        },
        "id": "F3iaxsWRfX7c",
        "outputId": "3731ae0b-d0a7-42bc-a555-e4e9a51564de"
      },
      "source": [
        "not_churn_customer_calls_dist = churn_false['Customer service calls']\n",
        "sns.distplot(not_churn_customer_calls_dist, hist=True).set(title='Customer Service Calls Distribution Amongst Not Churned Ones')"
      ],
      "execution_count": 58,
      "outputs": [
        {
          "output_type": "stream",
          "text": [
            "/usr/local/lib/python3.7/dist-packages/seaborn/distributions.py:2557: FutureWarning: `distplot` is a deprecated function and will be removed in a future version. Please adapt your code to use either `displot` (a figure-level function with similar flexibility) or `histplot` (an axes-level function for histograms).\n",
            "  warnings.warn(msg, FutureWarning)\n"
          ],
          "name": "stderr"
        },
        {
          "output_type": "execute_result",
          "data": {
            "text/plain": [
              "[Text(0.5, 1.0, 'Customer Service Calls Distribution Amongst Not Churned Ones')]"
            ]
          },
          "metadata": {
            "tags": []
          },
          "execution_count": 58
        },
        {
          "output_type": "display_data",
          "data": {
            "image/png": "[encoded data removed]",
            "text/plain": [
              "<Figure size 1080x360 with 1 Axes>"
            ]
          },
          "metadata": {
            "tags": [],
            "needs_background": "light"
          }
        }
      ]
    },
    {
      "cell_type": "code",
      "metadata": {
        "colab": {
          "base_uri": "https://localhost:8080/"
        },
        "id": "mKEakPQvfwtU",
        "outputId": "75c2895e-cafa-412b-ebf5-be7e4498c458"
      },
      "source": [
        "not_churn_customer_calls_dist.describe()"
      ],
      "execution_count": 59,
      "outputs": [
        {
          "output_type": "execute_result",
          "data": {
            "text/plain": [
              "count    2850.000000\n",
              "mean        1.449825\n",
              "std         1.163883\n",
              "min         0.000000\n",
              "25%         1.000000\n",
              "50%         1.000000\n",
              "75%         2.000000\n",
              "max         8.000000\n",
              "Name: Customer service calls, dtype: float64"
            ]
          },
          "metadata": {
            "tags": []
          },
          "execution_count": 59
        }
      ]
    },
    {
      "cell_type": "code",
      "metadata": {
        "id": "At4rdwthPcj5"
      },
      "source": [
        "#  EXTRA PART ANALYSIS\n",
        "month_df = df[['Account length','Churn']]\n",
        "month_df=month_df.apply(lambda x: x//28 if x.name == 'Account length' else x)\n",
        "month_df=month_df.rename(columns={'Account length':'Month'})"
      ],
      "execution_count": 60,
      "outputs": []
    },
    {
      "cell_type": "code",
      "metadata": {
        "colab": {
          "base_uri": "https://localhost:8080/"
        },
        "id": "Y1s2hTMtVW0a",
        "outputId": "8b85cdb1-1618-49c7-de69-370042739956"
      },
      "source": [
        "month_df_grouped = month_df.groupby('Month')['Churn'].value_counts()\n",
        "month_df_grouped"
      ],
      "execution_count": 61,
      "outputs": [
        {
          "output_type": "execute_result",
          "data": {
            "text/plain": [
              "Month  Churn\n",
              "0      False     93\n",
              "       True      16\n",
              "1      False    274\n",
              "       True      41\n",
              "2      False    577\n",
              "       True      95\n",
              "3      False    783\n",
              "       True     134\n",
              "4      False    653\n",
              "       True     121\n",
              "5      False    333\n",
              "       True      49\n",
              "6      False    111\n",
              "       True      20\n",
              "7      False     22\n",
              "       True       5\n",
              "8      False      4\n",
              "       True       2\n",
              "Name: Churn, dtype: int64"
            ]
          },
          "metadata": {
            "tags": []
          },
          "execution_count": 61
        }
      ]
    },
    {
      "cell_type": "code",
      "metadata": {
        "colab": {
          "base_uri": "https://localhost:8080/"
        },
        "id": "1ygdGSQvtqsQ",
        "outputId": "1e5212a0-261e-4037-c3dc-a4455e9aee44"
      },
      "source": [
        "list1= list(month_df_grouped.values)\n",
        "list2 = list(month_df.groupby('Month')['Churn'].count())\n",
        "print(list1,list2)"
      ],
      "execution_count": 62,
      "outputs": [
        {
          "output_type": "stream",
          "text": [
            "[93, 16, 274, 41, 577, 95, 783, 134, 653, 121, 333, 49, 111, 20, 22, 5, 4, 2] [109, 315, 672, 917, 774, 382, 131, 27, 6]\n"
          ],
          "name": "stdout"
        }
      ]
    },
    {
      "cell_type": "code",
      "metadata": {
        "colab": {
          "base_uri": "https://localhost:8080/"
        },
        "id": "LKsFxXv4t5IA",
        "outputId": "8da2dfd6-6216-4525-9693-25bac3ae10ea"
      },
      "source": [
        "list11 = []\n",
        "for i in range(0,18,2):\n",
        "  list11.append(list1[i])\n",
        "list22 = []\n",
        "for i in range(1,19,2):\n",
        "  list22.append(list1[i])\n",
        "print(list11,list22)"
      ],
      "execution_count": 63,
      "outputs": [
        {
          "output_type": "stream",
          "text": [
            "[93, 274, 577, 783, 653, 333, 111, 22, 4] [16, 41, 95, 134, 121, 49, 20, 5, 2]\n"
          ],
          "name": "stdout"
        }
      ]
    },
    {
      "cell_type": "code",
      "metadata": {
        "colab": {
          "base_uri": "https://localhost:8080/"
        },
        "id": "AAA4mJ_JvIzq",
        "outputId": "f0716086-425f-4963-a1a5-567206d22929"
      },
      "source": [
        "for i in range(len(list22)):\n",
        "  percent=(list22[i])/(list2[i])*100\n",
        "  print(percent)"
      ],
      "execution_count": 64,
      "outputs": [
        {
          "output_type": "stream",
          "text": [
            "14.678899082568808\n",
            "13.015873015873018\n",
            "14.136904761904761\n",
            "14.612868047982552\n",
            "15.633074935400519\n",
            "12.827225130890053\n",
            "15.267175572519085\n",
            "18.51851851851852\n",
            "33.33333333333333\n"
          ],
          "name": "stdout"
        }
      ]
    },
    {
      "cell_type": "code",
      "metadata": {
        "id": "N2ThBv3nysFg"
      },
      "source": [
        ""
      ],
      "execution_count": 64,
      "outputs": []
    }
  ]
}